{
 "cells": [
  {
   "cell_type": "code",
   "execution_count": 2,
   "metadata": {},
   "outputs": [],
   "source": [
    "import pandas as pd \n",
    "from glob import glob\n",
    "import os\n",
    "import office365\n",
    "import requests\n",
    "import pyarrow as pa\n",
    "import pyarrow.parquet as pq\n",
    "\n",
    "import warnings\n",
    "warnings.filterwarnings(\"ignore\")"
   ]
  },
  {
   "cell_type": "code",
   "execution_count": 3,
   "metadata": {},
   "outputs": [],
   "source": [
    "# path = \"D:\\pnj.com.vn\\HuynhTN - Documents\\Project\\streamlit\"\n",
    "# f = glob(\"Dthu\\*csv\")\n",
    "# files_Dthu_parquet = glob(os.path.join(path, \"dthu_parquet_files\\\\*.parquet\"))\n",
    "# files_CP = glob(os.path.join(path, \"CP\\\\*.csv\"))\n",
    "# files_Others = glob(os.path.join(path, \"Others\\\\*.csv\"))\n",
    "# files_SLBan = glob(os.path.join(path, \"SLBan\\\\*.csv\"))\n",
    "# files_TK = glob(os.path.join(path, \"TK\\\\*.csv\"))\n",
    "dthu = r'D:\\pnj.com.vn\\HuynhTN - Documents\\Project\\streamlit\\dthu.parquet'"
   ]
  },
  {
   "cell_type": "markdown",
   "metadata": {},
   "source": [
    "# Ke Hoach"
   ]
  },
  {
   "cell_type": "code",
   "execution_count": 76,
   "metadata": {},
   "outputs": [
    {
     "data": {
      "text/plain": [
       "['D:\\\\pnj.com.vn\\\\HuynhTN - Documents\\\\Data\\\\Planning\\\\Planning2024.xlsx',\n",
       " 'D:\\\\pnj.com.vn\\\\HuynhTN - Documents\\\\Data\\\\Planning\\\\Planning2025.xlsx']"
      ]
     },
     "execution_count": 76,
     "metadata": {},
     "output_type": "execute_result"
    }
   ],
   "source": [
    "glob(os.path.join(path_kh, \"*.xlsx\"))"
   ]
  },
  {
   "cell_type": "code",
   "execution_count": 116,
   "metadata": {},
   "outputs": [
    {
     "name": "stderr",
     "output_type": "stream",
     "text": [
      "C:\\Users\\huynh.th\\AppData\\Local\\Temp\\ipykernel_25356\\2305473679.py:28: UserWarning: Could not infer format, so each element will be parsed individually, falling back to `dateutil`. To ensure parsing is consistent and as-expected, please specify a format.\n",
      "  pd_df[\"Tháng\"] = pd.to_datetime(pd_df[\"Tháng\"].astype('str') + '-' + file[-9:-5]).dt.to_period('M')\n",
      "C:\\Users\\huynh.th\\AppData\\Local\\Temp\\ipykernel_25356\\2305473679.py:28: UserWarning: Could not infer format, so each element will be parsed individually, falling back to `dateutil`. To ensure parsing is consistent and as-expected, please specify a format.\n",
      "  pd_df[\"Tháng\"] = pd.to_datetime(pd_df[\"Tháng\"].astype('str') + '-' + file[-9:-5]).dt.to_period('M')\n"
     ]
    },
    {
     "name": "stdout",
     "output_type": "stream",
     "text": [
      "<PeriodArray>\n",
      "['2024-01', '2024-02', '2024-03', '2024-04', '2024-05', '2024-06', '2024-07',\n",
      " '2024-08', '2024-09', '2024-10', '2024-11', '2024-12', '2025-01', '2025-02',\n",
      " '2025-03', '2025-04', '2025-05', '2025-06', '2025-07', '2025-08', '2025-09',\n",
      " '2025-10', '2025-11', '2025-12']\n",
      "Length: 24, dtype: period[M]\n"
     ]
    }
   ],
   "source": [
    "import pyarrow as pa\n",
    "import pyarrow.parquet as pq\n",
    "import pandas as pd\n",
    "from glob import glob\n",
    "import os\n",
    "\n",
    "parquet_file = ['dthu.parquet', 'cphi.parquet', 'others.`parquet', 'tonkho.parquet', 'kh.parquet']\n",
    "path_kh = r\"D:\\pnj.com.vn\\HuynhTN - Documents\\Data\\Planning\"\n",
    "\n",
    "\n",
    "output_path = r\"D:\\pnj.com.vn\\HuynhTN - Documents\\Project\\streamlit\"\n",
    "parquet_file_kh = os.path.join(output_path, parquet_file[-1])\n",
    "\n",
    "excel_list_files = glob(os.path.join(path_kh, \"*.xlsx\"))\n",
    "# print(excel_list_files)\n",
    "df = pd.DataFrame()\n",
    "for file in excel_list_files:\n",
    "    # print(file)\n",
    "    pd_df = pd.read_excel(file, sheet_name=\"Budget_Total\", header=1)\n",
    "    pd_df = pd_df[pd_df[\"Tháng\"].isin(range(1, 13))]\n",
    "    col = [\"T\", \"9999\", \"VP\"]\n",
    "    pd_df = pd_df.drop(columns=col)\n",
    "    # unstack the dataframe keep 3 first columns name level_3 is Plant Code\n",
    "    pd_df = pd_df.set_index(['Chi Phí', 'Chi tiết', 'Tháng']).stack().reset_index(name='Amt')\n",
    "    pd_df = pd_df.rename(columns={\"level_3\": \"Plant Code\"})\n",
    "    pd_df.groupby([\"Chi Phí\", \"Chi tiết\"])[\"Amt\"].sum().reset_index()\n",
    "    pd_df = pd_df[pd_df['Amt'] != 0]\n",
    "    pd_df[\"Tháng\"] = pd.to_datetime(pd_df[\"Tháng\"].astype('str') + '-' + file[-9:-5]).dt.to_period('M')\n",
    "    pd_df[\"Plant Code\"] = pd_df[\"Plant Code\"].astype(str)\n",
    "    df = pd.concat([df, pd_df])\n",
    "print(df[\"Tháng\"].unique())\n",
    "table = pa.Table.from_pandas(df)\n",
    "pq.write_table(table, parquet_file_kh)\n",
    "\n",
    "\n",
    "\n",
    "# print(parquet_file_kh)\n",
    "\n",
    "# if not os.path.exists(parquet_file_kh):\n",
    "#     df = pd.DataFrame()\n",
    "#     for file in excel_list_files:\n",
    "#         print(file)\n",
    "#         pd_df = pd.read_excel(file, sheet_name=\"Budget_Total\", header=1)\n",
    "#         pd_df = pd_df[pd_df[\"Tháng\"].isin(range(1, 13))]\n",
    "#         col = [\"T\", \"9999\", \"VP\"]\n",
    "#         pd_df = pd_df.drop(columns=col)\n",
    "#         # unstack the dataframe keep 3 first columns name level_3 is Plant Code\n",
    "#         pd_df = pd_df.set_index(['Chi Phí', 'Chi tiết', 'Tháng']).stack().reset_index(name='Amt')\n",
    "#         pd_df = pd_df.rename(columns={\"level_3\": \"Plant Code\"})\n",
    "#         pd_df.groupby([\"Chi Phí\", \"Chi tiết\"])[\"Amt\"].sum().reset_index()\n",
    "#         pd_df = pd_df[pd_df['Amt'] != 0]\n",
    "#         pd_df[\"Tháng\"] = pd.to_datetime(pd_df[\"Tháng\"].astype('str') + '-' + file[-9:-5]).dt.to_period('M')\n",
    "#         pd_df[\"Plant Code\"] = pd_df[\"Plant Code\"].astype(str)\n",
    "#         df = pd.concat([df, pd_df])\n",
    "#     table = pa.Table.from_pandas(df)\n",
    "#     pq.write_table(table, parquet_file_kh)"
   ]
  },
  {
   "cell_type": "code",
   "execution_count": 121,
   "metadata": {},
   "outputs": [
    {
     "data": {
      "text/plain": [
       "<PeriodArray>\n",
       "['2024-01', '2024-02', '2024-03', '2024-04', '2024-05', '2024-06', '2024-07',\n",
       " '2024-08', '2024-09', '2024-10', '2024-11', '2024-12', '2025-01', '2025-02',\n",
       " '2025-03', '2025-04', '2025-05', '2025-06', '2025-07', '2025-08', '2025-09',\n",
       " '2025-10', '2025-11', '2025-12']\n",
       "Length: 24, dtype: period[M]"
      ]
     },
     "execution_count": 121,
     "metadata": {},
     "output_type": "execute_result"
    }
   ],
   "source": [
    "df = pd.read_parquet(parquet_file_kh)\n",
    "df[\"Tháng\"].unique()\n",
    "# pd.kh = pd.read_parquet(parquet_file_kh)\n",
    "# pd.kh[\"Tháng\"].unique()"
   ]
  },
  {
   "cell_type": "code",
   "execution_count": 71,
   "metadata": {},
   "outputs": [
    {
     "name": "stderr",
     "output_type": "stream",
     "text": [
      "C:\\Users\\huynh.th\\AppData\\Local\\Temp\\ipykernel_25356\\2139715762.py:17: UserWarning: Could not infer format, so each element will be parsed individually, falling back to `dateutil`. To ensure parsing is consistent and as-expected, please specify a format.\n",
      "  kehoach[\"Tháng\"] = pd.to_datetime(kehoach[\"Tháng\"].astype('str') + '-' + path[-9:-5]).dt.to_period('M')\n"
     ]
    }
   ],
   "source": [
    "import pandas as pd\n",
    "\n",
    "path2025 = r'https://raw.githubusercontent.com/Huynh-Tr/report/main/Planning2025.xlsx'\n",
    "path2024 = r'https://raw.githubusercontent.com/Huynh-Tr/report/main/Planning2024.xlsx'\n",
    "\n",
    "paths = {2024: path2024, 2025: path2025}\n",
    "\n",
    "def kehoach(path):\n",
    "    kehoach = pd.read_excel(path, sheet_name=\"Budget_Total\", header=1)\n",
    "    kehoach = kehoach[kehoach[\"Tháng\"].isin(range(1, 13))]\n",
    "    col = [\"T\", \"9999\", \"VP\"]\n",
    "    kehoach = kehoach.drop(columns=col)\n",
    "    # unstack the dataframe keep 3 first columns name level_3 is Plant Code\n",
    "    kehoach = kehoach.set_index(['Chi Phí', 'Chi tiết', 'Tháng']).stack().reset_index(name='Amt')\n",
    "    kehoach = kehoach.rename(columns={\"level_3\": \"Plant Code\"})\n",
    "    kehoach.groupby([\"Chi Phí\", \"Chi tiết\"])[\"Amt\"].sum().reset_index()\n",
    "    kehoach[\"Tháng\"] = pd.to_datetime(kehoach[\"Tháng\"].astype('str') + '-' + path[-9:-5]).dt.to_period('M')\n",
    "    kehoach = kehoach[kehoach['Amt'] != 0]\n",
    "\n",
    "    return kehoach\n",
    "\n",
    "def result_kh(year=2024):\n",
    "    df = kehoach(path2025)\n",
    "    return df\n",
    "kehoach = result_kh()"
   ]
  },
  {
   "cell_type": "code",
   "execution_count": 72,
   "metadata": {},
   "outputs": [
    {
     "data": {
      "application/vnd.microsoft.datawrangler.viewer.v0+json": {
       "columns": [
        {
         "name": "index",
         "rawType": "int64",
         "type": "integer"
        },
        {
         "name": "Chi Phí",
         "rawType": "object",
         "type": "string"
        },
        {
         "name": "Chi tiết",
         "rawType": "object",
         "type": "string"
        },
        {
         "name": "Tháng",
         "rawType": "period[M]",
         "type": "unknown"
        },
        {
         "name": "Plant Code",
         "rawType": "object",
         "type": "unknown"
        },
        {
         "name": "Amt",
         "rawType": "float64",
         "type": "float"
        }
       ],
       "conversionMethod": "pd.DataFrame",
       "ref": "592ca673-49ad-4f1c-8fd7-00d0f7c57e3a",
       "rows": [
        [
         "8",
         "Doanh Thu",
         "TSV",
         "2025-01",
         "1409",
         "2001.3068150426773"
        ],
        [
         "9",
         "Doanh Thu",
         "TSV",
         "2025-01",
         "1256",
         "10250.120024139447"
        ],
        [
         "10",
         "Doanh Thu",
         "TSV",
         "2025-01",
         "1255",
         "2203.7094307883244"
        ],
        [
         "11",
         "Doanh Thu",
         "TSV",
         "2025-01",
         "1558",
         "3122.095273810594"
        ],
        [
         "12",
         "Doanh Thu",
         "TSV",
         "2025-01",
         "1504",
         "6481.775289094899"
        ],
        [
         "13",
         "Doanh Thu",
         "TSV",
         "2025-01",
         "1404",
         "4933.256718106609"
        ],
        [
         "14",
         "Doanh Thu",
         "TSV",
         "2025-01",
         "1115",
         "8192.220211514714"
        ],
        [
         "15",
         "Doanh Thu",
         "TSV",
         "2025-01",
         "1316",
         "8671.419799500107"
        ],
        [
         "16",
         "Doanh Thu",
         "TSV",
         "2025-01",
         "1317",
         "2334.0622220512228"
        ],
        [
         "17",
         "Doanh Thu",
         "TSV",
         "2025-01",
         "1318",
         "2764.273449286509"
        ],
        [
         "18",
         "Doanh Thu",
         "TSV",
         "2025-01",
         "1534",
         "6174.510919430102"
        ],
        [
         "19",
         "Doanh Thu",
         "TSV",
         "2025-01",
         "1541",
         "2462.6317371639057"
        ],
        [
         "20",
         "Doanh Thu",
         "TSV",
         "2025-01",
         "1575",
         "2615.256714293189"
        ],
        [
         "21",
         "Doanh Thu",
         "TSV",
         "2025-01",
         "1277",
         "14172.935448856282"
        ],
        [
         "22",
         "Doanh Thu",
         "TSV",
         "2025-01",
         "1278",
         "2207.022231411559"
        ],
        [
         "23",
         "Doanh Thu",
         "TSV",
         "2025-01",
         "1370",
         "8042.548232886356"
        ],
        [
         "24",
         "Doanh Thu",
         "TSV",
         "2025-01",
         "1473",
         "2139.2523367718686"
        ],
        [
         "25",
         "Doanh Thu",
         "TSV",
         "2025-01",
         "1517",
         "3609.9642667671565"
        ],
        [
         "26",
         "Doanh Thu",
         "TSV",
         "2025-01",
         "1493",
         "2219.79758830824"
        ],
        [
         "27",
         "Doanh Thu",
         "TSV",
         "2025-01",
         "1555",
         "3673.782940438127"
        ],
        [
         "28",
         "Doanh Thu",
         "TSV",
         "2025-01",
         "1280",
         "2208.446228260288"
        ],
        [
         "29",
         "Doanh Thu",
         "TSV",
         "2025-01",
         "1401",
         "4818.735199667115"
        ],
        [
         "30",
         "Doanh Thu",
         "TSV",
         "2025-01",
         "1532",
         "2819.3670799048227"
        ],
        [
         "31",
         "Doanh Thu",
         "TSV",
         "2025-01",
         "1294",
         "5422.1960496418515"
        ],
        [
         "32",
         "Doanh Thu",
         "TSV",
         "2025-01",
         "1295",
         "1564.6205378596762"
        ],
        [
         "33",
         "Doanh Thu",
         "TSV",
         "2025-01",
         "1445",
         "4523.892243280966"
        ],
        [
         "34",
         "Doanh Thu",
         "TSV",
         "2025-01",
         "1539",
         "3989.2906025200814"
        ],
        [
         "35",
         "Doanh Thu",
         "TSV",
         "2025-01",
         "1579",
         "2490.9581715976437"
        ],
        [
         "36",
         "Doanh Thu",
         "TSV",
         "2025-01",
         "1314",
         "7520.863556417588"
        ],
        [
         "37",
         "Doanh Thu",
         "TSV",
         "2025-01",
         "1467",
         "1046.3411811635397"
        ],
        [
         "38",
         "Doanh Thu",
         "TSV",
         "2025-01",
         "1307",
         "1781.302434403606"
        ],
        [
         "39",
         "Doanh Thu",
         "TSV",
         "2025-01",
         "1470",
         "1240.4015210853643"
        ],
        [
         "40",
         "Doanh Thu",
         "TSV",
         "2025-01",
         "1489",
         "5191.787618318293"
        ],
        [
         "41",
         "Doanh Thu",
         "TSV",
         "2025-01",
         "1373",
         "9963.182176747623"
        ],
        [
         "42",
         "Doanh Thu",
         "TSV",
         "2025-01",
         "1477",
         "1753.2254223799616"
        ],
        [
         "43",
         "Doanh Thu",
         "TSV",
         "2025-01",
         "1405",
         "1434.68172708763"
        ],
        [
         "44",
         "Doanh Thu",
         "TSV",
         "2025-01",
         "1447",
         "6199.128727046253"
        ],
        [
         "45",
         "Doanh Thu",
         "TSV",
         "2025-01",
         "1548",
         "3053.109616972454"
        ],
        [
         "46",
         "Doanh Thu",
         "TSV",
         "2025-01",
         "1376",
         "8014.174210656312"
        ],
        [
         "47",
         "Doanh Thu",
         "TSV",
         "2025-01",
         "1516",
         "3879.3523557928493"
        ],
        [
         "48",
         "Doanh Thu",
         "TSV",
         "2025-01",
         "1565",
         "2299.3699304637053"
        ],
        [
         "49",
         "Doanh Thu",
         "TSV",
         "2025-01",
         "1329",
         "1369.041389564705"
        ],
        [
         "50",
         "Doanh Thu",
         "TSV",
         "2025-01",
         "1330",
         "6521.516754663638"
        ],
        [
         "51",
         "Doanh Thu",
         "TSV",
         "2025-01",
         "1596",
         "3311.3713767102677"
        ],
        [
         "52",
         "Doanh Thu",
         "TSV",
         "2025-01",
         "1617",
         "6763.407782367505"
        ],
        [
         "53",
         "Doanh Thu",
         "TSV",
         "2025-01",
         "1627",
         "2962.7347515568035"
        ],
        [
         "54",
         "Doanh Thu",
         "TSV",
         "2025-01",
         "1628",
         "1571.674161842876"
        ],
        [
         "55",
         "Doanh Thu",
         "TSV",
         "2025-01",
         "1632",
         "1609.041593673405"
        ],
        [
         "56",
         "Doanh Thu",
         "TSV",
         "2025-01",
         "1634",
         "1427.4431414911764"
        ],
        [
         "57",
         "Doanh Thu",
         "TSV",
         "2025-01",
         "1644",
         "3432.5637333825384"
        ]
       ],
       "shape": {
        "columns": 5,
        "rows": 8910
       }
      },
      "text/html": [
       "<div>\n",
       "<style scoped>\n",
       "    .dataframe tbody tr th:only-of-type {\n",
       "        vertical-align: middle;\n",
       "    }\n",
       "\n",
       "    .dataframe tbody tr th {\n",
       "        vertical-align: top;\n",
       "    }\n",
       "\n",
       "    .dataframe thead th {\n",
       "        text-align: right;\n",
       "    }\n",
       "</style>\n",
       "<table border=\"1\" class=\"dataframe\">\n",
       "  <thead>\n",
       "    <tr style=\"text-align: right;\">\n",
       "      <th></th>\n",
       "      <th>Chi Phí</th>\n",
       "      <th>Chi tiết</th>\n",
       "      <th>Tháng</th>\n",
       "      <th>Plant Code</th>\n",
       "      <th>Amt</th>\n",
       "    </tr>\n",
       "  </thead>\n",
       "  <tbody>\n",
       "    <tr>\n",
       "      <th>8</th>\n",
       "      <td>Doanh Thu</td>\n",
       "      <td>TSV</td>\n",
       "      <td>2025-01</td>\n",
       "      <td>1409</td>\n",
       "      <td>2001.306815</td>\n",
       "    </tr>\n",
       "    <tr>\n",
       "      <th>9</th>\n",
       "      <td>Doanh Thu</td>\n",
       "      <td>TSV</td>\n",
       "      <td>2025-01</td>\n",
       "      <td>1256</td>\n",
       "      <td>10250.120024</td>\n",
       "    </tr>\n",
       "    <tr>\n",
       "      <th>10</th>\n",
       "      <td>Doanh Thu</td>\n",
       "      <td>TSV</td>\n",
       "      <td>2025-01</td>\n",
       "      <td>1255</td>\n",
       "      <td>2203.709431</td>\n",
       "    </tr>\n",
       "    <tr>\n",
       "      <th>11</th>\n",
       "      <td>Doanh Thu</td>\n",
       "      <td>TSV</td>\n",
       "      <td>2025-01</td>\n",
       "      <td>1558</td>\n",
       "      <td>3122.095274</td>\n",
       "    </tr>\n",
       "    <tr>\n",
       "      <th>12</th>\n",
       "      <td>Doanh Thu</td>\n",
       "      <td>TSV</td>\n",
       "      <td>2025-01</td>\n",
       "      <td>1504</td>\n",
       "      <td>6481.775289</td>\n",
       "    </tr>\n",
       "    <tr>\n",
       "      <th>...</th>\n",
       "      <td>...</td>\n",
       "      <td>...</td>\n",
       "      <td>...</td>\n",
       "      <td>...</td>\n",
       "      <td>...</td>\n",
       "    </tr>\n",
       "    <tr>\n",
       "      <th>15354</th>\n",
       "      <td>Tồn Kho BQ</td>\n",
       "      <td>Tồn Kho BQ</td>\n",
       "      <td>2025-12</td>\n",
       "      <td>1632</td>\n",
       "      <td>9914.240000</td>\n",
       "    </tr>\n",
       "    <tr>\n",
       "      <th>15355</th>\n",
       "      <td>Tồn Kho BQ</td>\n",
       "      <td>Tồn Kho BQ</td>\n",
       "      <td>2025-12</td>\n",
       "      <td>1634</td>\n",
       "      <td>6142.080000</td>\n",
       "    </tr>\n",
       "    <tr>\n",
       "      <th>15356</th>\n",
       "      <td>Tồn Kho BQ</td>\n",
       "      <td>Tồn Kho BQ</td>\n",
       "      <td>2025-12</td>\n",
       "      <td>1644</td>\n",
       "      <td>11520.000000</td>\n",
       "    </tr>\n",
       "    <tr>\n",
       "      <th>15357</th>\n",
       "      <td>Tồn Kho BQ</td>\n",
       "      <td>Tồn Kho BQ</td>\n",
       "      <td>2025-12</td>\n",
       "      <td>1647</td>\n",
       "      <td>12130.720000</td>\n",
       "    </tr>\n",
       "    <tr>\n",
       "      <th>15358</th>\n",
       "      <td>Tồn Kho BQ</td>\n",
       "      <td>Tồn Kho BQ</td>\n",
       "      <td>2025-12</td>\n",
       "      <td>1648</td>\n",
       "      <td>5477.439577</td>\n",
       "    </tr>\n",
       "  </tbody>\n",
       "</table>\n",
       "<p>8910 rows × 5 columns</p>\n",
       "</div>"
      ],
      "text/plain": [
       "          Chi Phí    Chi tiết    Tháng Plant Code           Amt\n",
       "8       Doanh Thu         TSV  2025-01       1409   2001.306815\n",
       "9       Doanh Thu         TSV  2025-01       1256  10250.120024\n",
       "10      Doanh Thu         TSV  2025-01       1255   2203.709431\n",
       "11      Doanh Thu         TSV  2025-01       1558   3122.095274\n",
       "12      Doanh Thu         TSV  2025-01       1504   6481.775289\n",
       "...           ...         ...      ...        ...           ...\n",
       "15354  Tồn Kho BQ  Tồn Kho BQ  2025-12       1632   9914.240000\n",
       "15355  Tồn Kho BQ  Tồn Kho BQ  2025-12       1634   6142.080000\n",
       "15356  Tồn Kho BQ  Tồn Kho BQ  2025-12       1644  11520.000000\n",
       "15357  Tồn Kho BQ  Tồn Kho BQ  2025-12       1647  12130.720000\n",
       "15358  Tồn Kho BQ  Tồn Kho BQ  2025-12       1648   5477.439577\n",
       "\n",
       "[8910 rows x 5 columns]"
      ]
     },
     "execution_count": 72,
     "metadata": {},
     "output_type": "execute_result"
    }
   ],
   "source": [
    "kehoach"
   ]
  },
  {
   "cell_type": "code",
   "execution_count": 10,
   "metadata": {},
   "outputs": [
    {
     "name": "stderr",
     "output_type": "stream",
     "text": [
      "C:\\Users\\huynh.th\\AppData\\Local\\Temp\\ipykernel_29104\\2202429513.py:19: UserWarning: Could not infer format, so each element will be parsed individually, falling back to `dateutil`. To ensure parsing is consistent and as-expected, please specify a format.\n",
      "  kehoach[\"Month\"] = pd.to_datetime(kehoach[\"Tháng\"].astype('str') + \"-2025\").dt.to_period('M')\n"
     ]
    }
   ],
   "source": [
    "import pandas as pd\n",
    "from glob import glob\n",
    "import os\n",
    "import requests\n",
    "\n",
    "path = r\"D:\\pnj.com.vn\\HuynhTN - Documents\\2025\\Planning\"\n",
    "\n",
    "def kehoach(path):\n",
    "\n",
    "    kehoach = os.path.join(path, \"Planning2025.xlsx\")\n",
    "    kehoach = pd.read_excel(kehoach, sheet_name=\"Budget_Total\", header=1)\n",
    "    kehoach = kehoach[kehoach[\"Tháng\"].isin(range(1, 13))]\n",
    "    col = [\"T\", \"9999\"]\n",
    "    kehoach = kehoach.drop(columns=col)\n",
    "    # unstack the dataframe keep 3 first columns name level_3 is Plant Code\n",
    "    kehoach = kehoach.set_index(['Chi Phí', 'Chi tiết', 'Tháng']).stack().reset_index(name='Amt')\n",
    "    kehoach = kehoach.rename(columns={\"level_3\": \"Plant Code\"})\n",
    "    kehoach.groupby([\"Chi Phí\", \"Chi tiết\"])[\"Amt\"].sum().reset_index()\n",
    "    kehoach[\"Month\"] = pd.to_datetime(kehoach[\"Tháng\"].astype('str') + \"-2025\").dt.to_period('M')\n",
    "\n",
    "    return kehoach\n",
    "\n",
    "def get_chitieu(kehoach, chi_phi, chi_tiet, thang, nam):\n",
    "    return kehoach[(kehoach[\"Chi Phí\"] == chi_phi) & (kehoach[\"Chi tiết\"] == chi_tiet) & (kehoach[\"Month\"].dt.month.isin([thang])) & (kehoach[\"Month\"].dt.year.isin([nam]))][\"Amt\"].sum()\n",
    "\n",
    "kehoach = kehoach(path)\n",
    "dthu_tsv = get_chitieu(kehoach, \"Doanh Thu\", \"TSV\", 1, 2025)\n",
    "dthu_vm = get_chitieu(kehoach, \"Doanh Thu\", \"VM\", 1, 2025)\n",
    "lgop_tsv = get_chitieu(kehoach, \"Lãi Gộp\", \"TSV\", 1, 2025)\n",
    "lgop_vm = get_chitieu(kehoach, \"Lãi Gộp\", \"VM\", 1, 2025)\n",
    "cpv_tsv = get_chitieu(kehoach, \"Chi Phí Vốn\", \"TSV\", 1, 2025)\n",
    "cpv_vm = get_chitieu(kehoach, \"Chi Phí Vốn\", \"VM\", 1, 2025)\n",
    "cp_luong = get_chitieu(kehoach, \"Chi Phí Lương\", \"Chi Phí Lương\", 1, 2025)\n",
    "cp_mb =  get_chitieu(kehoach, \"Chi Phí Ngoài Lương\", \"CP Mặt Bằng\", 1, 2025)\n",
    "cp_tscd = get_chitieu(kehoach, \"Chi Phí Ngoài Lương\", \"CP Phân Bổ (KH)\", 1, 2025)\n",
    "cp_ccdc = get_chitieu(kehoach, \"Chi Phí Ngoài Lương\", \"CP Phân Bổ (CCDC)\", 1, 2025)\n",
    "cp_sc = get_chitieu(kehoach, \"Chi Phí Ngoài Lương\", \"CP Phân Bổ (SC)\", 1, 2025)\n",
    "cp_ct = get_chitieu(kehoach, \"Chi Phí Ngoài Lương\", \"CP chuyển tiền\", 1, 2025)\n",
    "cp_cl = get_chitieu(kehoach, \"Chi Phí Ngoài Lương\", \"CP còn lại\", 1, 2025)\n",
    "cp_hc = get_chitieu(kehoach, \"Chi Phí Ngoài Lương\", \"CP hành chính\", 1, 2025)\n",
    "cp_km = get_chitieu(kehoach, \"Chi Phí Ngoài Lương\", \"CP khuyến mãi\", 1, 2025)\n",
    "cp_mkt = get_chitieu(kehoach, \"Chi Phí Ngoài Lương\", \"CP marketing\", 1, 2025)\n",
    "cp_vlp = get_chitieu(kehoach, \"Chi Phí Ngoài Lương\", \"CP vật liệu phụ\", 1, 2025)\n",
    "tong_cpnl = cp_mb + cp_tscd + cp_ccdc + cp_sc + cp_ct + cp_cl + cp_hc + cp_km + cp_mkt + cp_vlp\n",
    "tong_cp = cp_luong + tong_cpnl\n",
    "lntt = lgop_tsv + lgop_vm - cpv_tsv - cpv_vm - tong_cp\n",
    "\n",
    "def result_kh():\n",
    "        \n",
    "    kehoach_kynay = pd.DataFrame(\n",
    "        {\n",
    "            'Chỉ Tiêu': ['Doanh thu', 'TSV', 'VM', 'Lãi Gộp', 'TSV', 'VM', \"Chi Phí Vận Hành\", \"Chi Phí Nhân Viên\", \\\n",
    "                \"Chi Phí Ngoài Lương\", 'CP CCDC', 'CP KH TSCĐ', 'CP vật liệu phụ', 'CP Còn lại', 'CP Thuê ngoài', \\\n",
    "                    'CP hành chính', 'CP chuyển tiền', 'CP Marketing & Khuyến mãi', 'CP sửa chữa, bảo trì', 'Chi Phí Vốn', \\\n",
    "                        'TSV', 'VM', 'LNTT', 'LNTT(-VM)', 'LNST', 'LNST(-VM)'],\n",
    "            'Kế Hoạch': [dthu_tsv + dthu_vm, dthu_tsv, dthu_vm, lgop_tsv + lgop_vm, lgop_tsv, lgop_vm, \\\n",
    "                tong_cp, cp_luong, tong_cpnl, cp_ccdc, cp_tscd, cp_vlp, cp_cl, cp_mb, cp_hc, cp_ct, \\\n",
    "                    cp_mkt + cp_km, cp_sc, cpv_tsv + cpv_vm,cpv_tsv, cpv_vm, lntt, lntt - lgop_vm + cpv_vm, lntt * 0.8, (lntt - lgop_vm + cpv_vm) * 0.8]\n",
    "        }\n",
    "    )\n",
    "    return kehoach_kynay\n"
   ]
  },
  {
   "cell_type": "code",
   "execution_count": null,
   "metadata": {},
   "outputs": [
    {
     "name": "stderr",
     "output_type": "stream",
     "text": [
      "C:\\Users\\huynh.th\\AppData\\Local\\Temp\\ipykernel_29104\\2790435602.py:10: UserWarning: Could not infer format, so each element will be parsed individually, falling back to `dateutil`. To ensure parsing is consistent and as-expected, please specify a format.\n",
      "  kehoach[\"Month\"] = pd.to_datetime(kehoach[\"Tháng\"].astype('str') + \"-2025\").dt.to_period('M')\n"
     ]
    },
    {
     "data": {
      "text/plain": [
       "0        2025-01\n",
       "1        2025-01\n",
       "2        2025-01\n",
       "3        2025-01\n",
       "4        2025-01\n",
       "          ...   \n",
       "15607    2025-12\n",
       "15608    2025-12\n",
       "15609    2025-12\n",
       "15610    2025-12\n",
       "15611    2025-12\n",
       "Name: Month, Length: 15612, dtype: period[M]"
      ]
     },
     "execution_count": 8,
     "metadata": {},
     "output_type": "execute_result"
    }
   ],
   "source": [
    "kehoach = os.path.join(path, \"Planning2025.xlsx\")\n",
    "kehoach = pd.read_excel(kehoach, sheet_name=\"Budget_Total\", header=1)\n",
    "kehoach = kehoach[kehoach[\"Tháng\"].isin(range(1, 13))]\n",
    "col = [\"T\", \"9999\"]\n",
    "kehoach = kehoach.drop(columns=col)\n",
    "# unstack the dataframe keep 3 first columns name level_3 is Plant Code\n",
    "kehoach = kehoach.set_index(['Chi Phí', 'Chi tiết', 'Tháng']).stack().reset_index(name='Amt')\n",
    "kehoach = kehoach.rename(columns={\"level_3\": \"Plant Code\"})\n",
    "kehoach.groupby([\"Chi Phí\", \"Chi tiết\"])[\"Amt\"].sum().reset_index()\n",
    "kehoach[\"Month\"] = pd.to_datetime(kehoach[\"Tháng\"].astype('str') + \"-2025\").dt.to_period('M')"
   ]
  },
  {
   "cell_type": "markdown",
   "metadata": {},
   "source": [
    "# Tonkho"
   ]
  },
  {
   "cell_type": "code",
   "execution_count": null,
   "metadata": {},
   "outputs": [
    {
     "data": {
      "text/plain": [
       "'5.10.4'"
      ]
     },
     "metadata": {},
     "output_type": "display_data"
    }
   ],
   "source": [
    "import nbformat\n",
    "nbformat.__version__"
   ]
  },
  {
   "cell_type": "code",
   "execution_count": null,
   "metadata": {},
   "outputs": [
    {
     "ename": "SyntaxError",
     "evalue": "invalid syntax (4256108283.py, line 37)",
     "output_type": "error",
     "traceback": [
      "\u001b[1;36m  Cell \u001b[1;32mIn[48], line 37\u001b[1;36m\u001b[0m\n\u001b[1;33m    chitieu_theoky(df, col, year, month, plant_code):\u001b[0m\n\u001b[1;37m                                                    ^\u001b[0m\n\u001b[1;31mSyntaxError\u001b[0m\u001b[1;31m:\u001b[0m invalid syntax\n"
     ]
    }
   ],
   "source": [
    "import pandas as pd \n",
    "from glob import glob\n",
    "import os\n",
    "import requests\n",
    "import streamlit as st\n",
    "import helper\n",
    "\n",
    "import warnings\n",
    "warnings.filterwarnings(\"ignore\")\n",
    "\n",
    "parquet = r\"https://raw.githubusercontent.com/Huynh-Tr/report/main/tonkho.parquet\"\n",
    "\n",
    "def tkho():\n",
    "    df = pd.read_parquet(parquet)\n",
    "    df = df[df[\"Month year\"] != \"Month year\"]\n",
    "    df[\"Month year\"] = pd.to_datetime(df[\"Month year\"]).dt.to_period('M')\n",
    "    df[\"Plant Code\"] = df[\"Plant Code\"].astype('str')\n",
    "    lv2 = [\"DÂY ĐỒNG HỒ\", \"MẮT KÍNH\", \"ĐỒNG HỒ\"]\n",
    "    lv3 = [\"CAO\"]\n",
    "    lv4 = [\"TRANH/TƯỢNG/BIỂU TƯỢNG\", \"VÀNG ÉP SIÊU PNJ\", \"VÀNG ÉP SIÊU SJC\"]\n",
    "    cols = [\"Month year\", \"Plant Code\", \"Product Group 2 Name\", \"Product Group 3 Name\", \"Product Group 4 Name\", \\\n",
    "        \"MM. Inventory Qty\", \"MM. Inventory Amt (Adjust)\", \"MM.Avg Inventory Qty\", \"MM.Avg Inventory Amt (Adjust)\", \\\n",
    "        \"FM 10_Inventory Cost\", \"MM. Repurchasing Amt\", \"MM. Repurchasing Qty\"]\n",
    "\n",
    "    df_tk_tsv = df.copy()\n",
    "    df_tk_tsv = df_tk_tsv[~df_tk_tsv[\"Product Group 2 Name\"].isin(lv2)]\n",
    "    df_tk_tsv = df_tk_tsv[~df_tk_tsv[\"Product Group 3 Name\"].isin(lv3)]\n",
    "    df_tk_tsv = df_tk_tsv[~df_tk_tsv[\"Product Group 4 Name\"].isin(lv4)]\n",
    "    df_tk_tsv = df_tk_tsv[cols]\n",
    "\n",
    "    df_tk_vm = df.copy()\n",
    "    df_tk_vm = df_tk_vm[df_tk_vm[\"Product Group 4 Name\"].isin(lv4)]\n",
    "    df_tk_vm = df_tk_vm[cols]\n",
    "\n",
    "    return df_tk_tsv, df_tk_vm\n",
    "\n",
    "def chitieu_theoky(df, col, year, month, plant_code):\n",
    "    if plant_code == 'Select All':\n",
    "        chitieu_th = df[(df[\"Month year\"].dt.month.isin(month)) & (df[\"Month year\"].dt.year.isin(year))][col].sum() / 1e9\n",
    "        chitieu_ck = df[(df[\"Month year\"].dt.month.isin(month)) & (df[\"Month year\"].dt.year.isin([max(year) - 1]))][col].sum() / 1e9\n",
    "        chitieu_lk = df[(df[\"Month year\"].dt.month.isin(range(1, max(month) + 1))) & (df[\"Month year\"].dt.year.isin(year))][col].sum() / 1e9\n",
    "        chitieu_ck_lk = df[(df[\"Month year\"].dt.month.isin(range(1, max(month) + 1))) & (df[\"Month year\"].dt.year.isin([max(year) - 1]))][col].sum() / 1e9\n",
    "\n",
    "    else:\n",
    "        chitieu_th = df[(df[\"Plant Code\"].isin(plant_code)) & (df[\"Month year\"].dt.month.isin(month)) & (df[\"Month year\"].dt.year.isin(year))][col].sum() / 1e9\n",
    "        chitieu_ck = df[(df[\"Plant Code\"].isin(plant_code)) & (df[\"Month year\"].dt.month.isin(month)) & (df[\"Month year\"].dt.year.isin([max(year) - 1]))][col].sum() / 1e9\n",
    "        chitieu_lk = df[(df[\"Plant Code\"].isin(plant_code)) & (df[\"Month year\"].dt.month.isin(range(1, max(month) + 1))) & (df[\"Month year\"].dt.year.isin(year))][col].sum() / 1e9\n",
    "        chitieu_ck_lk = df[(df[\"Plant Code\"].isin(plant_code)) & (df[\"Month year\"].dt.month.isin(range(1, max(month) + 1))) & (df[\"Month year\"].dt.year.isin([max(year) - 1]))][col].sum() / 1e9\n",
    "\n",
    "    return chitieu_th, chitieu_ck, chitieu_lk, chitieu_ck_lk\n",
    "\n",
    "def chitieu(year, month, plant_code='Select All'):\n",
    "    df_tk_tsv, df_tk_vm = tkho()\n",
    "    if plant_code == 'Select All':\n",
    "        # chi phi von\n",
    "        sum_cpv_tsv, sum_cpv_tsv_ck, sum_cpv_tsv_lk, sum_cpv_tsv_ck_lk = chitieu_theoky(df=df_tk_tsv, col=\"FM 10_Inventory Cost\", year=year, month=month, plant_code=plant_code)\n",
    "        sum_cpv_vm, sum_cpv_vm_ck, sum_cpv_vm_lk, sum_cpv_vm_ck_lk = chitieu_theoky(df=df_tk_vm, col=\"FM 10_Inventory Cost\", year=year, month=month, plant_code=plant_code)\n",
    "        # ton von\n",
    "        sum_tv_tsv, sum_tv_tsv_ck, sum_tv_tsv_lk, sum_tv_tsv_ck_lk = chitieu_theoky(df=df_tk_tsv, col=\"MM.Avg Inventory Amt (Adjust)\", year=year, month=month, plant_code=plant_code)\n",
    "        sum_tv_vm, sum_tv_vm_ck, sum_tv_vm_lk, sum_tv_vm_ck_lk = chitieu_theoky(df=df_tk_vm, col=\"MM.Avg Inventory Amt (Adjust)\", year=year, month=month, plant_code=plant_code)\n",
    "\n",
    "    else:\n",
    "        # chi phi von\n",
    "        sum_cpv_tsv, sum_cpv_tsv_ck, sum_cpv_tsv_lk, sum_cpv_tsv_ck_lk = chitieu_theoky(df=df_tk_tsv, col=\"FM 10_Inventory Cost\", year=year, month=month, plant_code=plant_code)\n",
    "        sum_cpv_vm, sum_cpv_vm_ck, sum_cpv_vm_lk, sum_cpv_vm_ck_lk = chitieu_theoky(df=df_tk_vm, col=\"FM 10_Inventory Cost\", year=year, month=month, plant_code=plant_code)\n",
    "        # ton von\n",
    "        sum_tv_tsv, sum_tv_tsv_ck, sum_tv_tsv_lk, sum_tv_tsv_ck_lk = chitieu_theoky(df=df_tk_tsv, col=\"MM.Avg Inventory Amt (Adjust)\", year=year, month=month, plant_code=plant_code)\n",
    "        sum_tv_vm, sum_tv_vm_ck, sum_tv_vm_lk, sum_tv_vm_ck_lk = chitieu_theoky(df=df_tk_vm, col=\"MM.Avg Inventory Amt (Adjust)\", year=year, month=month, plant_code=plant_code)\n",
    "\n",
    "    result_tkho = pd.DataFrame(\n",
    "        {\n",
    "        'Chỉ Tiêu': ['Chi Phí Vốn', 'TSV', 'VM'],\n",
    "        '': ['', '', ''],\n",
    "        '  Thực Hiện  ': [sum_cpv_tsv + sum_cpv_vm, sum_cpv_tsv, sum_cpv_vm],\n",
    "        '  Cùng Kỳ    ': [sum_cpv_tsv_ck + sum_cpv_vm_ck, sum_cpv_tsv_ck, sum_cpv_vm_ck],\n",
    "        '  Kế Hoạch   ': [sum_cpv_tsv + sum_cpv_vm, sum_cpv_tsv, sum_cpv_vm],\n",
    "        ' ': ['', '', ''],\n",
    "        ' LK Thực Hiện': [sum_cpv_tsv_lk + sum_cpv_vm_lk, sum_cpv_tsv_lk, sum_cpv_vm_lk],\n",
    "        ' LK Cùng Kỳ  ': [sum_cpv_tsv_ck_lk + sum_cpv_vm_ck_lk, sum_cpv_tsv_ck_lk, sum_cpv_vm_ck_lk],\n",
    "        ' LK Kế Hoạch ': [sum_cpv_tsv + sum_cpv_vm, sum_cpv_tsv, sum_cpv_vm],\n",
    "        '  ': ['', '', ''],\n",
    "        'LK Thực Hiện ': [sum_cpv_tsv_lk + sum_cpv_vm_lk, sum_cpv_tsv_lk, sum_cpv_vm_lk],\n",
    "        '       KH Năm': [sum_cpv_tsv + sum_cpv_vm, sum_cpv_tsv, sum_cpv_vm]\n",
    "        }\n",
    "    )\n",
    "\n",
    "    return result_tkho\n",
    "\n",
    "result_tkho = chitieu(year=[2021], month=[1, 2, 3, 4, 5, 6, 7, 8, 9, 10, 11, 12], plant_code='Select All')"
   ]
  },
  {
   "cell_type": "markdown",
   "metadata": {},
   "source": [
    "# Cphi"
   ]
  },
  {
   "cell_type": "code",
   "execution_count": null,
   "metadata": {},
   "outputs": [],
   "source": []
  },
  {
   "cell_type": "code",
   "execution_count": null,
   "metadata": {},
   "outputs": [
    {
     "data": {
      "application/vnd.microsoft.datawrangler.viewer.v0+json": {
       "columns": [
        {
         "name": "index",
         "rawType": "int64",
         "type": "integer"
        },
        {
         "name": "Month year",
         "rawType": "period[M]",
         "type": "unknown"
        },
        {
         "name": "GL Account Code",
         "rawType": "int64",
         "type": "integer"
        },
        {
         "name": "GL LV1 Name",
         "rawType": "object",
         "type": "string"
        },
        {
         "name": "FM. Loc Amt",
         "rawType": "float64",
         "type": "float"
        },
        {
         "name": "PnL Name",
         "rawType": "object",
         "type": "string"
        },
        {
         "name": "MaCH",
         "rawType": "object",
         "type": "string"
        }
       ],
       "conversionMethod": "pd.DataFrame",
       "ref": "67b7dd74-186b-4b1d-aaf6-6644e1664a13",
       "rows": [
        [
         "0",
         "2022-01",
         "64130110",
         "CP CCDC",
         "-552500.0",
         "Chi phí bán hàng",
         "1013"
        ],
        [
         "1",
         "2022-01",
         "64130140",
         "CP CCDC",
         "-4387500.0",
         "Chi phí bán hàng",
         "1013"
        ],
        [
         "2",
         "2022-01",
         "64140110",
         "CP KH TSCĐ",
         "-3336389.0",
         "Chi phí bán hàng",
         "1013"
        ],
        [
         "3",
         "2022-01",
         "64140130",
         "CP KH TSCĐ",
         "-1533889.0",
         "Chi phí bán hàng",
         "1013"
        ],
        [
         "4",
         "2022-01",
         "64110100",
         "CP Nhân viên",
         "-111131428.0",
         "Chi phí bán hàng",
         "1115"
        ]
       ],
       "shape": {
        "columns": 6,
        "rows": 5
       }
      },
      "text/html": [
       "<div>\n",
       "<style scoped>\n",
       "    .dataframe tbody tr th:only-of-type {\n",
       "        vertical-align: middle;\n",
       "    }\n",
       "\n",
       "    .dataframe tbody tr th {\n",
       "        vertical-align: top;\n",
       "    }\n",
       "\n",
       "    .dataframe thead th {\n",
       "        text-align: right;\n",
       "    }\n",
       "</style>\n",
       "<table border=\"1\" class=\"dataframe\">\n",
       "  <thead>\n",
       "    <tr style=\"text-align: right;\">\n",
       "      <th></th>\n",
       "      <th>Month year</th>\n",
       "      <th>GL Account Code</th>\n",
       "      <th>GL LV1 Name</th>\n",
       "      <th>FM. Loc Amt</th>\n",
       "      <th>PnL Name</th>\n",
       "      <th>MaCH</th>\n",
       "    </tr>\n",
       "  </thead>\n",
       "  <tbody>\n",
       "    <tr>\n",
       "      <th>0</th>\n",
       "      <td>2022-01</td>\n",
       "      <td>64130110</td>\n",
       "      <td>CP CCDC</td>\n",
       "      <td>-552500.0</td>\n",
       "      <td>Chi phí bán hàng</td>\n",
       "      <td>1013</td>\n",
       "    </tr>\n",
       "    <tr>\n",
       "      <th>1</th>\n",
       "      <td>2022-01</td>\n",
       "      <td>64130140</td>\n",
       "      <td>CP CCDC</td>\n",
       "      <td>-4387500.0</td>\n",
       "      <td>Chi phí bán hàng</td>\n",
       "      <td>1013</td>\n",
       "    </tr>\n",
       "    <tr>\n",
       "      <th>2</th>\n",
       "      <td>2022-01</td>\n",
       "      <td>64140110</td>\n",
       "      <td>CP KH TSCĐ</td>\n",
       "      <td>-3336389.0</td>\n",
       "      <td>Chi phí bán hàng</td>\n",
       "      <td>1013</td>\n",
       "    </tr>\n",
       "    <tr>\n",
       "      <th>3</th>\n",
       "      <td>2022-01</td>\n",
       "      <td>64140130</td>\n",
       "      <td>CP KH TSCĐ</td>\n",
       "      <td>-1533889.0</td>\n",
       "      <td>Chi phí bán hàng</td>\n",
       "      <td>1013</td>\n",
       "    </tr>\n",
       "    <tr>\n",
       "      <th>4</th>\n",
       "      <td>2022-01</td>\n",
       "      <td>64110100</td>\n",
       "      <td>CP Nhân viên</td>\n",
       "      <td>-111131428.0</td>\n",
       "      <td>Chi phí bán hàng</td>\n",
       "      <td>1115</td>\n",
       "    </tr>\n",
       "  </tbody>\n",
       "</table>\n",
       "</div>"
      ],
      "text/plain": [
       "  Month year  GL Account Code   GL LV1 Name  FM. Loc Amt          PnL Name  \\\n",
       "0    2022-01         64130110       CP CCDC    -552500.0  Chi phí bán hàng   \n",
       "1    2022-01         64130140       CP CCDC   -4387500.0  Chi phí bán hàng   \n",
       "2    2022-01         64140110    CP KH TSCĐ   -3336389.0  Chi phí bán hàng   \n",
       "3    2022-01         64140130    CP KH TSCĐ   -1533889.0  Chi phí bán hàng   \n",
       "4    2022-01         64110100  CP Nhân viên -111131428.0  Chi phí bán hàng   \n",
       "\n",
       "   MaCH  \n",
       "0  1013  \n",
       "1  1013  \n",
       "2  1013  \n",
       "3  1013  \n",
       "4  1115  "
      ]
     },
     "execution_count": 55,
     "metadata": {},
     "output_type": "execute_result"
    }
   ],
   "source": [
    "df_cp = pd.read_parquet(r\"https://raw.githubusercontent.com/Huynh-Tr/report/main/cphi.parquet\")\n",
    "# df_cp = df[df[\"Month year\"] != \"Month year\"]\n",
    "df_cp[\"Month year\"] = pd.to_datetime(df_cp[\"Month year\"]).dt.to_period('M')\n",
    "\n",
    "# create MaCH column with condition right 4 chartacters of cost center code if not null else right 4 characters of GL Account Code\n",
    "df_cp[\"Plant Code\"] = df_cp[\"Cost Center Code\"].fillna(df_cp[\"Plant Code\"].astype('str')).astype('int').astype('str').str[-4:] \\\n",
    "    .replace('0000', 'P015').replace('9999', 'P015')\n",
    "\n",
    "df_cp[\"FM. Loc Amt\"] = df_cp[\"FM. Loc Amt\"].astype('float')\n",
    "\n",
    "cols = [\"Month year\", \"GL Account Code\", \"GL LV1 Name\", \"FM. Loc Amt\", \"PnL Name\", \"MaCH\"]\n",
    "gl_code_exl = 64110120 # list of GL Account Code\n",
    "gl_code_range = [64100000, 64252100]\n",
    "\n",
    "# filter data cols with gl_code_exl and in range gl_code_range\n",
    "df_cp = df_cp[cols][(df_cp[\"GL Account Code\"] != gl_code_exl) & (df_cp[\"GL Account Code\"].between(gl_code_range[0], gl_code_range[1]))]\n",
    "\n",
    "df_cp.head()"
   ]
  },
  {
   "cell_type": "code",
   "execution_count": 3,
   "metadata": {},
   "outputs": [
    {
     "data": {
      "text/plain": [
       "[4, 5, 6, 7, 8, 9, 10, 11, 12]"
      ]
     },
     "execution_count": 3,
     "metadata": {},
     "output_type": "execute_result"
    }
   ],
   "source": [
    "list(range(4, 13))"
   ]
  },
  {
   "cell_type": "code",
   "execution_count": 57,
   "metadata": {},
   "outputs": [
    {
     "data": {
      "text/plain": [
       "array(['CP CCDC', 'CP KH TSCĐ', 'CP Nhân viên', 'CP vật liệu phụ',\n",
       "       'CP Còn lại', 'CP Thuê ngoài', 'CP hành chính', 'CP chuyển tiền',\n",
       "       'CP Marketing & Khuyến mãi', 'CP sửa chữa, bảo trì'], dtype=object)"
      ]
     },
     "execution_count": 57,
     "metadata": {},
     "output_type": "execute_result"
    }
   ],
   "source": [
    "df_cp[\"GL LV1 Name\"].unique()"
   ]
  },
  {
   "cell_type": "code",
   "execution_count": 74,
   "metadata": {},
   "outputs": [
    {
     "data": {
      "application/vnd.microsoft.datawrangler.viewer.v0+json": {
       "columns": [
        {
         "name": "index",
         "rawType": "int64",
         "type": "integer"
        },
        {
         "name": "Month year",
         "rawType": "period[M]",
         "type": "unknown"
        },
        {
         "name": "GL Account Code",
         "rawType": "int64",
         "type": "integer"
        },
        {
         "name": "GL LV1 Name",
         "rawType": "object",
         "type": "string"
        },
        {
         "name": "FM. Loc Amt",
         "rawType": "float64",
         "type": "float"
        },
        {
         "name": "PnL Name",
         "rawType": "object",
         "type": "string"
        },
        {
         "name": "MaCH",
         "rawType": "object",
         "type": "string"
        }
       ],
       "conversionMethod": "pd.DataFrame",
       "ref": "53a1fb25-c11f-40e5-a38e-5eb84cc0ef80",
       "rows": [
        [
         "0",
         "2022-01",
         "64130110",
         "CP CCDC",
         "-552500.0",
         "Chi phí bán hàng",
         "1013"
        ],
        [
         "1",
         "2022-01",
         "64130140",
         "CP CCDC",
         "-4387500.0",
         "Chi phí bán hàng",
         "1013"
        ],
        [
         "2",
         "2022-01",
         "64140110",
         "CP KH TSCĐ",
         "-3336389.0",
         "Chi phí bán hàng",
         "1013"
        ],
        [
         "3",
         "2022-01",
         "64140130",
         "CP KH TSCĐ",
         "-1533889.0",
         "Chi phí bán hàng",
         "1013"
        ],
        [
         "4",
         "2022-01",
         "64110100",
         "CP Nhân viên",
         "-111131428.0",
         "Chi phí bán hàng",
         "1115"
        ]
       ],
       "shape": {
        "columns": 6,
        "rows": 5
       }
      },
      "text/html": [
       "<div>\n",
       "<style scoped>\n",
       "    .dataframe tbody tr th:only-of-type {\n",
       "        vertical-align: middle;\n",
       "    }\n",
       "\n",
       "    .dataframe tbody tr th {\n",
       "        vertical-align: top;\n",
       "    }\n",
       "\n",
       "    .dataframe thead th {\n",
       "        text-align: right;\n",
       "    }\n",
       "</style>\n",
       "<table border=\"1\" class=\"dataframe\">\n",
       "  <thead>\n",
       "    <tr style=\"text-align: right;\">\n",
       "      <th></th>\n",
       "      <th>Month year</th>\n",
       "      <th>GL Account Code</th>\n",
       "      <th>GL LV1 Name</th>\n",
       "      <th>FM. Loc Amt</th>\n",
       "      <th>PnL Name</th>\n",
       "      <th>MaCH</th>\n",
       "    </tr>\n",
       "  </thead>\n",
       "  <tbody>\n",
       "    <tr>\n",
       "      <th>0</th>\n",
       "      <td>2022-01</td>\n",
       "      <td>64130110</td>\n",
       "      <td>CP CCDC</td>\n",
       "      <td>-552500.0</td>\n",
       "      <td>Chi phí bán hàng</td>\n",
       "      <td>1013</td>\n",
       "    </tr>\n",
       "    <tr>\n",
       "      <th>1</th>\n",
       "      <td>2022-01</td>\n",
       "      <td>64130140</td>\n",
       "      <td>CP CCDC</td>\n",
       "      <td>-4387500.0</td>\n",
       "      <td>Chi phí bán hàng</td>\n",
       "      <td>1013</td>\n",
       "    </tr>\n",
       "    <tr>\n",
       "      <th>2</th>\n",
       "      <td>2022-01</td>\n",
       "      <td>64140110</td>\n",
       "      <td>CP KH TSCĐ</td>\n",
       "      <td>-3336389.0</td>\n",
       "      <td>Chi phí bán hàng</td>\n",
       "      <td>1013</td>\n",
       "    </tr>\n",
       "    <tr>\n",
       "      <th>3</th>\n",
       "      <td>2022-01</td>\n",
       "      <td>64140130</td>\n",
       "      <td>CP KH TSCĐ</td>\n",
       "      <td>-1533889.0</td>\n",
       "      <td>Chi phí bán hàng</td>\n",
       "      <td>1013</td>\n",
       "    </tr>\n",
       "    <tr>\n",
       "      <th>4</th>\n",
       "      <td>2022-01</td>\n",
       "      <td>64110100</td>\n",
       "      <td>CP Nhân viên</td>\n",
       "      <td>-111131428.0</td>\n",
       "      <td>Chi phí bán hàng</td>\n",
       "      <td>1115</td>\n",
       "    </tr>\n",
       "  </tbody>\n",
       "</table>\n",
       "</div>"
      ],
      "text/plain": [
       "  Month year  GL Account Code   GL LV1 Name  FM. Loc Amt          PnL Name  \\\n",
       "0    2022-01         64130110       CP CCDC    -552500.0  Chi phí bán hàng   \n",
       "1    2022-01         64130140       CP CCDC   -4387500.0  Chi phí bán hàng   \n",
       "2    2022-01         64140110    CP KH TSCĐ   -3336389.0  Chi phí bán hàng   \n",
       "3    2022-01         64140130    CP KH TSCĐ   -1533889.0  Chi phí bán hàng   \n",
       "4    2022-01         64110100  CP Nhân viên -111131428.0  Chi phí bán hàng   \n",
       "\n",
       "   MaCH  \n",
       "0  1013  \n",
       "1  1013  \n",
       "2  1013  \n",
       "3  1013  \n",
       "4  1115  "
      ]
     },
     "execution_count": 74,
     "metadata": {},
     "output_type": "execute_result"
    }
   ],
   "source": [
    "df_cp = pd.concat([pd.read_csv(file, encoding='utf-8', sep=',', header=0) for file in files_CP])\n",
    "df_cp[\"Month year\"] = pd.to_datetime(df_cp[\"Month year\"]).dt.to_period('M')\n",
    "\n",
    "# create MaCH column with condition right 4 chartacters of cost center code if not null else right 4 characters of GL Account Code\n",
    "df_cp[\"MaCH\"] = df_cp[\"Cost Center Code\"].fillna(df_cp[\"Plant Code\"].astype('str')).astype('int').astype('str').str[-4:] \\\n",
    "    .replace('0000', 'P015').replace('9999', 'P015')\n",
    "\n",
    "\n",
    "cols = [\"Month year\", \"GL Account Code\", \"GL LV1 Name\", \"FM. Loc Amt\", \"PnL Name\", \"MaCH\"]\n",
    "gl_code_exl = 64110120 # list of GL Account Code\n",
    "gl_code_range = [64100000, 64252100]\n",
    "\n",
    "# filter data cols with gl_code_exl and in range gl_code_range\n",
    "df_cp = df_cp[cols][(df_cp[\"GL Account Code\"] != gl_code_exl) & (df_cp[\"GL Account Code\"].between(gl_code_range[0], gl_code_range[1]))]\n",
    "\n",
    "df_cp.head()"
   ]
  },
  {
   "cell_type": "code",
   "execution_count": null,
   "metadata": {},
   "outputs": [
    {
     "data": {
      "text/plain": [
       "GL LV1 Name                Month year\n",
       "CP CCDC                    2025-01      -0.744826\n",
       "CP Còn lại                 2025-01      -0.817176\n",
       "CP KH TSCĐ                 2025-01      -0.211752\n",
       "CP Marketing & Khuyến mãi  2025-01      -0.007248\n",
       "CP Nhân viên               2025-01      -8.924364\n",
       "CP Thuê ngoài              2025-01      -2.867169\n",
       "CP chuyển tiền             2025-01      -0.529042\n",
       "CP hành chính              2025-01      -0.442921\n",
       "CP sửa chữa, bảo trì       2025-01      -1.238189\n",
       "CP vật liệu phụ            2025-01      -0.493743\n",
       "Name: FM. Loc Amt, dtype: float64"
      ]
     },
     "execution_count": 75,
     "metadata": {},
     "output_type": "execute_result"
    }
   ],
   "source": [
    "# group by GL LV1 Name and Month year\n",
    "df_cp[df_cp[\"Month year\"]==\"2025-01\"].groupby([\"GL LV1 Name\", \"Month year\"])[\"FM. Loc Amt\"].sum() / 1e9"
   ]
  },
  {
   "cell_type": "markdown",
   "metadata": {},
   "source": [
    "# Dthu"
   ]
  },
  {
   "cell_type": "code",
   "execution_count": 248,
   "metadata": {},
   "outputs": [
    {
     "data": {
      "image/png": "[encoded data removed]",
      "text/plain": [
       "<Figure size 1500x1000 with 6 Axes>"
      ]
     },
     "metadata": {},
     "output_type": "display_data"
    }
   ],
   "source": [
    "import pandas as pd \n",
    "from glob import glob\n",
    "import os\n",
    "import requests\n",
    "import streamlit as st\n",
    "import helper\n",
    "import matplotlib.pyplot as plt\n",
    "%matplotlib inline\n",
    "\n",
    "import warnings\n",
    "warnings.filterwarnings(\"ignore\")\n",
    "\n",
    "parquet = r\"https://raw.githubusercontent.com/Huynh-Tr/report/main/dthu.parquet\"\n",
    "\n",
    "def dthu():\n",
    "    df = pd.read_parquet(parquet)\n",
    "    df = df[df[\"Month year\"] != \"Month year\"]\n",
    "    df[\"Month year\"] = pd.to_datetime(df[\"Month year\"]).dt.to_period('M')\n",
    "    df[\"Plant Code\"] = df[\"Plant Code\"].astype('str')\n",
    "    # replace any text start with \"Trang Sức Ý *\" with \"Trang Sức Ý\" in column Product Group 4 Name \n",
    "    # df[\"Product Group 4 Name\"] = df[\"Product Group 4 Name\"].str.replace(r\"TRANG SỨC Ý*\", \"TRANG SỨC Ý\", regex=True)\n",
    "    df[\"Product Group 4 Name\"] = df[\"Product Group 4 Name\"].str.replace(r\"^TRANG SỨC Ý.*\", \"TRANG SỨC Ý\", regex=True)\n",
    "    lv2 = [\"DÂY ĐỒNG HỒ\", \"MẮT KÍNH\", \"ĐỒNG HỒ\"]\n",
    "    lv3 = [\"CAO\"]\n",
    "    lv4 = [\"TRANH/TƯỢNG/BIỂU TƯỢNG\", \"VÀNG KHÔNG ÉP SIÊU\", \"VÀNG ÉP SIÊU PNJ\", \"VÀNG ÉP SIÊU SJC\"]\n",
    "    account_code = [51131000, 51132000]\n",
    "    col = [\"Product Group 2 Name\", \"Product Group 3 Name\", \"Product Group 4 Name\", \"Month year\", \\\n",
    "        \"Plant Code\", \"Channel Description\", \"FM 01_Invoices Revenue\", \"FM 07_Gross Profit\"]\n",
    "\n",
    "    df_tsv = df.copy()\n",
    "    df_tsv = df_tsv[~df_tsv[\"Product Group 2 Name\"].isin(lv2)]\n",
    "    df_tsv = df_tsv[~df_tsv[\"Product Group 3 Name\"].isin(lv3)]\n",
    "    df_tsv = df_tsv[~df_tsv[\"Product Group 4 Name\"].isin(lv4)]\n",
    "    df_tsv = df_tsv[~df_tsv[\"GL Account Code\"].isin(account_code)]\n",
    "    df_tsv = df_tsv[col]\n",
    "\n",
    "    df_vm = df.copy()\n",
    "    df_vm = df_vm[df_vm[\"Product Group 4 Name\"].isin(lv4)]\n",
    "    df_vm = df_vm[col]\n",
    "\n",
    "    return df_tsv, df_vm\n",
    "\n",
    "def chitieu_theoky_plot(df, year, month, plant_code='Select All'):\n",
    "    if plant_code == 'Select All':\n",
    "        chitieu_th = df[(df[\"Month year\"].dt.month.isin(month)) & (df[\"Month year\"].dt.year.isin(year))]\n",
    "        chitieu_ck = df[(df[\"Month year\"].dt.month.isin(month)) & (df[\"Month year\"].dt.year.isin([max(year) - 1]))]\n",
    "        chitieu_lk = df[(df[\"Month year\"].dt.month.isin(range(1, max(month) + 1))) & (df[\"Month year\"].dt.year.isin(year))]\n",
    "        chitieu_ck_lk = df[(df[\"Month year\"].dt.month.isin(range(1, max(month) + 1))) & (df[\"Month year\"].dt.year.isin([max(year) - 1]))]\n",
    "    else:\n",
    "        chitieu_th = df[(df[\"Plant Code\"].isin(plant_code)) & (df[\"Month year\"].dt.month.isin(month)) & (df[\"Month year\"].dt.year.isin(year))]\n",
    "        chitieu_ck = df[(df[\"Plant Code\"].isin(plant_code)) & (df[\"Month year\"].dt.month.isin(month)) & (df[\"Month year\"].dt.year.isin([max(year) - 1]))]\n",
    "        chitieu_lk = df[(df[\"Plant Code\"].isin(plant_code)) & (df[\"Month year\"].dt.month.isin(range(1, max(month) + 1))) & (df[\"Month year\"].dt.year.isin(year))]\n",
    "        chitieu_ck_lk = df[(df[\"Plant Code\"].isin(plant_code)) & (df[\"Month year\"].dt.month.isin(range(1, max(month) + 1))) & (df[\"Month year\"].dt.year.isin([max(year) - 1]))]\n",
    "\n",
    "    return chitieu_th, chitieu_ck, chitieu_lk, chitieu_ck_lk\n",
    "\n",
    "\n",
    "df_tsv, vm = dthu()\n",
    "chitieu_th, chitieu_ck, chitieu_lk, chitieu_ck_lk = chitieu_theoky_plot(df=df_tsv, year=[2024, 2025], month=range(1, 13), plant_code='Select All')\n",
    "# chitieu_th\n",
    "fig, ax = plt.subplots(2, 2, figsize=(15, 10))\n",
    "m = (chitieu_th.groupby([\"Product Group 4 Name\"])[[\"FM 01_Invoices Revenue\", \"FM 07_Gross Profit\"]].sum() / 1e9).sort_values(by=\"FM 01_Invoices Revenue\", ascending=False)[:10]\n",
    "m[\"%\"] = m[\"FM 07_Gross Profit\"] / m[\"FM 01_Invoices Revenue\"]\n",
    "ax2 = ax[0, 0].twinx()\n",
    "m[[\"FM 01_Invoices Revenue\", \"FM 07_Gross Profit\"]].plot(kind='bar', color='blue', alpha=0.7, ax=ax[0, 0])\n",
    "m[\"%\"].plot(kind='line', color='red', alpha=0.1, marker='*', secondary_y=True, ax=ax2)\n",
    "\n",
    "for i, txt in enumerate(m[\"%\"]):\n",
    "    ax2.annotate(f'{txt:.2%}', (i, m[\"%\"].iloc[i]), textcoords=\"offset points\", xytext=(0.1,0.1), ha='center', color='red')\n",
    "\n",
    "for item in ax[0, 0].get_xticklabels():\n",
    "    item.set_rotation(90)\n",
    "\n",
    "plt.tight_layout()\n",
    "plt.show()\n",
    "\n",
    "# for item in myplot.axes.get_xticklabels():\n",
    "    # item.set_rotation(90)\n",
    "\n",
    "# (chitieu_th.groupby([\"Product Group 4 Name\"])[\"FM 01_Invoices Revenue\"].sum() / 1e9)[m].plot(kind='bar', color='blue', alpha=0.7)\n",
    "# plt.show()"
   ]
  },
  {
   "cell_type": "code",
   "execution_count": 226,
   "metadata": {},
   "outputs": [
    {
     "data": {
      "image/png": "[encoded data removed]",
      "text/plain": [
       "<Figure size 640x480 with 2 Axes>"
      ]
     },
     "metadata": {},
     "output_type": "display_data"
    }
   ],
   "source": [
    "import matplotlib.pyplot as plt\n",
    "\n",
    "# Sample Data\n",
    "x = [1, 2, 3, 4, 5]\n",
    "y1 = [10, 15, 20, 25, 30]\n",
    "y2 = [2, 4, 6, 8, 10]\n",
    "\n",
    "fig, ax1 = plt.subplots()\n",
    "ax2 = ax1.twinx()\n",
    "\n",
    "ax1.plot(x, y1, 'b-', label='Data 1')\n",
    "ax2.plot(x, y2, 'r-', label='Data 2')\n",
    "\n",
    "ax1.set_xlabel('X-axis')\n",
    "ax1.set_ylabel('Y-axis 1', color='b')\n",
    "ax2.set_ylabel('Y-axis 2', color='r')\n",
    "\n",
    "ax1.tick_params(axis='y', labelcolor='b')\n",
    "ax2.tick_params(axis='y', labelcolor='r')\n",
    "\n",
    "lines1, labels1 = ax1.get_legend_handles_labels()\n",
    "lines2, labels2 = ax2.get_legend_handles_labels()\n",
    "ax1.legend(lines1 + lines2, labels1 + labels2, loc=\"upper left\")\n",
    "\n",
    "# Annotations (Crucial: Specify the correct axes)\n",
    "\n",
    "# Annotation for Data 1 (using ax1)\n",
    "ax1.annotate(\"Important Point for Data 1\", xy=(3, 20), xytext=(2, 25),\n",
    "             arrowprops=dict(arrowstyle=\"->\", color=\"blue\"), color=\"blue\")\n",
    "\n",
    "\n",
    "# Annotation for Data 2 (using ax2)\n",
    "ax2.annotate(\"Note for Data 2\", xy=(4, 8), xytext=(3.5, 5),\n",
    "             arrowprops=dict(arrowstyle=\"->\", color=\"red\"), color=\"red\")\n",
    "\n",
    "\n",
    "fig.tight_layout()\n",
    "plt.show()"
   ]
  },
  {
   "cell_type": "code",
   "execution_count": 8,
   "metadata": {},
   "outputs": [
    {
     "name": "stdout",
     "output_type": "stream",
     "text": [
      "sum_fm_tsv01: 213.283713898\n"
     ]
    },
    {
     "data": {
      "application/vnd.microsoft.datawrangler.viewer.v0+json": {
       "columns": [
        {
         "name": "index",
         "rawType": "int64",
         "type": "integer"
        },
        {
         "name": "Chỉ Tiêu",
         "rawType": "object",
         "type": "string"
        },
        {
         "name": "",
         "rawType": "object",
         "type": "string"
        },
        {
         "name": "  Thực Hiện  ",
         "rawType": "float64",
         "type": "float"
        },
        {
         "name": "  Cùng Kỳ    ",
         "rawType": "float64",
         "type": "float"
        },
        {
         "name": "  Kế Hoạch   ",
         "rawType": "float64",
         "type": "float"
        },
        {
         "name": " ",
         "rawType": "object",
         "type": "string"
        },
        {
         "name": " LK Thực Hiện",
         "rawType": "float64",
         "type": "float"
        },
        {
         "name": " LK Cùng Kỳ  ",
         "rawType": "float64",
         "type": "float"
        },
        {
         "name": " LK Kế Hoạch ",
         "rawType": "float64",
         "type": "float"
        },
        {
         "name": "  ",
         "rawType": "object",
         "type": "string"
        },
        {
         "name": "LK Thực Hiện ",
         "rawType": "float64",
         "type": "float"
        },
        {
         "name": "       KH Năm",
         "rawType": "float64",
         "type": "float"
        }
       ],
       "conversionMethod": "pd.DataFrame",
       "ref": "6398740b-d6af-4afc-9fe2-7e2f0257b092",
       "rows": [
        [
         "0",
         "Doanh thu",
         "",
         "238.627998623",
         "2863.233028779",
         "238.627998623",
         "",
         "238.627998623",
         "2863.233028779",
         "238.627998623",
         "",
         "238.627998623",
         "238.627998623"
        ],
        [
         "1",
         "TSV",
         "",
         "213.283713898",
         "1999.337113249",
         "213.283713898",
         "",
         "213.283713898",
         "1999.337113249",
         "213.283713898",
         "",
         "213.283713898",
         "213.283713898"
        ],
        [
         "2",
         "VM",
         "",
         "25.344284725",
         "863.89591553",
         "25.344284725",
         "",
         "25.344284725",
         "863.89591553",
         "25.344284725",
         "",
         "25.344284725",
         "25.344284725"
        ],
        [
         "3",
         "Lãi Gộp",
         "",
         "52.620571732",
         "501.15073817300004",
         "52.620571732",
         "",
         "52.620571732",
         "501.15073817300004",
         "52.620571732",
         "",
         "52.620571732",
         "52.620571732"
        ],
        [
         "4",
         "TSV",
         "",
         "50.163576642",
         "461.260390495",
         "50.163576642",
         "",
         "50.163576642",
         "461.260390495",
         "50.163576642",
         "",
         "50.163576642",
         "50.163576642"
        ],
        [
         "5",
         "VM",
         "",
         "2.45699509",
         "39.890347678",
         "2.45699509",
         "",
         "2.45699509",
         "39.890347678",
         "2.45699509",
         "",
         "2.45699509",
         "2.45699509"
        ]
       ],
       "shape": {
        "columns": 12,
        "rows": 6
       }
      },
      "text/html": [
       "<div>\n",
       "<style scoped>\n",
       "    .dataframe tbody tr th:only-of-type {\n",
       "        vertical-align: middle;\n",
       "    }\n",
       "\n",
       "    .dataframe tbody tr th {\n",
       "        vertical-align: top;\n",
       "    }\n",
       "\n",
       "    .dataframe thead th {\n",
       "        text-align: right;\n",
       "    }\n",
       "</style>\n",
       "<table border=\"1\" class=\"dataframe\">\n",
       "  <thead>\n",
       "    <tr style=\"text-align: right;\">\n",
       "      <th></th>\n",
       "      <th>Chỉ Tiêu</th>\n",
       "      <th></th>\n",
       "      <th>Thực Hiện</th>\n",
       "      <th>Cùng Kỳ</th>\n",
       "      <th>Kế Hoạch</th>\n",
       "      <th></th>\n",
       "      <th>LK Thực Hiện</th>\n",
       "      <th>LK Cùng Kỳ</th>\n",
       "      <th>LK Kế Hoạch</th>\n",
       "      <th></th>\n",
       "      <th>LK Thực Hiện</th>\n",
       "      <th>KH Năm</th>\n",
       "    </tr>\n",
       "  </thead>\n",
       "  <tbody>\n",
       "    <tr>\n",
       "      <th>0</th>\n",
       "      <td>Doanh thu</td>\n",
       "      <td></td>\n",
       "      <td>238.627999</td>\n",
       "      <td>2863.233029</td>\n",
       "      <td>238.627999</td>\n",
       "      <td></td>\n",
       "      <td>238.627999</td>\n",
       "      <td>2863.233029</td>\n",
       "      <td>238.627999</td>\n",
       "      <td></td>\n",
       "      <td>238.627999</td>\n",
       "      <td>238.627999</td>\n",
       "    </tr>\n",
       "    <tr>\n",
       "      <th>1</th>\n",
       "      <td>TSV</td>\n",
       "      <td></td>\n",
       "      <td>213.283714</td>\n",
       "      <td>1999.337113</td>\n",
       "      <td>213.283714</td>\n",
       "      <td></td>\n",
       "      <td>213.283714</td>\n",
       "      <td>1999.337113</td>\n",
       "      <td>213.283714</td>\n",
       "      <td></td>\n",
       "      <td>213.283714</td>\n",
       "      <td>213.283714</td>\n",
       "    </tr>\n",
       "    <tr>\n",
       "      <th>2</th>\n",
       "      <td>VM</td>\n",
       "      <td></td>\n",
       "      <td>25.344285</td>\n",
       "      <td>863.895916</td>\n",
       "      <td>25.344285</td>\n",
       "      <td></td>\n",
       "      <td>25.344285</td>\n",
       "      <td>863.895916</td>\n",
       "      <td>25.344285</td>\n",
       "      <td></td>\n",
       "      <td>25.344285</td>\n",
       "      <td>25.344285</td>\n",
       "    </tr>\n",
       "    <tr>\n",
       "      <th>3</th>\n",
       "      <td>Lãi Gộp</td>\n",
       "      <td></td>\n",
       "      <td>52.620572</td>\n",
       "      <td>501.150738</td>\n",
       "      <td>52.620572</td>\n",
       "      <td></td>\n",
       "      <td>52.620572</td>\n",
       "      <td>501.150738</td>\n",
       "      <td>52.620572</td>\n",
       "      <td></td>\n",
       "      <td>52.620572</td>\n",
       "      <td>52.620572</td>\n",
       "    </tr>\n",
       "    <tr>\n",
       "      <th>4</th>\n",
       "      <td>TSV</td>\n",
       "      <td></td>\n",
       "      <td>50.163577</td>\n",
       "      <td>461.260390</td>\n",
       "      <td>50.163577</td>\n",
       "      <td></td>\n",
       "      <td>50.163577</td>\n",
       "      <td>461.260390</td>\n",
       "      <td>50.163577</td>\n",
       "      <td></td>\n",
       "      <td>50.163577</td>\n",
       "      <td>50.163577</td>\n",
       "    </tr>\n",
       "    <tr>\n",
       "      <th>5</th>\n",
       "      <td>VM</td>\n",
       "      <td></td>\n",
       "      <td>2.456995</td>\n",
       "      <td>39.890348</td>\n",
       "      <td>2.456995</td>\n",
       "      <td></td>\n",
       "      <td>2.456995</td>\n",
       "      <td>39.890348</td>\n",
       "      <td>2.456995</td>\n",
       "      <td></td>\n",
       "      <td>2.456995</td>\n",
       "      <td>2.456995</td>\n",
       "    </tr>\n",
       "  </tbody>\n",
       "</table>\n",
       "</div>"
      ],
      "text/plain": [
       "    Chỉ Tiêu      Thực Hiện      Cùng Kỳ        Kế Hoạch        LK Thực Hiện  \\\n",
       "0  Doanh thu       238.627999    2863.233029     238.627999       238.627999   \n",
       "1        TSV       213.283714    1999.337113     213.283714       213.283714   \n",
       "2         VM        25.344285     863.895916      25.344285        25.344285   \n",
       "3    Lãi Gộp        52.620572     501.150738      52.620572        52.620572   \n",
       "4        TSV        50.163577     461.260390      50.163577        50.163577   \n",
       "5         VM         2.456995      39.890348       2.456995         2.456995   \n",
       "\n",
       "    LK Cùng Kỳ     LK Kế Hoạch      LK Thực Hiện          KH Năm  \n",
       "0    2863.233029     238.627999        238.627999     238.627999  \n",
       "1    1999.337113     213.283714        213.283714     213.283714  \n",
       "2     863.895916      25.344285         25.344285      25.344285  \n",
       "3     501.150738      52.620572         52.620572      52.620572  \n",
       "4     461.260390      50.163577         50.163577      50.163577  \n",
       "5      39.890348       2.456995          2.456995       2.456995  "
      ]
     },
     "execution_count": 8,
     "metadata": {},
     "output_type": "execute_result"
    }
   ],
   "source": [
    "import pandas as pd \n",
    "from glob import glob\n",
    "import os\n",
    "import requests\n",
    "import streamlit as st\n",
    "import helper\n",
    "\n",
    "import warnings\n",
    "warnings.filterwarnings(\"ignore\")\n",
    "\n",
    "# parquet = r\"https://raw.githubusercontent.com/Huynh-Tr/report/main/dthu.parquet\"\n",
    "parquet = r\"D:\\pnj.com.vn\\HuynhTN - Documents\\Project\\streamlit\\dthu.parquet\"\n",
    "\n",
    "def dthu():\n",
    "    df = pd.read_parquet(parquet)\n",
    "    df = df[df[\"Month year\"] != \"Month year\"]\n",
    "    df[\"Month year\"] = pd.to_datetime(df[\"Month year\"]).dt.to_period('M')\n",
    "    df[\"Plant Code\"] = df[\"Plant Code\"].astype('str')\n",
    "    lv2 = [\"DÂY ĐỒNG HỒ\", \"MẮT KÍNH\", \"ĐỒNG HỒ\"]\n",
    "    lv3 = [\"CAO\"]\n",
    "    lv4 = [\"TRANH/TƯỢNG/BIỂU TƯỢNG\", \"VÀNG KHÔNG ÉP SIÊU\", \"VÀNG ÉP SIÊU PNJ\", \"VÀNG ÉP SIÊU SJC\"]\n",
    "    account_code = [51131000, 51132000]\n",
    "    col = [\"Product Group 2 Name\", \"Product Group 3 Name\", \"Product Group 4 Name\", \"Month year\", \\\n",
    "        \"Plant Code\", \"Channel Description\", \"FM 01_Invoices Revenue\", \"FM 07_Gross Profit\"]\n",
    "\n",
    "    df_tsv = df.copy()\n",
    "    df_tsv = df_tsv[~df_tsv[\"Product Group 2 Name\"].isin(lv2)]\n",
    "    df_tsv = df_tsv[~df_tsv[\"Product Group 3 Name\"].isin(lv3)]\n",
    "    df_tsv = df_tsv[~df_tsv[\"Product Group 4 Name\"].isin(lv4)]\n",
    "    df_tsv = df_tsv[~df_tsv[\"GL Account Code\"].isin(account_code)]\n",
    "    df_tsv = df_tsv[col]\n",
    "\n",
    "    df_vm = df.copy()\n",
    "    df_vm = df_vm[df_vm[\"Product Group 4 Name\"].isin(lv4)]\n",
    "    df_vm = df_vm[col]\n",
    "\n",
    "    return df_tsv, df_vm\n",
    "\n",
    "def chitieu_theoky(df, col, year, month, plant_code):\n",
    "    if plant_code == 'Select All':\n",
    "        chitieu_th = df[(df[\"Month year\"].dt.month.isin(month)) & (df[\"Month year\"].dt.year.isin(year))][col].sum() / 1e9\n",
    "        chitieu_ck = df[(df[\"Month year\"].dt.month.isin(month)) & (df[\"Month year\"].dt.year.isin([max(year) - 1]))][col].sum() / 1e9\n",
    "        chitieu_lk = df[(df[\"Month year\"].dt.month.isin(range(1, max(month) + 1))) & (df[\"Month year\"].dt.year.isin(year))][col].sum() / 1e9\n",
    "        chitieu_ck_lk = df[(df[\"Month year\"].dt.month.isin(range(1, max(month) + 1))) & (df[\"Month year\"].dt.year.isin([max(year) - 1]))][col].sum() / 1e9\n",
    "\n",
    "    else:\n",
    "        chitieu_th = df[(df[\"Plant Code\"].isin(plant_code)) & (df[\"Month year\"].dt.month.isin(month)) & (df[\"Month year\"].dt.year.isin(year))][col].sum() / 1e9\n",
    "        chitieu_ck = df[(df[\"Plant Code\"].isin(plant_code)) & (df[\"Month year\"].dt.month.isin(month)) & (df[\"Month year\"].dt.year.isin([max(year) - 1]))][col].sum() / 1e9\n",
    "        chitieu_lk = df[(df[\"Plant Code\"].isin(plant_code)) & (df[\"Month year\"].dt.month.isin(range(1, max(month) + 1))) & (df[\"Month year\"].dt.year.isin(year))][col].sum() / 1e9\n",
    "        chitieu_ck_lk = df[(df[\"Plant Code\"].isin(plant_code)) & (df[\"Month year\"].dt.month.isin(range(1, max(month) + 1))) & (df[\"Month year\"].dt.year.isin([max(year) - 1]))][col].sum() / 1e9\n",
    "\n",
    "    return chitieu_th, chitieu_ck, chitieu_lk, chitieu_ck_lk\n",
    "\n",
    "def chitieu(year, month, plant_code='Select All'):    \n",
    "    data_tsv, data_vm = dthu()\n",
    "    if plant_code == 'Select All':\n",
    "        sum_fm_tsv01, sum_fm_tsv01_ck, sum_fm_tsv01_lk, sum_fm_tsv01_ck_lk = chitieu_theoky(df=data_tsv, col=\"FM 01_Invoices Revenue\", year=year, month=month, plant_code=plant_code)\n",
    "        sum_fm_vm01, sum_fm_vm01_ck, sum_fm_vm01_lk, sum_fm_vm01_ck_lk = chitieu_theoky(df=data_vm, col=\"FM 01_Invoices Revenue\", year=year, month=month, plant_code=plant_code)                  \n",
    "        sum_fm_tsv07, sum_fm_tsv07_ck, sum_fm_tsv07_lk, sum_fm_tsv07_ck_lk = chitieu_theoky(df=data_tsv, col=\"FM 07_Gross Profit\", year=year, month=month, plant_code=plant_code)\n",
    "        sum_fm_vm07, sum_fm_vm07_ck, sum_fm_vm07_lk, sum_fm_vm07_ck_lk = chitieu_theoky(df=data_vm, col=\"FM 07_Gross Profit\", year=year, month=month, plant_code=plant_code)\n",
    "\n",
    "    else:\n",
    "        sum_fm_tsv01, sum_fm_tsv01_ck, sum_fm_tsv01_lk, sum_fm_tsv01_ck_lk = chitieu_theoky(df=data_tsv, col=\"FM 01_Invoices Revenue\", year=year, month=month, plant_code=plant_code)\n",
    "        sum_fm_vm01, sum_fm_vm01_ck, sum_fm_vm01_lk, sum_fm_vm01_ck_lk = chitieu_theoky(df=data_vm, col=\"FM 01_Invoices Revenue\", year=year, month=month, plant_code=plant_code)                  \n",
    "        sum_fm_tsv07, sum_fm_tsv07_ck, sum_fm_tsv07_lk, sum_fm_tsv07_ck_lk = chitieu_theoky(df=data_tsv, col=\"FM 07_Gross Profit\", year=year, month=month, plant_code=plant_code)\n",
    "        sum_fm_vm07, sum_fm_vm07_ck, sum_fm_vm07_lk, sum_fm_vm07_ck_lk = chitieu_theoky(df=data_vm, col=\"FM 07_Gross Profit\", year=year, month=month, plant_code=plant_code)\n",
    "\n",
    "    print('sum_fm_tsv01:', sum_fm_tsv01)\n",
    "    result_dthu = pd.DataFrame(\n",
    "        {\n",
    "        'Chỉ Tiêu': ['Doanh thu', 'TSV', 'VM', 'Lãi Gộp', 'TSV', 'VM'],\n",
    "        '': ['', '', '', '', '', ''],\n",
    "        '  Thực Hiện  ': [(sum_fm_tsv01 + sum_fm_vm01), (sum_fm_tsv01), (sum_fm_vm01), (sum_fm_tsv07 + sum_fm_vm07), (sum_fm_tsv07), (sum_fm_vm07)],\n",
    "        '  Cùng Kỳ    ': [(sum_fm_tsv01_ck + sum_fm_vm01_ck), (sum_fm_tsv01_ck), (sum_fm_vm01_ck), (sum_fm_tsv07_ck + sum_fm_vm07_ck), (sum_fm_tsv07_ck), (sum_fm_vm07_ck)],\n",
    "        '  Kế Hoạch   ': [(sum_fm_tsv01 + sum_fm_vm01), (sum_fm_tsv01), (sum_fm_vm01), (sum_fm_tsv07 + sum_fm_vm07), (sum_fm_tsv07), (sum_fm_vm07)],\n",
    "        ' ': ['', '', '', '', '', ''],\n",
    "        ' LK Thực Hiện': [(sum_fm_tsv01_lk + sum_fm_vm01_lk), (sum_fm_tsv01_lk), (sum_fm_vm01_lk), (sum_fm_tsv07_lk + sum_fm_vm07_lk), (sum_fm_tsv07_lk), (sum_fm_vm07_lk)],\n",
    "        ' LK Cùng Kỳ  ': [(sum_fm_tsv01_ck_lk + sum_fm_vm01_ck_lk), (sum_fm_tsv01_ck_lk), (sum_fm_vm01_ck_lk), (sum_fm_tsv07_ck_lk + sum_fm_vm07_ck_lk), (sum_fm_tsv07_ck_lk), (sum_fm_vm07_ck_lk)],\n",
    "        ' LK Kế Hoạch ': [(sum_fm_tsv01 + sum_fm_vm01), (sum_fm_tsv01), (sum_fm_vm01), (sum_fm_tsv07 + sum_fm_vm07), (sum_fm_tsv07), (sum_fm_vm07)],\n",
    "        '  ': ['', '', '', '', '', ''],\n",
    "        'LK Thực Hiện ': [(sum_fm_tsv01_lk + sum_fm_vm01_lk), (sum_fm_tsv01_lk), (sum_fm_vm01_lk), (sum_fm_tsv07_lk + sum_fm_vm07_lk), (sum_fm_tsv07_lk), (sum_fm_vm07_lk)],\n",
    "        '       KH Năm': [(sum_fm_tsv01 + sum_fm_vm01), (sum_fm_tsv01), (sum_fm_vm01), (sum_fm_tsv07 + sum_fm_vm07), (sum_fm_tsv07), (sum_fm_vm07)]\n",
    "        }\n",
    "    )    \n",
    "\n",
    "    return result_dthu\n",
    "\n",
    "result_dthu = chitieu(year=[2025], month=[1, 2, 3, 4, 5, 6, 7, 8, 9, 10, 11, 12], plant_code='Select All')\n",
    "result_dthu"
   ]
  },
  {
   "cell_type": "code",
   "execution_count": null,
   "metadata": {},
   "outputs": [
    {
     "data": {
      "application/vnd.microsoft.datawrangler.viewer.v0+json": {
       "columns": [
        {
         "name": "index",
         "rawType": "int64",
         "type": "integer"
        },
        {
         "name": "Chỉ Tiêu",
         "rawType": "object",
         "type": "string"
        },
        {
         "name": "",
         "rawType": "object",
         "type": "string"
        },
        {
         "name": "  Thực Hiện  ",
         "rawType": "float64",
         "type": "float"
        },
        {
         "name": "  Cùng Kỳ    ",
         "rawType": "float64",
         "type": "float"
        },
        {
         "name": "  Kế Hoạch   ",
         "rawType": "float64",
         "type": "float"
        },
        {
         "name": " ",
         "rawType": "object",
         "type": "string"
        },
        {
         "name": " LK Thực Hiện",
         "rawType": "float64",
         "type": "float"
        },
        {
         "name": " LK Cùng Kỳ  ",
         "rawType": "float64",
         "type": "float"
        },
        {
         "name": " LK Kế Hoạch ",
         "rawType": "float64",
         "type": "float"
        },
        {
         "name": "  ",
         "rawType": "object",
         "type": "string"
        },
        {
         "name": "LK Thực Hiện ",
         "rawType": "float64",
         "type": "float"
        },
        {
         "name": "       KH Năm",
         "rawType": "float64",
         "type": "float"
        }
       ],
       "conversionMethod": "pd.DataFrame",
       "ref": "de777d7d-2b2e-4035-a31f-0d617dfc3e37",
       "rows": [
        [
         "0",
         "Doanh thu",
         "",
         "237.873086688",
         "163.73438782",
         "237.873086688",
         "",
         "1461.733854073",
         "1041.408330468",
         "237.873086688",
         "",
         "1461.733854073",
         "237.873086688"
        ],
        [
         "1",
         "TSV",
         "",
         "129.918365415",
         "121.280052274",
         "129.918365415",
         "",
         "840.018320521",
         "728.988884168",
         "129.918365415",
         "",
         "840.018320521",
         "129.918365415"
        ],
        [
         "2",
         "VM",
         "",
         "107.954721273",
         "42.454335546",
         "107.954721273",
         "",
         "621.715533552",
         "312.4194463",
         "107.954721273",
         "",
         "621.715533552",
         "107.954721273"
        ],
        [
         "3",
         "Lãi Gộp",
         "",
         "35.864401985",
         "30.470322294",
         "35.864401985",
         "",
         "31364141432.352154",
         "186.19515",
         "35.864401985",
         "",
         "31364141432.352154",
         "35.864401985"
        ],
        [
         "4",
         "TSV",
         "",
         "30.156580548",
         "29.107980439",
         "30.156580548",
         "",
         "199.352152764",
         "175.91972765",
         "30.156580548",
         "",
         "199.352152764",
         "30.156580548"
        ],
        [
         "5",
         "VM",
         "",
         "5.707821437",
         "1.362341855",
         "5.707821437",
         "",
         "31364141233.0",
         "10.27542235",
         "5.707821437",
         "",
         "31364141233.0",
         "5.707821437"
        ]
       ],
       "shape": {
        "columns": 12,
        "rows": 6
       }
      },
      "text/html": [
       "<div>\n",
       "<style scoped>\n",
       "    .dataframe tbody tr th:only-of-type {\n",
       "        vertical-align: middle;\n",
       "    }\n",
       "\n",
       "    .dataframe tbody tr th {\n",
       "        vertical-align: top;\n",
       "    }\n",
       "\n",
       "    .dataframe thead th {\n",
       "        text-align: right;\n",
       "    }\n",
       "</style>\n",
       "<table border=\"1\" class=\"dataframe\">\n",
       "  <thead>\n",
       "    <tr style=\"text-align: right;\">\n",
       "      <th></th>\n",
       "      <th>Chỉ Tiêu</th>\n",
       "      <th></th>\n",
       "      <th>Thực Hiện</th>\n",
       "      <th>Cùng Kỳ</th>\n",
       "      <th>Kế Hoạch</th>\n",
       "      <th></th>\n",
       "      <th>LK Thực Hiện</th>\n",
       "      <th>LK Cùng Kỳ</th>\n",
       "      <th>LK Kế Hoạch</th>\n",
       "      <th></th>\n",
       "      <th>LK Thực Hiện</th>\n",
       "      <th>KH Năm</th>\n",
       "    </tr>\n",
       "  </thead>\n",
       "  <tbody>\n",
       "    <tr>\n",
       "      <th>0</th>\n",
       "      <td>Doanh thu</td>\n",
       "      <td></td>\n",
       "      <td>237.873087</td>\n",
       "      <td>163.734388</td>\n",
       "      <td>237.873087</td>\n",
       "      <td></td>\n",
       "      <td>1.461734e+03</td>\n",
       "      <td>1041.408330</td>\n",
       "      <td>237.873087</td>\n",
       "      <td></td>\n",
       "      <td>1.461734e+03</td>\n",
       "      <td>237.873087</td>\n",
       "    </tr>\n",
       "    <tr>\n",
       "      <th>1</th>\n",
       "      <td>TSV</td>\n",
       "      <td></td>\n",
       "      <td>129.918365</td>\n",
       "      <td>121.280052</td>\n",
       "      <td>129.918365</td>\n",
       "      <td></td>\n",
       "      <td>8.400183e+02</td>\n",
       "      <td>728.988884</td>\n",
       "      <td>129.918365</td>\n",
       "      <td></td>\n",
       "      <td>8.400183e+02</td>\n",
       "      <td>129.918365</td>\n",
       "    </tr>\n",
       "    <tr>\n",
       "      <th>2</th>\n",
       "      <td>VM</td>\n",
       "      <td></td>\n",
       "      <td>107.954721</td>\n",
       "      <td>42.454336</td>\n",
       "      <td>107.954721</td>\n",
       "      <td></td>\n",
       "      <td>6.217155e+02</td>\n",
       "      <td>312.419446</td>\n",
       "      <td>107.954721</td>\n",
       "      <td></td>\n",
       "      <td>6.217155e+02</td>\n",
       "      <td>107.954721</td>\n",
       "    </tr>\n",
       "    <tr>\n",
       "      <th>3</th>\n",
       "      <td>Lãi Gộp</td>\n",
       "      <td></td>\n",
       "      <td>35.864402</td>\n",
       "      <td>30.470322</td>\n",
       "      <td>35.864402</td>\n",
       "      <td></td>\n",
       "      <td>3.136414e+10</td>\n",
       "      <td>186.195150</td>\n",
       "      <td>35.864402</td>\n",
       "      <td></td>\n",
       "      <td>3.136414e+10</td>\n",
       "      <td>35.864402</td>\n",
       "    </tr>\n",
       "    <tr>\n",
       "      <th>4</th>\n",
       "      <td>TSV</td>\n",
       "      <td></td>\n",
       "      <td>30.156581</td>\n",
       "      <td>29.107980</td>\n",
       "      <td>30.156581</td>\n",
       "      <td></td>\n",
       "      <td>1.993522e+02</td>\n",
       "      <td>175.919728</td>\n",
       "      <td>30.156581</td>\n",
       "      <td></td>\n",
       "      <td>1.993522e+02</td>\n",
       "      <td>30.156581</td>\n",
       "    </tr>\n",
       "    <tr>\n",
       "      <th>5</th>\n",
       "      <td>VM</td>\n",
       "      <td></td>\n",
       "      <td>5.707821</td>\n",
       "      <td>1.362342</td>\n",
       "      <td>5.707821</td>\n",
       "      <td></td>\n",
       "      <td>3.136414e+10</td>\n",
       "      <td>10.275422</td>\n",
       "      <td>5.707821</td>\n",
       "      <td></td>\n",
       "      <td>3.136414e+10</td>\n",
       "      <td>5.707821</td>\n",
       "    </tr>\n",
       "  </tbody>\n",
       "</table>\n",
       "</div>"
      ],
      "text/plain": [
       "    Chỉ Tiêu      Thực Hiện      Cùng Kỳ        Kế Hoạch        LK Thực Hiện  \\\n",
       "0  Doanh thu       237.873087     163.734388     237.873087     1.461734e+03   \n",
       "1        TSV       129.918365     121.280052     129.918365     8.400183e+02   \n",
       "2         VM       107.954721      42.454336     107.954721     6.217155e+02   \n",
       "3    Lãi Gộp        35.864402      30.470322      35.864402     3.136414e+10   \n",
       "4        TSV        30.156581      29.107980      30.156581     1.993522e+02   \n",
       "5         VM         5.707821       1.362342       5.707821     3.136414e+10   \n",
       "\n",
       "    LK Cùng Kỳ     LK Kế Hoạch      LK Thực Hiện          KH Năm  \n",
       "0    1041.408330     237.873087      1.461734e+03     237.873087  \n",
       "1     728.988884     129.918365      8.400183e+02     129.918365  \n",
       "2     312.419446     107.954721      6.217155e+02     107.954721  \n",
       "3     186.195150      35.864402      3.136414e+10      35.864402  \n",
       "4     175.919728      30.156581      1.993522e+02      30.156581  \n",
       "5      10.275422       5.707821      3.136414e+10       5.707821  "
      ]
     },
     "execution_count": 46,
     "metadata": {},
     "output_type": "execute_result"
    }
   ],
   "source": [
    "import pandas as pd \n",
    "from glob import glob\n",
    "import os\n",
    "import requests\n",
    "\n",
    "import warnings\n",
    "warnings.filterwarnings(\"ignore\")\n",
    "\n",
    "parquet = r\"https://raw.githubusercontent.com/Huynh-Tr/report/main/dthu.parquet\"\n",
    "\n",
    "def dthu():\n",
    "    df = pd.read_parquet(parquet)\n",
    "    df = df[df[\"Month year\"] != \"Month year\"]\n",
    "    df[\"Month year\"] = pd.to_datetime(df[\"Month year\"]).dt.to_period('M')\n",
    "    lv2 = [\"DÂY ĐỒNG HỒ\", \"MẮT KÍNH\", \"ĐỒNG HỒ\"]\n",
    "    lv3 = [\"CAO\"]\n",
    "    lv4 = [\"TRANH/TƯỢNG/BIỂU TƯỢNG\", \"VÀNG ÉP SIÊU PNJ\", \"VÀNG ÉP SIÊU SJC\"]\n",
    "    account_code = [51131000, 51132000]\n",
    "    col = [\"Product Group 2 Name\", \"Product Group 3 Name\", \"Product Group 4 Name\", \"Month year\", \\\n",
    "        \"Plant Code\", \"Channel Description\", \"FM 01_Invoices Revenue\", \"FM 07_Gross Profit\"]\n",
    "\n",
    "    df_tsv = df.copy()\n",
    "    df_tsv = df_tsv[~df_tsv[\"Product Group 2 Name\"].isin(lv2)]\n",
    "    df_tsv = df_tsv[~df_tsv[\"Product Group 3 Name\"].isin(lv3)]\n",
    "    df_tsv = df_tsv[~df_tsv[\"Product Group 4 Name\"].isin(lv4)]\n",
    "    df_tsv = df_tsv[~df_tsv[\"GL Account Code\"].isin(account_code)]\n",
    "    df_tsv = df_tsv[col]\n",
    "\n",
    "    df_vm = df.copy()\n",
    "    df_vm = df_vm[df_vm[\"Product Group 4 Name\"].isin(lv4)]\n",
    "    df_vm = df_vm[col]\n",
    "\n",
    "    return df_tsv, df_vm\n",
    "\n",
    "month = [5]\n",
    "year = [2024]\n",
    "def chitieu(year=year, month=month, plant_code='Select All'):    \n",
    "    data_tsv, data_vm = dthu()\n",
    "    if plant_code == 'Select All':\n",
    "        sum_fm_tsv01 = data_tsv[(data_tsv[\"Month year\"].dt.month.isin(month)) & (data_tsv[\"Month year\"].dt.year.isin(year))][\"FM 01_Invoices Revenue\"].sum() / 1e9\n",
    "        sum_fm_vm01 = data_vm[(data_vm[\"Month year\"].dt.month.isin(month)) & (data_vm[\"Month year\"].dt.year.isin(year))][\"FM 01_Invoices Revenue\"].sum() / 1e9\n",
    "        sum_fm_tsv07 = data_tsv[(data_tsv[\"Month year\"].dt.month.isin(month)) & (data_tsv[\"Month year\"].dt.year.isin(year))][\"FM 07_Gross Profit\"].sum() / 1e9\n",
    "        sum_fm_vm07 = data_vm[(data_vm[\"Month year\"].dt.month.isin(month)) & (data_vm[\"Month year\"].dt.year.isin(year))][\"FM 07_Gross Profit\"].sum() / 1e9\n",
    "\n",
    "        # lk\n",
    "        sum_fm_tsv01_lk = data_tsv[(data_tsv[\"Month year\"].dt.month.isin(range(1, max(month) + 1))) & (data_tsv[\"Month year\"].dt.year.isin(year))][\"FM 01_Invoices Revenue\"].sum() / 1e9\n",
    "        sum_fm_vm01_lk = data_vm[(data_vm[\"Month year\"].dt.month.isin(range(1, max(month) + 1))) & (data_vm[\"Month year\"].dt.year.isin(year))][\"FM 01_Invoices Revenue\"].sum() / 1e9\n",
    "        sum_fm_tsv07_lk = data_tsv[(data_tsv[\"Month year\"].dt.month.isin(range(1, max(month) + 1))) & (data_tsv[\"Month year\"].dt.year.isin(year))][\"FM 07_Gross Profit\"].sum() / 1e9\n",
    "        sum_fm_vm07_lk = 0 # data_vm[(data_vm[\"Month year\"].dt.month.isin(range(1, max(month) + 1))) & (data_vm[\"Month year\"].dt.year.isin(year))][\"FM 07_Gross Profit\"].sum() / 1e9\n",
    "\n",
    "        # ck\n",
    "        sum_fm_tsv01_ck = data_tsv[(data_tsv[\"Month year\"].dt.month.isin(month)) & (data_tsv[\"Month year\"].dt.year.isin([max(year) - 1]))][\"FM 01_Invoices Revenue\"].sum() / 1e9\n",
    "        sum_fm_vm01_ck = data_vm[(data_vm[\"Month year\"].dt.month.isin(month)) & (data_vm[\"Month year\"].dt.year.isin([max(year) - 1]))][\"FM 01_Invoices Revenue\"].sum() / 1e9\n",
    "        sum_fm_tsv07_ck = data_tsv[(data_tsv[\"Month year\"].dt.month.isin(month)) & (data_tsv[\"Month year\"].dt.year.isin([max(year) - 1]))][\"FM 07_Gross Profit\"].sum() / 1e9\n",
    "        sum_fm_vm07_ck = data_vm[(data_vm[\"Month year\"].dt.month.isin(month)) & (data_vm[\"Month year\"].dt.year.isin([max(year) - 1]))][\"FM 07_Gross Profit\"].sum() / 1e9\n",
    "\n",
    "        # lk ck\n",
    "        sum_fm_tsv01_lk_ck = data_tsv[(data_tsv[\"Month year\"].dt.month.isin(range(1, max(month) + 1))) & (data_tsv[\"Month year\"].dt.year.isin([max(year) - 1]))][\"FM 01_Invoices Revenue\"].sum() / 1e9\n",
    "        sum_fm_vm01_lk_ck = data_vm[(data_vm[\"Month year\"].dt.month.isin(range(1, max(month) + 1))) & (data_vm[\"Month year\"].dt.year.isin([max(year) - 1]))][\"FM 01_Invoices Revenue\"].sum() / 1e9\n",
    "        sum_fm_tsv07_lk_ck = data_tsv[(data_tsv[\"Month year\"].dt.month.isin(range(1, max(month) + 1))) & (data_tsv[\"Month year\"].dt.year.isin([max(year) - 1]))][\"FM 07_Gross Profit\"].sum() / 1e9\n",
    "        sum_fm_vm07_lk_ck = data_vm[(data_vm[\"Month year\"].dt.month.isin(range(1, max(month) + 1))) & (data_vm[\"Month year\"].dt.year.isin([max(year) - 1]))][\"FM 07_Gross Profit\"].sum() / 1e9\n",
    "        \n",
    "    else:\n",
    "        sum_fm_tsv01 = data_tsv[(data_tsv[\"Plant Code\"].isin(plant_code)) & (data_tsv[\"Month year\"].dt.month.isin(month)) & (data_tsv[\"Month year\"].dt.year.isin(year))][\"FM 01_Invoices Revenue\"].sum() / 1e9\n",
    "        sum_fm_vm01 = data_vm[(data_vm[\"Plant Code\"].isin(plant_code)) & (data_vm[\"Month year\"].dt.month.isin(month)) & (data_vm[\"Month year\"].dt.year.isin(year))][\"FM 01_Invoices Revenue\"].sum() / 1e9\n",
    "        sum_fm_tsv07 = data_tsv[(data_tsv[\"Plant Code\"].isin(plant_code)) & (data_tsv[\"Month year\"].dt.month.isin(month)) & (data_tsv[\"Month year\"].dt.year.isin(year))][\"FM 07_Gross Profit\"].sum() / 1e9\n",
    "        sum_fm_vm07 = data_vm[(data_vm[\"Plant Code\"].isin(plant_code)) & (data_vm[\"Month year\"].dt.month.isin(month)) & (data_vm[\"Month year\"].dt.year.isin(year))][\"FM 07_Gross Profit\"].sum() / 1e9\n",
    "\n",
    "        # lk\n",
    "        sum_fm_tsv01_lk = data_tsv[(data_tsv[\"Plant Code\"].isin(plant_code)) & (data_tsv[\"Month year\"].dt.month.isin(range(1, max(month) + 1))) & (data_tsv[\"Month year\"].dt.year.isin(year))][\"FM 01_Invoices Revenue\"].sum() / 1e9\n",
    "        sum_fm_vm01_lk = data_vm[(data_vm[\"Plant Code\"].isin(plant_code)) & (data_vm[\"Month year\"].dt.month.isin(range(1, max(month) + 1))) & (data_vm[\"Month year\"].dt.year.isin(year))][\"FM 01_Invoices Revenue\"].sum() / 1e9\n",
    "        sum_fm_tsv07_lk = data_tsv[(data_tsv[\"Plant Code\"].isin(plant_code)) & (data_tsv[\"Month year\"].dt.month.isin(range(1, max(month) + 1))) & (data_tsv[\"Month year\"].dt.year.isin(year))][\"FM 07_Gross Profit\"].sum() / 1e9\n",
    "        sum_fm_vm07_lk = data_vm[(data_vm[\"Plant Code\"].isin(plant_code)) & (data_vm[\"Month year\"].dt.month.isin(range(1, max(month) + 1))) & (data_vm[\"Month year\"].dt.year.isin(year))][\"FM 07_Gross Profit\"].sum() / 1e9\n",
    "\n",
    "        # ck\n",
    "        sum_fm_tsv01_ck = data_tsv[(data_tsv[\"Plant Code\"].isin(plant_code)) & (data_tsv[\"Month year\"].dt.month.isin(month)) & (data_tsv[\"Month year\"].dt.year.isin([max(year) - 1]))][\"FM 01_Invoices Revenue\"].sum() / 1e9\n",
    "        sum_fm_vm01_ck = data_vm[(data_vm[\"Plant Code\"].isin(plant_code)) & (data_vm[\"Month year\"].dt.month.isin(month)) & (data_vm[\"Month year\"].dt.year.isin([max(year) - 1]))][\"FM 01_Invoices Revenue\"].sum() / 1e9\n",
    "        sum_fm_tsv07_ck = data_tsv[(data_tsv[\"Plant Code\"].isin(plant_code)) & (data_tsv[\"Month year\"].dt.month.isin(month)) & (data_tsv[\"Month year\"].dt.year.isin([max(year) - 1]))][\"FM 07_Gross Profit\"].sum() / 1e9\n",
    "        sum_fm_vm07_ck = data_vm[(data_vm[\"Plant Code\"].isin(plant_code)) & (data_vm[\"Month year\"].dt.month.isin(month)) & (data_vm[\"Month year\"].dt.year.isin([max(year) - 1]))][\"FM 07_Gross Profit\"].sum() / 1e9\n",
    "\n",
    "        # lk ck\n",
    "        sum_fm_tsv01_lk_ck = data_tsv[(data_tsv[\"Plant Code\"].isin(plant_code)) & (data_tsv[\"Month year\"].dt.month.isin(range(1, max(month) + 1))) & (data_tsv[\"Month year\"].dt.year.isin([max(year) - 1]))][\"FM 01_Invoices Revenue\"].sum() / 1e9\n",
    "        sum_fm_vm01_lk_ck = data_vm[(data_vm[\"Plant Code\"].isin(plant_code)) & (data_vm[\"Month year\"].dt.month.isin(range(1, max(month) + 1))) & (data_vm[\"Month year\"].dt.year.isin([max(year) - 1]))][\"FM 01_Invoices Revenue\"].sum() / 1e9\n",
    "        sum_fm_tsv07_lk_ck = data_tsv[(data_tsv[\"Plant Code\"].isin(plant_code)) & (data_tsv[\"Month year\"].dt.month.isin(range(1, max(month) + 1))) & (data_tsv[\"Month year\"].dt.year.isin([max(year) - 1]))][\"FM 07_Gross Profit\"].sum() / 1e9\n",
    "        sum_fm_vm07_lk_ck = data_vm[(data_vm[\"Plant Code\"].isin(plant_code)) & (data_vm[\"Month year\"].dt.month.isin(range(1, max(month) + 1))) & (data_vm[\"Month year\"].dt.year.isin([max(year) - 1]))][\"FM 07_Gross Profit\"].sum() / 1e9\n",
    "\n",
    "    result_dthu = pd.DataFrame(\n",
    "        {\n",
    "        'Chỉ Tiêu': ['Doanh thu', 'TSV', 'VM', 'Lãi Gộp', 'TSV', 'VM'],\n",
    "        '': ['', '', '', '', '', ''],\n",
    "        '  Thực Hiện  ': [(sum_fm_tsv01 + sum_fm_vm01), (sum_fm_tsv01), (sum_fm_vm01), (sum_fm_tsv07 + sum_fm_vm07), (sum_fm_tsv07), (sum_fm_vm07)],\n",
    "        '  Cùng Kỳ    ': [(sum_fm_tsv01_ck + sum_fm_vm01_ck), (sum_fm_tsv01_ck), (sum_fm_vm01_ck), (sum_fm_tsv07_ck + sum_fm_vm07_ck), (sum_fm_tsv07_ck), (sum_fm_vm07_ck)],\n",
    "        '  Kế Hoạch   ': [(sum_fm_tsv01 + sum_fm_vm01), (sum_fm_tsv01), (sum_fm_vm01), (sum_fm_tsv07 + sum_fm_vm07), (sum_fm_tsv07), (sum_fm_vm07)],\n",
    "        ' ': ['', '', '', '', '', ''],\n",
    "        ' LK Thực Hiện': [(sum_fm_tsv01_lk + sum_fm_vm01_lk), (sum_fm_tsv01_lk), (sum_fm_vm01_lk), (sum_fm_tsv07_lk + sum_fm_vm07_lk), (sum_fm_tsv07_lk), (sum_fm_vm07_lk)],\n",
    "        ' LK Cùng Kỳ  ': [(sum_fm_tsv01_lk_ck + sum_fm_vm01_lk_ck), (sum_fm_tsv01_lk_ck), (sum_fm_vm01_lk_ck), (sum_fm_tsv07_lk_ck + sum_fm_vm07_lk_ck), (sum_fm_tsv07_lk_ck), (sum_fm_vm07_lk_ck)],\n",
    "        ' LK Kế Hoạch ': [(sum_fm_tsv01 + sum_fm_vm01), (sum_fm_tsv01), (sum_fm_vm01), (sum_fm_tsv07 + sum_fm_vm07), (sum_fm_tsv07), (sum_fm_vm07)],\n",
    "        '  ': ['', '', '', '', '', ''],\n",
    "        'LK Thực Hiện ': [(sum_fm_tsv01_lk + sum_fm_vm01_lk), (sum_fm_tsv01_lk), (sum_fm_vm01_lk), (sum_fm_tsv07_lk + sum_fm_vm07_lk), (sum_fm_tsv07_lk), (sum_fm_vm07_lk)],\n",
    "        '       KH Năm': [(sum_fm_tsv01 + sum_fm_vm01), (sum_fm_tsv01), (sum_fm_vm01), (sum_fm_tsv07 + sum_fm_vm07), (sum_fm_tsv07), (sum_fm_vm07)]\n",
    "        }\n",
    "    )    \n",
    "\n",
    "    return result_dthu\n",
    "\n",
    "    # return sum_fm_tsv01, sum_fm_vm01, sum_fm_tsv07, sum_fm_vm07, sum_fm_tsv01_lk, sum_fm_vm01_lk, sum_fm_tsv07_lk, sum_fm_vm07_lk, \\\n",
    "    #     sum_fm_tsv01_ck, sum_fm_vm01_ck, sum_fm_tsv07_ck, sum_fm_vm07_ck, sum_fm_tsv01_lk_ck, sum_fm_vm01_lk_ck, sum_fm_tsv07_lk_ck, sum_fm_vm07_lk_ck\n",
    "    \n",
    "\n",
    "result_dthu = chitieu(year, month, plant_code='Select All')\n",
    "\n",
    "# result_dthu = pd.DataFrame(\n",
    "#     {\n",
    "#         'Chỉ Tiêu': ['Doanh thu', 'TSV', 'VM', 'Lãi Gộp', 'TSV', 'VM'],\n",
    "#         '': ['', '', '', '', '', ''],\n",
    "#         '  Thực Hiện  ': [(sum_fm_tsv01 + sum_fm_vm01), (sum_fm_tsv01), (sum_fm_vm01), (sum_fm_tsv07 + sum_fm_vm07), (sum_fm_tsv07), (sum_fm_vm07)],\n",
    "#         '  Cùng Kỳ    ': [(sum_fm_tsv01_ck + sum_fm_vm01_ck), (sum_fm_tsv01_ck), (sum_fm_vm01_ck), (sum_fm_tsv07_ck + sum_fm_vm07_ck), (sum_fm_tsv07_ck), (sum_fm_vm07_ck)],\n",
    "#         '  Kế Hoạch   ': [(sum_fm_tsv01 + sum_fm_vm01), (sum_fm_tsv01), (sum_fm_vm01), (sum_fm_tsv07 + sum_fm_vm07), (sum_fm_tsv07), (sum_fm_vm07)],\n",
    "#         ' ': ['', '', '', '', '', ''],\n",
    "#         ' LK Thực Hiện': [(sum_fm_tsv01_lk + sum_fm_vm01_lk), (sum_fm_tsv01_lk), (sum_fm_vm01_lk), (sum_fm_tsv07_lk + sum_fm_vm07_lk), (sum_fm_tsv07_lk), (sum_fm_vm07_lk)],\n",
    "#         ' LK Cùng Kỳ  ': [(sum_fm_tsv01_lk_ck + sum_fm_vm01_lk_ck), (sum_fm_tsv01_lk_ck), (sum_fm_vm01_lk_ck), (sum_fm_tsv07_lk_ck + sum_fm_vm07_lk_ck), (sum_fm_tsv07_lk_ck), (sum_fm_vm07_lk_ck)],\n",
    "#         ' LK Kế Hoạch ': [(sum_fm_tsv01 + sum_fm_vm01), (sum_fm_tsv01), (sum_fm_vm01), (sum_fm_tsv07 + sum_fm_vm07), (sum_fm_tsv07), (sum_fm_vm07)],\n",
    "#         '  ': ['', '', '', '', '', ''],\n",
    "#         'LK Thực Hiện ': [(sum_fm_tsv01_lk + sum_fm_vm01_lk), (sum_fm_tsv01_lk), (sum_fm_vm01_lk), (sum_fm_tsv07_lk + sum_fm_vm07_lk), (sum_fm_tsv07_lk), (sum_fm_vm07_lk)],\n",
    "#         '       KH Năm': [(sum_fm_tsv01 + sum_fm_vm01), (sum_fm_tsv01), (sum_fm_vm01), (sum_fm_tsv07 + sum_fm_vm07), (sum_fm_tsv07), (sum_fm_vm07)]\n",
    "#     }\n",
    "# )\n",
    "\n",
    "result_dthu"
   ]
  },
  {
   "cell_type": "code",
   "execution_count": 45,
   "metadata": {},
   "outputs": [
    {
     "data": {
      "text/plain": [
       "5"
      ]
     },
     "execution_count": 45,
     "metadata": {},
     "output_type": "execute_result"
    }
   ],
   "source": [
    "max([1, 2, 4]) + 1"
   ]
  },
  {
   "cell_type": "markdown",
   "metadata": {},
   "source": [
    "# Parquet"
   ]
  },
  {
   "cell_type": "code",
   "execution_count": 2,
   "metadata": {},
   "outputs": [],
   "source": [
    "import pandas as pd\n",
    "import pyarrow as pa\n",
    "import pyarrow.parquet as pq\n",
    "from glob import glob  # For handling multiple CSV files\n",
    "import os"
   ]
  },
  {
   "cell_type": "code",
   "execution_count": 156,
   "metadata": {},
   "outputs": [],
   "source": [
    "path = \"D:\\pnj.com.vn\\HuynhTN - Documents\\Project\\streamlit\"\n",
    "\n",
    "csv_files = glob(os.path.join(path, \"Dthu\\\\*.csv\"))  # Get all CSV files in the directory\n",
    "# create a directory to save parquet files\n",
    "if not os.path.exists(os.path.join(path, \".\\parquet_files\")):\n",
    "    os.makedirs(os.path.join(path, \".\\parquet_files\"))\n",
    "\n",
    "parquet_directory = os.path.join(path, \"dthu_parquet_files\")\n",
    "\n",
    "for csv_file in csv_files:\n",
    "    df = pd.read_csv(csv_file)\n",
    "    table = pa.Table.from_pandas(df)\n",
    "\n",
    "    # Create parquet filename based on csv filename:\n",
    "    parquet_file = parquet_directory + \"\\\\\" + os.path.basename(csv_file).replace('.csv', '.parquet')\n",
    "\n",
    "    pq.write_table(table, parquet_file)\n"
   ]
  },
  {
   "cell_type": "code",
   "execution_count": null,
   "metadata": {},
   "outputs": [
    {
     "name": "stderr",
     "output_type": "stream",
     "text": [
      "<>:48: SyntaxWarning: invalid escape sequence '\\p'\n",
      "<>:48: SyntaxWarning: invalid escape sequence '\\p'\n",
      "C:\\Users\\huynh.th\\AppData\\Local\\Temp\\ipykernel_32680\\2253336765.py:48: SyntaxWarning: invalid escape sequence '\\p'\n",
      "  path = \"D:\\pnj.com.vn\\HuynhTN - Documents\\Project\\streamlit\"\n"
     ]
    },
    {
     "name": "stdout",
     "output_type": "stream",
     "text": [
      "An unexpected error occurred while processing D:\\pnj.com.vn\\HuynhTN - Documents\\Project\\streamlit\\Dthu\\202101.csv: __cinit__() got an unexpected keyword argument 'append'\n",
      "An unexpected error occurred while processing D:\\pnj.com.vn\\HuynhTN - Documents\\Project\\streamlit\\Dthu\\202102.csv: __cinit__() got an unexpected keyword argument 'append'\n",
      "An unexpected error occurred while processing D:\\pnj.com.vn\\HuynhTN - Documents\\Project\\streamlit\\Dthu\\202103.csv: __cinit__() got an unexpected keyword argument 'append'\n",
      "An unexpected error occurred while processing D:\\pnj.com.vn\\HuynhTN - Documents\\Project\\streamlit\\Dthu\\202104.csv: __cinit__() got an unexpected keyword argument 'append'\n",
      "An unexpected error occurred while processing D:\\pnj.com.vn\\HuynhTN - Documents\\Project\\streamlit\\Dthu\\202105.csv: __cinit__() got an unexpected keyword argument 'append'\n",
      "An unexpected error occurred while processing D:\\pnj.com.vn\\HuynhTN - Documents\\Project\\streamlit\\Dthu\\202106.csv: __cinit__() got an unexpected keyword argument 'append'\n",
      "An unexpected error occurred while processing D:\\pnj.com.vn\\HuynhTN - Documents\\Project\\streamlit\\Dthu\\202107.csv: __cinit__() got an unexpected keyword argument 'append'\n",
      "An unexpected error occurred while processing D:\\pnj.com.vn\\HuynhTN - Documents\\Project\\streamlit\\Dthu\\202108.csv: __cinit__() got an unexpected keyword argument 'append'\n",
      "An unexpected error occurred while processing D:\\pnj.com.vn\\HuynhTN - Documents\\Project\\streamlit\\Dthu\\202109.csv: __cinit__() got an unexpected keyword argument 'append'\n",
      "An unexpected error occurred while processing D:\\pnj.com.vn\\HuynhTN - Documents\\Project\\streamlit\\Dthu\\202110.csv: __cinit__() got an unexpected keyword argument 'append'\n",
      "An unexpected error occurred while processing D:\\pnj.com.vn\\HuynhTN - Documents\\Project\\streamlit\\Dthu\\202111.csv: __cinit__() got an unexpected keyword argument 'append'\n",
      "An unexpected error occurred while processing D:\\pnj.com.vn\\HuynhTN - Documents\\Project\\streamlit\\Dthu\\202112.csv: __cinit__() got an unexpected keyword argument 'append'\n",
      "An unexpected error occurred while processing D:\\pnj.com.vn\\HuynhTN - Documents\\Project\\streamlit\\Dthu\\202201.csv: __cinit__() got an unexpected keyword argument 'append'\n",
      "An unexpected error occurred while processing D:\\pnj.com.vn\\HuynhTN - Documents\\Project\\streamlit\\Dthu\\202202.csv: __cinit__() got an unexpected keyword argument 'append'\n",
      "An unexpected error occurred while processing D:\\pnj.com.vn\\HuynhTN - Documents\\Project\\streamlit\\Dthu\\202203.csv: __cinit__() got an unexpected keyword argument 'append'\n",
      "An unexpected error occurred while processing D:\\pnj.com.vn\\HuynhTN - Documents\\Project\\streamlit\\Dthu\\202204.csv: __cinit__() got an unexpected keyword argument 'append'\n",
      "An unexpected error occurred while processing D:\\pnj.com.vn\\HuynhTN - Documents\\Project\\streamlit\\Dthu\\202205.csv: __cinit__() got an unexpected keyword argument 'append'\n",
      "An unexpected error occurred while processing D:\\pnj.com.vn\\HuynhTN - Documents\\Project\\streamlit\\Dthu\\202206.csv: __cinit__() got an unexpected keyword argument 'append'\n",
      "An unexpected error occurred while processing D:\\pnj.com.vn\\HuynhTN - Documents\\Project\\streamlit\\Dthu\\202207.csv: __cinit__() got an unexpected keyword argument 'append'\n",
      "An unexpected error occurred while processing D:\\pnj.com.vn\\HuynhTN - Documents\\Project\\streamlit\\Dthu\\202208.csv: __cinit__() got an unexpected keyword argument 'append'\n",
      "An unexpected error occurred while processing D:\\pnj.com.vn\\HuynhTN - Documents\\Project\\streamlit\\Dthu\\202209.csv: __cinit__() got an unexpected keyword argument 'append'\n",
      "An unexpected error occurred while processing D:\\pnj.com.vn\\HuynhTN - Documents\\Project\\streamlit\\Dthu\\202210.csv: __cinit__() got an unexpected keyword argument 'append'\n",
      "An unexpected error occurred while processing D:\\pnj.com.vn\\HuynhTN - Documents\\Project\\streamlit\\Dthu\\202211.csv: __cinit__() got an unexpected keyword argument 'append'\n",
      "An unexpected error occurred while processing D:\\pnj.com.vn\\HuynhTN - Documents\\Project\\streamlit\\Dthu\\202212.csv: __cinit__() got an unexpected keyword argument 'append'\n",
      "An unexpected error occurred while processing D:\\pnj.com.vn\\HuynhTN - Documents\\Project\\streamlit\\Dthu\\202301.csv: __cinit__() got an unexpected keyword argument 'append'\n",
      "An unexpected error occurred while processing D:\\pnj.com.vn\\HuynhTN - Documents\\Project\\streamlit\\Dthu\\202302.csv: __cinit__() got an unexpected keyword argument 'append'\n",
      "An unexpected error occurred while processing D:\\pnj.com.vn\\HuynhTN - Documents\\Project\\streamlit\\Dthu\\202303.csv: __cinit__() got an unexpected keyword argument 'append'\n",
      "An unexpected error occurred while processing D:\\pnj.com.vn\\HuynhTN - Documents\\Project\\streamlit\\Dthu\\202304.csv: __cinit__() got an unexpected keyword argument 'append'\n",
      "An unexpected error occurred while processing D:\\pnj.com.vn\\HuynhTN - Documents\\Project\\streamlit\\Dthu\\202305.csv: __cinit__() got an unexpected keyword argument 'append'\n",
      "An unexpected error occurred while processing D:\\pnj.com.vn\\HuynhTN - Documents\\Project\\streamlit\\Dthu\\202306.csv: __cinit__() got an unexpected keyword argument 'append'\n",
      "An unexpected error occurred while processing D:\\pnj.com.vn\\HuynhTN - Documents\\Project\\streamlit\\Dthu\\202307.csv: __cinit__() got an unexpected keyword argument 'append'\n",
      "An unexpected error occurred while processing D:\\pnj.com.vn\\HuynhTN - Documents\\Project\\streamlit\\Dthu\\202308.csv: __cinit__() got an unexpected keyword argument 'append'\n",
      "An unexpected error occurred while processing D:\\pnj.com.vn\\HuynhTN - Documents\\Project\\streamlit\\Dthu\\202309.csv: __cinit__() got an unexpected keyword argument 'append'\n",
      "An unexpected error occurred while processing D:\\pnj.com.vn\\HuynhTN - Documents\\Project\\streamlit\\Dthu\\202310.csv: __cinit__() got an unexpected keyword argument 'append'\n",
      "An unexpected error occurred while processing D:\\pnj.com.vn\\HuynhTN - Documents\\Project\\streamlit\\Dthu\\202311.csv: __cinit__() got an unexpected keyword argument 'append'\n",
      "An unexpected error occurred while processing D:\\pnj.com.vn\\HuynhTN - Documents\\Project\\streamlit\\Dthu\\202312.csv: __cinit__() got an unexpected keyword argument 'append'\n",
      "An unexpected error occurred while processing D:\\pnj.com.vn\\HuynhTN - Documents\\Project\\streamlit\\Dthu\\20241-9.csv: __cinit__() got an unexpected keyword argument 'append'\n",
      "An unexpected error occurred while processing D:\\pnj.com.vn\\HuynhTN - Documents\\Project\\streamlit\\Dthu\\202410.csv: __cinit__() got an unexpected keyword argument 'append'\n",
      "An unexpected error occurred while processing D:\\pnj.com.vn\\HuynhTN - Documents\\Project\\streamlit\\Dthu\\202411.csv: __cinit__() got an unexpected keyword argument 'append'\n",
      "An unexpected error occurred while processing D:\\pnj.com.vn\\HuynhTN - Documents\\Project\\streamlit\\Dthu\\202412.csv: __cinit__() got an unexpected keyword argument 'append'\n",
      "An unexpected error occurred while processing D:\\pnj.com.vn\\HuynhTN - Documents\\Project\\streamlit\\Dthu\\202501.csv: __cinit__() got an unexpected keyword argument 'append'\n",
      "CSV files appended to Parquet file: output.parquet\n"
     ]
    }
   ],
   "source": [
    "\n",
    "\n",
    "# if not os.path.exists(os.path.join(path, \".\\parquet_files\")):\n",
    "#     os.makedirs(os.path.join(path, \".\\parquet_files\"))\n",
    "\n",
    "# parquet_directory = os.path.join(path, \"parquet_files\\\\file.parquet\")\n",
    "\n",
    "import pandas as pd\n",
    "import pyarrow as pa\n",
    "import pyarrow.parquet as pq\n",
    "from glob import glob\n",
    "import os\n",
    "\n",
    "def csv_to_parquet_append_legacy(csv_files, parquet_file):  # Legacy method\n",
    "     if not os.path.exists(parquet_file):\n",
    "         try:\n",
    "             first_df = pd.read_csv(csv_files)\n",
    "             table = pa.Table.from_pandas(first_df)\n",
    "             pq.write_table(table, parquet_file)\n",
    "         except FileNotFoundError:\n",
    "             print(f\"Error: First CSV file '{csv_files}' not found. Cannot create Parquet file.\")\n",
    "             return\n",
    "         except Exception as e:\n",
    "             print(f\"Error creating initial Parquet file: {e}\")\n",
    "             return\n",
    "\n",
    "     for csv_file in csv_files:\n",
    "         try:\n",
    "             df = pd.read_csv(csv_file)\n",
    "             table = pa.Table.from_pandas(df)\n",
    "\n",
    "             if os.path.exists(parquet_file):  # Read existing Parquet file\n",
    "                 existing_table = pq.read_table(parquet_file)\n",
    "                 combined_table = pa.concat_tables([existing_table, table]) # Concatenate tables\n",
    "                 pq.write_table(combined_table, parquet_file) # Write combined table back\n",
    "\n",
    "             else: #If file doesn't exist, write the table directly\n",
    "                 pq.write_table(table, parquet_file)\n",
    "\n",
    "         except FileNotFoundError:\n",
    "             print(f\"Error: CSV file '{csv_file}' not found.\")\n",
    "         except pa.lib.ArrowInvalid as e:\n",
    "             print(f\"Error converting CSV to Parquet: {e}. Check data types for file: {csv_file}\")\n",
    "         except Exception as e:\n",
    "             print(f\"An unexpected error occurred while processing {csv_file}: {e}\")\n",
    "\n",
    "# Example usage:\n",
    "path = \"D:\\pnj.com.vn\\HuynhTN - Documents\\Project\\streamlit\"\n",
    "csv_files = glob(os.path.join(path, \"Dthu\\\\*.csv\"))  # Get all CSV files in the directory\n",
    "\n",
    "parquet_file = 'output.parquet'  # Replace with your desired Parquet file path\n",
    "\n",
    "csv_to_parquet_append(csv_files, parquet_file)\n",
    "\n",
    "print(f\"CSV files appended to Parquet file: {parquet_file}\")"
   ]
  },
  {
   "cell_type": "code",
   "execution_count": 13,
   "metadata": {},
   "outputs": [],
   "source": [
    "# create an empty parquet file\n",
    "import pyarrow as pa\n",
    "import pyarrow.parquet as pq\n",
    "\n",
    "# Create an Arrow table with an empty schema\n",
    "parquet_file = 'output.parquet'\n",
    "table = pa.Table.from_pandas(pd.DataFrame())\n",
    "pq.write_table(table, parquet_file)"
   ]
  },
  {
   "cell_type": "code",
   "execution_count": 47,
   "metadata": {},
   "outputs": [],
   "source": [
    "import pyarrow as pa\n",
    "import pyarrow.parquet as pq\n",
    "\n",
    "# Create an Arrow table with an empty schema\n",
    "parquet_file = 'output.parquet'\n",
    "table = pa.Table.from_pandas(pd.DataFrame())\n",
    "# pq.write_table(table, parquet_file)\n",
    "\n",
    "# Path = \"D:\\pnj.com.vn\\HuynhTN - Documents\\Project\\streamlit\"\n",
    "path = \"D:\\pnj.com.vn\\HuynhTN - Documents\\Project\\streamlit\"\n",
    "csv_files = glob(os.path.join(path, \"Dthu\\\\*.csv\"))  # Get all CSV files in the directory\n",
    "\n",
    "pd_df = pd.concat([pd.read_csv(csv_file) for csv_file in csv_files])\n",
    "table = pa.Table.from_pandas(pd_df)\n",
    "pq.write_table(table, parquet_file)"
   ]
  }
 ],
 "metadata": {
  "kernelspec": {
   "display_name": "Python 3",
   "language": "python",
   "name": "python3"
  },
  "language_info": {
   "codemirror_mode": {
    "name": "ipython",
    "version": 3
   },
   "file_extension": ".py",
   "mimetype": "text/x-python",
   "name": "python",
   "nbconvert_exporter": "python",
   "pygments_lexer": "ipython3",
   "version": "3.12.2"
  }
 },
 "nbformat": 4,
 "nbformat_minor": 2
}
