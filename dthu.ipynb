{
 "cells": [
  {
   "cell_type": "code",
   "execution_count": 4,
   "metadata": {},
   "outputs": [],
   "source": [
    "import pandas as pd \n",
    "from glob import glob\n",
    "import os\n",
    "import office365\n",
    "import requests\n",
    "import pyarrow as pa\n",
    "import pyarrow.parquet as pq\n",
    "\n",
    "import warnings\n",
    "warnings.filterwarnings(\"ignore\")"
   ]
  },
  {
   "cell_type": "code",
   "execution_count": 157,
   "metadata": {},
   "outputs": [],
   "source": [
    "path = \"D:\\pnj.com.vn\\HuynhTN - Documents\\Project\\streamlit\"\n",
    "f = glob(\"Dthu\\*csv\")\n",
    "files_Dthu_parquet = glob(os.path.join(path, \"dthu_parquet_files\\\\*.parquet\"))\n",
    "files_CP = glob(os.path.join(path, \"CP\\\\*.csv\"))\n",
    "files_Others = glob(os.path.join(path, \"Others\\\\*.csv\"))\n",
    "files_SLBan = glob(os.path.join(path, \"SLBan\\\\*.csv\"))\n",
    "files_TK = glob(os.path.join(path, \"TK\\\\*.csv\"))"
   ]
  },
  {
   "cell_type": "markdown",
   "metadata": {},
   "source": [
    "# Cphi"
   ]
  },
  {
   "cell_type": "code",
   "execution_count": 55,
   "metadata": {},
   "outputs": [
    {
     "data": {
      "application/vnd.microsoft.datawrangler.viewer.v0+json": {
       "columns": [
        {
         "name": "index",
         "rawType": "int64",
         "type": "integer"
        },
        {
         "name": "Month year",
         "rawType": "period[M]",
         "type": "unknown"
        },
        {
         "name": "GL Account Code",
         "rawType": "int64",
         "type": "integer"
        },
        {
         "name": "GL LV1 Name",
         "rawType": "object",
         "type": "string"
        },
        {
         "name": "FM. Loc Amt",
         "rawType": "float64",
         "type": "float"
        },
        {
         "name": "PnL Name",
         "rawType": "object",
         "type": "string"
        },
        {
         "name": "MaCH",
         "rawType": "object",
         "type": "string"
        }
       ],
       "conversionMethod": "pd.DataFrame",
       "ref": "67b7dd74-186b-4b1d-aaf6-6644e1664a13",
       "rows": [
        [
         "0",
         "2022-01",
         "64130110",
         "CP CCDC",
         "-552500.0",
         "Chi phí bán hàng",
         "1013"
        ],
        [
         "1",
         "2022-01",
         "64130140",
         "CP CCDC",
         "-4387500.0",
         "Chi phí bán hàng",
         "1013"
        ],
        [
         "2",
         "2022-01",
         "64140110",
         "CP KH TSCĐ",
         "-3336389.0",
         "Chi phí bán hàng",
         "1013"
        ],
        [
         "3",
         "2022-01",
         "64140130",
         "CP KH TSCĐ",
         "-1533889.0",
         "Chi phí bán hàng",
         "1013"
        ],
        [
         "4",
         "2022-01",
         "64110100",
         "CP Nhân viên",
         "-111131428.0",
         "Chi phí bán hàng",
         "1115"
        ]
       ],
       "shape": {
        "columns": 6,
        "rows": 5
       }
      },
      "text/html": [
       "<div>\n",
       "<style scoped>\n",
       "    .dataframe tbody tr th:only-of-type {\n",
       "        vertical-align: middle;\n",
       "    }\n",
       "\n",
       "    .dataframe tbody tr th {\n",
       "        vertical-align: top;\n",
       "    }\n",
       "\n",
       "    .dataframe thead th {\n",
       "        text-align: right;\n",
       "    }\n",
       "</style>\n",
       "<table border=\"1\" class=\"dataframe\">\n",
       "  <thead>\n",
       "    <tr style=\"text-align: right;\">\n",
       "      <th></th>\n",
       "      <th>Month year</th>\n",
       "      <th>GL Account Code</th>\n",
       "      <th>GL LV1 Name</th>\n",
       "      <th>FM. Loc Amt</th>\n",
       "      <th>PnL Name</th>\n",
       "      <th>MaCH</th>\n",
       "    </tr>\n",
       "  </thead>\n",
       "  <tbody>\n",
       "    <tr>\n",
       "      <th>0</th>\n",
       "      <td>2022-01</td>\n",
       "      <td>64130110</td>\n",
       "      <td>CP CCDC</td>\n",
       "      <td>-552500.0</td>\n",
       "      <td>Chi phí bán hàng</td>\n",
       "      <td>1013</td>\n",
       "    </tr>\n",
       "    <tr>\n",
       "      <th>1</th>\n",
       "      <td>2022-01</td>\n",
       "      <td>64130140</td>\n",
       "      <td>CP CCDC</td>\n",
       "      <td>-4387500.0</td>\n",
       "      <td>Chi phí bán hàng</td>\n",
       "      <td>1013</td>\n",
       "    </tr>\n",
       "    <tr>\n",
       "      <th>2</th>\n",
       "      <td>2022-01</td>\n",
       "      <td>64140110</td>\n",
       "      <td>CP KH TSCĐ</td>\n",
       "      <td>-3336389.0</td>\n",
       "      <td>Chi phí bán hàng</td>\n",
       "      <td>1013</td>\n",
       "    </tr>\n",
       "    <tr>\n",
       "      <th>3</th>\n",
       "      <td>2022-01</td>\n",
       "      <td>64140130</td>\n",
       "      <td>CP KH TSCĐ</td>\n",
       "      <td>-1533889.0</td>\n",
       "      <td>Chi phí bán hàng</td>\n",
       "      <td>1013</td>\n",
       "    </tr>\n",
       "    <tr>\n",
       "      <th>4</th>\n",
       "      <td>2022-01</td>\n",
       "      <td>64110100</td>\n",
       "      <td>CP Nhân viên</td>\n",
       "      <td>-111131428.0</td>\n",
       "      <td>Chi phí bán hàng</td>\n",
       "      <td>1115</td>\n",
       "    </tr>\n",
       "  </tbody>\n",
       "</table>\n",
       "</div>"
      ],
      "text/plain": [
       "  Month year  GL Account Code   GL LV1 Name  FM. Loc Amt          PnL Name  \\\n",
       "0    2022-01         64130110       CP CCDC    -552500.0  Chi phí bán hàng   \n",
       "1    2022-01         64130140       CP CCDC   -4387500.0  Chi phí bán hàng   \n",
       "2    2022-01         64140110    CP KH TSCĐ   -3336389.0  Chi phí bán hàng   \n",
       "3    2022-01         64140130    CP KH TSCĐ   -1533889.0  Chi phí bán hàng   \n",
       "4    2022-01         64110100  CP Nhân viên -111131428.0  Chi phí bán hàng   \n",
       "\n",
       "   MaCH  \n",
       "0  1013  \n",
       "1  1013  \n",
       "2  1013  \n",
       "3  1013  \n",
       "4  1115  "
      ]
     },
     "execution_count": 55,
     "metadata": {},
     "output_type": "execute_result"
    }
   ],
   "source": [
    "df_cp = pd.read_parquet(r\"https://raw.githubusercontent.com/Huynh-Tr/report/main/cphi.parquet\")\n",
    "# df_cp = df[df[\"Month year\"] != \"Month year\"]\n",
    "df_cp[\"Month year\"] = pd.to_datetime(df_cp[\"Month year\"]).dt.to_period('M')\n",
    "\n",
    "# create MaCH column with condition right 4 chartacters of cost center code if not null else right 4 characters of GL Account Code\n",
    "df_cp[\"MaCH\"] = df_cp[\"Cost Center Code\"].fillna(df_cp[\"Plant Code\"].astype('str')).astype('int').astype('str').str[-4:] \\\n",
    "    .replace('0000', 'P015').replace('9999', 'P015')\n",
    "\n",
    "df_cp[\"FM. Loc Amt\"] = df_cp[\"FM. Loc Amt\"].astype('float')\n",
    "\n",
    "cols = [\"Month year\", \"GL Account Code\", \"GL LV1 Name\", \"FM. Loc Amt\", \"PnL Name\", \"MaCH\"]\n",
    "gl_code_exl = 64110120 # list of GL Account Code\n",
    "gl_code_range = [64100000, 64252100]\n",
    "\n",
    "# filter data cols with gl_code_exl and in range gl_code_range\n",
    "df_cp = df_cp[cols][(df_cp[\"GL Account Code\"] != gl_code_exl) & (df_cp[\"GL Account Code\"].between(gl_code_range[0], gl_code_range[1]))]\n",
    "\n",
    "df_cp.head()"
   ]
  },
  {
   "cell_type": "code",
   "execution_count": 3,
   "metadata": {},
   "outputs": [
    {
     "data": {
      "text/plain": [
       "[4, 5, 6, 7, 8, 9, 10, 11, 12]"
      ]
     },
     "execution_count": 3,
     "metadata": {},
     "output_type": "execute_result"
    }
   ],
   "source": [
    "list(range(4, 13))"
   ]
  },
  {
   "cell_type": "code",
   "execution_count": 57,
   "metadata": {},
   "outputs": [
    {
     "data": {
      "text/plain": [
       "array(['CP CCDC', 'CP KH TSCĐ', 'CP Nhân viên', 'CP vật liệu phụ',\n",
       "       'CP Còn lại', 'CP Thuê ngoài', 'CP hành chính', 'CP chuyển tiền',\n",
       "       'CP Marketing & Khuyến mãi', 'CP sửa chữa, bảo trì'], dtype=object)"
      ]
     },
     "execution_count": 57,
     "metadata": {},
     "output_type": "execute_result"
    }
   ],
   "source": [
    "df_cp[\"GL LV1 Name\"].unique()"
   ]
  },
  {
   "cell_type": "code",
   "execution_count": 74,
   "metadata": {},
   "outputs": [
    {
     "data": {
      "application/vnd.microsoft.datawrangler.viewer.v0+json": {
       "columns": [
        {
         "name": "index",
         "rawType": "int64",
         "type": "integer"
        },
        {
         "name": "Month year",
         "rawType": "period[M]",
         "type": "unknown"
        },
        {
         "name": "GL Account Code",
         "rawType": "int64",
         "type": "integer"
        },
        {
         "name": "GL LV1 Name",
         "rawType": "object",
         "type": "string"
        },
        {
         "name": "FM. Loc Amt",
         "rawType": "float64",
         "type": "float"
        },
        {
         "name": "PnL Name",
         "rawType": "object",
         "type": "string"
        },
        {
         "name": "MaCH",
         "rawType": "object",
         "type": "string"
        }
       ],
       "conversionMethod": "pd.DataFrame",
       "ref": "53a1fb25-c11f-40e5-a38e-5eb84cc0ef80",
       "rows": [
        [
         "0",
         "2022-01",
         "64130110",
         "CP CCDC",
         "-552500.0",
         "Chi phí bán hàng",
         "1013"
        ],
        [
         "1",
         "2022-01",
         "64130140",
         "CP CCDC",
         "-4387500.0",
         "Chi phí bán hàng",
         "1013"
        ],
        [
         "2",
         "2022-01",
         "64140110",
         "CP KH TSCĐ",
         "-3336389.0",
         "Chi phí bán hàng",
         "1013"
        ],
        [
         "3",
         "2022-01",
         "64140130",
         "CP KH TSCĐ",
         "-1533889.0",
         "Chi phí bán hàng",
         "1013"
        ],
        [
         "4",
         "2022-01",
         "64110100",
         "CP Nhân viên",
         "-111131428.0",
         "Chi phí bán hàng",
         "1115"
        ]
       ],
       "shape": {
        "columns": 6,
        "rows": 5
       }
      },
      "text/html": [
       "<div>\n",
       "<style scoped>\n",
       "    .dataframe tbody tr th:only-of-type {\n",
       "        vertical-align: middle;\n",
       "    }\n",
       "\n",
       "    .dataframe tbody tr th {\n",
       "        vertical-align: top;\n",
       "    }\n",
       "\n",
       "    .dataframe thead th {\n",
       "        text-align: right;\n",
       "    }\n",
       "</style>\n",
       "<table border=\"1\" class=\"dataframe\">\n",
       "  <thead>\n",
       "    <tr style=\"text-align: right;\">\n",
       "      <th></th>\n",
       "      <th>Month year</th>\n",
       "      <th>GL Account Code</th>\n",
       "      <th>GL LV1 Name</th>\n",
       "      <th>FM. Loc Amt</th>\n",
       "      <th>PnL Name</th>\n",
       "      <th>MaCH</th>\n",
       "    </tr>\n",
       "  </thead>\n",
       "  <tbody>\n",
       "    <tr>\n",
       "      <th>0</th>\n",
       "      <td>2022-01</td>\n",
       "      <td>64130110</td>\n",
       "      <td>CP CCDC</td>\n",
       "      <td>-552500.0</td>\n",
       "      <td>Chi phí bán hàng</td>\n",
       "      <td>1013</td>\n",
       "    </tr>\n",
       "    <tr>\n",
       "      <th>1</th>\n",
       "      <td>2022-01</td>\n",
       "      <td>64130140</td>\n",
       "      <td>CP CCDC</td>\n",
       "      <td>-4387500.0</td>\n",
       "      <td>Chi phí bán hàng</td>\n",
       "      <td>1013</td>\n",
       "    </tr>\n",
       "    <tr>\n",
       "      <th>2</th>\n",
       "      <td>2022-01</td>\n",
       "      <td>64140110</td>\n",
       "      <td>CP KH TSCĐ</td>\n",
       "      <td>-3336389.0</td>\n",
       "      <td>Chi phí bán hàng</td>\n",
       "      <td>1013</td>\n",
       "    </tr>\n",
       "    <tr>\n",
       "      <th>3</th>\n",
       "      <td>2022-01</td>\n",
       "      <td>64140130</td>\n",
       "      <td>CP KH TSCĐ</td>\n",
       "      <td>-1533889.0</td>\n",
       "      <td>Chi phí bán hàng</td>\n",
       "      <td>1013</td>\n",
       "    </tr>\n",
       "    <tr>\n",
       "      <th>4</th>\n",
       "      <td>2022-01</td>\n",
       "      <td>64110100</td>\n",
       "      <td>CP Nhân viên</td>\n",
       "      <td>-111131428.0</td>\n",
       "      <td>Chi phí bán hàng</td>\n",
       "      <td>1115</td>\n",
       "    </tr>\n",
       "  </tbody>\n",
       "</table>\n",
       "</div>"
      ],
      "text/plain": [
       "  Month year  GL Account Code   GL LV1 Name  FM. Loc Amt          PnL Name  \\\n",
       "0    2022-01         64130110       CP CCDC    -552500.0  Chi phí bán hàng   \n",
       "1    2022-01         64130140       CP CCDC   -4387500.0  Chi phí bán hàng   \n",
       "2    2022-01         64140110    CP KH TSCĐ   -3336389.0  Chi phí bán hàng   \n",
       "3    2022-01         64140130    CP KH TSCĐ   -1533889.0  Chi phí bán hàng   \n",
       "4    2022-01         64110100  CP Nhân viên -111131428.0  Chi phí bán hàng   \n",
       "\n",
       "   MaCH  \n",
       "0  1013  \n",
       "1  1013  \n",
       "2  1013  \n",
       "3  1013  \n",
       "4  1115  "
      ]
     },
     "execution_count": 74,
     "metadata": {},
     "output_type": "execute_result"
    }
   ],
   "source": [
    "df_cp = pd.concat([pd.read_csv(file, encoding='utf-8', sep=',', header=0) for file in files_CP])\n",
    "df_cp[\"Month year\"] = pd.to_datetime(df_cp[\"Month year\"]).dt.to_period('M')\n",
    "\n",
    "# create MaCH column with condition right 4 chartacters of cost center code if not null else right 4 characters of GL Account Code\n",
    "df_cp[\"MaCH\"] = df_cp[\"Cost Center Code\"].fillna(df_cp[\"Plant Code\"].astype('str')).astype('int').astype('str').str[-4:] \\\n",
    "    .replace('0000', 'P015').replace('9999', 'P015')\n",
    "\n",
    "\n",
    "cols = [\"Month year\", \"GL Account Code\", \"GL LV1 Name\", \"FM. Loc Amt\", \"PnL Name\", \"MaCH\"]\n",
    "gl_code_exl = 64110120 # list of GL Account Code\n",
    "gl_code_range = [64100000, 64252100]\n",
    "\n",
    "# filter data cols with gl_code_exl and in range gl_code_range\n",
    "df_cp = df_cp[cols][(df_cp[\"GL Account Code\"] != gl_code_exl) & (df_cp[\"GL Account Code\"].between(gl_code_range[0], gl_code_range[1]))]\n",
    "\n",
    "df_cp.head()"
   ]
  },
  {
   "cell_type": "code",
   "execution_count": null,
   "metadata": {},
   "outputs": [
    {
     "data": {
      "text/plain": [
       "GL LV1 Name                Month year\n",
       "CP CCDC                    2025-01      -0.744826\n",
       "CP Còn lại                 2025-01      -0.817176\n",
       "CP KH TSCĐ                 2025-01      -0.211752\n",
       "CP Marketing & Khuyến mãi  2025-01      -0.007248\n",
       "CP Nhân viên               2025-01      -8.924364\n",
       "CP Thuê ngoài              2025-01      -2.867169\n",
       "CP chuyển tiền             2025-01      -0.529042\n",
       "CP hành chính              2025-01      -0.442921\n",
       "CP sửa chữa, bảo trì       2025-01      -1.238189\n",
       "CP vật liệu phụ            2025-01      -0.493743\n",
       "Name: FM. Loc Amt, dtype: float64"
      ]
     },
     "execution_count": 75,
     "metadata": {},
     "output_type": "execute_result"
    }
   ],
   "source": [
    "# group by GL LV1 Name and Month year\n",
    "df_cp[df_cp[\"Month year\"]==\"2025-01\"].groupby([\"GL LV1 Name\", \"Month year\"])[\"FM. Loc Amt\"].sum() / 1e9"
   ]
  },
  {
   "cell_type": "markdown",
   "metadata": {},
   "source": [
    "# Dthu"
   ]
  },
  {
   "cell_type": "code",
   "execution_count": 99,
   "metadata": {},
   "outputs": [
    {
     "name": "stdout",
     "output_type": "stream",
     "text": [
      "213.28 50.16\n",
      "25.34 2.46\n"
     ]
    }
   ],
   "source": [
    "df = pd.read_csv(files_Dthu[-1], encoding='utf-8', sep=',', header=0)\n",
    "df[\"Month year\"] = pd.to_datetime(df[\"Month year\"]).dt.to_period('M')\n",
    "lv2 = [\"DÂY ĐỒNG HỒ\", \"MẮT KÍNH\", \"ĐỒNG HỒ\"]\n",
    "lv3 = [\"CAO\"]\n",
    "lv4 = [\"TRANH/TƯỢNG/BIỂU TƯỢNG\", \"VÀNG ÉP SIÊU PNJ\", \"VÀNG ÉP SIÊU SJC\"]\n",
    "account_code = [51131000, 51132000]\n",
    "df_tsv = df[~df[\"Product Group 2 Name\"].isin(lv2)][~df[\"Product Group 3 Name\"].isin(lv3)][~df[\"Product Group 4 Name\"].isin(lv4)][~df[\"GL Account Code\"].isin(account_code)]\n",
    "df_vm = df[df[\"Product Group 4 Name\"].isin(lv4)]\n",
    "\n",
    "# Dthu, LG TSV\n",
    "DT_TSV = f'{df_tsv[\"FM 01_Invoices Revenue\"].sum() / 1e9 :.2f}'\n",
    "LG_TSV = f'{df_tsv[\"FM 07_Gross Profit\"].sum() / 1e9 :.2f}'\n",
    "print(DT_TSV, LG_TSV)\n",
    "\n",
    "# Dthu, LG VM\n",
    "DT_VM = f'{df_vm[\"FM 01_Invoices Revenue\"].sum() / 1e9 :.2f}'\n",
    "LG_VM = f'{df_vm[\"FM 07_Gross Profit\"].sum() / 1e9 :.2f}'\n",
    "print(DT_VM, LG_VM)"
   ]
  },
  {
   "cell_type": "code",
   "execution_count": 86,
   "metadata": {},
   "outputs": [
    {
     "data": {
      "application/vnd.microsoft.datawrangler.viewer.v0+json": {
       "columns": [
        {
         "name": "index",
         "rawType": "int64",
         "type": "integer"
        },
        {
         "name": "Product Group 2 Name",
         "rawType": "object",
         "type": "string"
        },
        {
         "name": "Product Group 3 Name",
         "rawType": "object",
         "type": "string"
        },
        {
         "name": "Product Group 4 Name",
         "rawType": "object",
         "type": "string"
        },
        {
         "name": "Month year",
         "rawType": "period[M]",
         "type": "unknown"
        },
        {
         "name": "Plant Code",
         "rawType": "int64",
         "type": "integer"
        },
        {
         "name": "Channel Description",
         "rawType": "object",
         "type": "string"
        },
        {
         "name": "FM 01_Invoices Revenue",
         "rawType": "float64",
         "type": "float"
        },
        {
         "name": "FM 07_Gross Profit",
         "rawType": "float64",
         "type": "float"
        }
       ],
       "conversionMethod": "pd.DataFrame",
       "ref": "a8b0d53c-f2e2-4db2-ba9a-745bd709a5b6",
       "rows": [
        [
         "0",
         "LOẠI KHÁC",
         "MISCELLANEOUS",
         "BÁCH HÓA TỔNG HỢP",
         "2025-01",
         "1013",
         "Retail",
         "29536292.0",
         "5316533.0"
        ],
        [
         "1",
         "LOẠI KHÁC",
         "MISCELLANEOUS",
         "BÁCH HÓA TỔNG HỢP",
         "2025-01",
         "1115",
         "Retail",
         "99000.0",
         "17820.0"
        ],
        [
         "2",
         "LOẠI KHÁC",
         "MISCELLANEOUS",
         "BÁCH HÓA TỔNG HỢP",
         "2025-01",
         "1115",
         "Retail",
         "-99000.0",
         "-17820.0"
        ],
        [
         "3",
         "LOẠI KHÁC",
         "MISCELLANEOUS",
         "BÁCH HÓA TỔNG HỢP",
         "2025-01",
         "1473",
         "Retail",
         "396000.0",
         "71280.0"
        ],
        [
         "4",
         "LOẠI KHÁC",
         "MISCELLANEOUS",
         "BÁCH HÓA TỔNG HỢP",
         "2025-01",
         "1473",
         "Retail",
         "-396000.0",
         "-71280.0"
        ]
       ],
       "shape": {
        "columns": 8,
        "rows": 5
       }
      },
      "text/html": [
       "<div>\n",
       "<style scoped>\n",
       "    .dataframe tbody tr th:only-of-type {\n",
       "        vertical-align: middle;\n",
       "    }\n",
       "\n",
       "    .dataframe tbody tr th {\n",
       "        vertical-align: top;\n",
       "    }\n",
       "\n",
       "    .dataframe thead th {\n",
       "        text-align: right;\n",
       "    }\n",
       "</style>\n",
       "<table border=\"1\" class=\"dataframe\">\n",
       "  <thead>\n",
       "    <tr style=\"text-align: right;\">\n",
       "      <th></th>\n",
       "      <th>Product Group 2 Name</th>\n",
       "      <th>Product Group 3 Name</th>\n",
       "      <th>Product Group 4 Name</th>\n",
       "      <th>Month year</th>\n",
       "      <th>Plant Code</th>\n",
       "      <th>Channel Description</th>\n",
       "      <th>FM 01_Invoices Revenue</th>\n",
       "      <th>FM 07_Gross Profit</th>\n",
       "    </tr>\n",
       "  </thead>\n",
       "  <tbody>\n",
       "    <tr>\n",
       "      <th>0</th>\n",
       "      <td>LOẠI KHÁC</td>\n",
       "      <td>MISCELLANEOUS</td>\n",
       "      <td>BÁCH HÓA TỔNG HỢP</td>\n",
       "      <td>2025-01</td>\n",
       "      <td>1013</td>\n",
       "      <td>Retail</td>\n",
       "      <td>29536292.0</td>\n",
       "      <td>5316533.0</td>\n",
       "    </tr>\n",
       "    <tr>\n",
       "      <th>1</th>\n",
       "      <td>LOẠI KHÁC</td>\n",
       "      <td>MISCELLANEOUS</td>\n",
       "      <td>BÁCH HÓA TỔNG HỢP</td>\n",
       "      <td>2025-01</td>\n",
       "      <td>1115</td>\n",
       "      <td>Retail</td>\n",
       "      <td>99000.0</td>\n",
       "      <td>17820.0</td>\n",
       "    </tr>\n",
       "    <tr>\n",
       "      <th>2</th>\n",
       "      <td>LOẠI KHÁC</td>\n",
       "      <td>MISCELLANEOUS</td>\n",
       "      <td>BÁCH HÓA TỔNG HỢP</td>\n",
       "      <td>2025-01</td>\n",
       "      <td>1115</td>\n",
       "      <td>Retail</td>\n",
       "      <td>-99000.0</td>\n",
       "      <td>-17820.0</td>\n",
       "    </tr>\n",
       "    <tr>\n",
       "      <th>3</th>\n",
       "      <td>LOẠI KHÁC</td>\n",
       "      <td>MISCELLANEOUS</td>\n",
       "      <td>BÁCH HÓA TỔNG HỢP</td>\n",
       "      <td>2025-01</td>\n",
       "      <td>1473</td>\n",
       "      <td>Retail</td>\n",
       "      <td>396000.0</td>\n",
       "      <td>71280.0</td>\n",
       "    </tr>\n",
       "    <tr>\n",
       "      <th>4</th>\n",
       "      <td>LOẠI KHÁC</td>\n",
       "      <td>MISCELLANEOUS</td>\n",
       "      <td>BÁCH HÓA TỔNG HỢP</td>\n",
       "      <td>2025-01</td>\n",
       "      <td>1473</td>\n",
       "      <td>Retail</td>\n",
       "      <td>-396000.0</td>\n",
       "      <td>-71280.0</td>\n",
       "    </tr>\n",
       "  </tbody>\n",
       "</table>\n",
       "</div>"
      ],
      "text/plain": [
       "  Product Group 2 Name Product Group 3 Name Product Group 4 Name Month year  \\\n",
       "0            LOẠI KHÁC        MISCELLANEOUS    BÁCH HÓA TỔNG HỢP    2025-01   \n",
       "1            LOẠI KHÁC        MISCELLANEOUS    BÁCH HÓA TỔNG HỢP    2025-01   \n",
       "2            LOẠI KHÁC        MISCELLANEOUS    BÁCH HÓA TỔNG HỢP    2025-01   \n",
       "3            LOẠI KHÁC        MISCELLANEOUS    BÁCH HÓA TỔNG HỢP    2025-01   \n",
       "4            LOẠI KHÁC        MISCELLANEOUS    BÁCH HÓA TỔNG HỢP    2025-01   \n",
       "\n",
       "   Plant Code Channel Description  FM 01_Invoices Revenue  FM 07_Gross Profit  \n",
       "0        1013              Retail              29536292.0           5316533.0  \n",
       "1        1115              Retail                 99000.0             17820.0  \n",
       "2        1115              Retail                -99000.0            -17820.0  \n",
       "3        1473              Retail                396000.0             71280.0  \n",
       "4        1473              Retail               -396000.0            -71280.0  "
      ]
     },
     "execution_count": 86,
     "metadata": {},
     "output_type": "execute_result"
    }
   ],
   "source": [
    "col = [\"Product Group 2 Name\", \"Product Group 3 Name\", \"Product Group 4 Name\", \"Month year\", \"Plant Code\", \"Channel Description\", \"FM 01_Invoices Revenue\", \"FM 07_Gross Profit\"]\n",
    "df_tsv = df_tsv[col]\n",
    "df_tsv.head()"
   ]
  },
  {
   "cell_type": "code",
   "execution_count": 80,
   "metadata": {},
   "outputs": [
    {
     "data": {
      "application/vnd.microsoft.datawrangler.viewer.v0+json": {
       "columns": [
        {
         "name": "index",
         "rawType": "int64",
         "type": "integer"
        },
        {
         "name": "Product Group 2 Name",
         "rawType": "object",
         "type": "string"
        },
        {
         "name": "Product Group 3 Name",
         "rawType": "object",
         "type": "string"
        },
        {
         "name": "Product Group 4 Name",
         "rawType": "object",
         "type": "string"
        },
        {
         "name": "Month year",
         "rawType": "object",
         "type": "string"
        },
        {
         "name": "Plant Code",
         "rawType": "int64",
         "type": "integer"
        },
        {
         "name": "Channel Description",
         "rawType": "object",
         "type": "string"
        },
        {
         "name": "FM 01_Invoices Revenue",
         "rawType": "float64",
         "type": "float"
        },
        {
         "name": "FM 07_Gross Profit",
         "rawType": "float64",
         "type": "float"
        }
       ],
       "conversionMethod": "pd.DataFrame",
       "ref": "9e8467cd-d9f4-4184-8a4e-8a12e101a95b",
       "rows": [
        [
         "0",
         "LOẠI KHÁC",
         "MISCELLANEOUS",
         "BÁCH HÓA TỔNG HỢP",
         "01-2025",
         "1013",
         "Retail",
         "29536292.0",
         "5316533.0"
        ],
        [
         "1",
         "LOẠI KHÁC",
         "MISCELLANEOUS",
         "BÁCH HÓA TỔNG HỢP",
         "01-2025",
         "1115",
         "Retail",
         "99000.0",
         "17820.0"
        ],
        [
         "2",
         "LOẠI KHÁC",
         "MISCELLANEOUS",
         "BÁCH HÓA TỔNG HỢP",
         "01-2025",
         "1115",
         "Retail",
         "-99000.0",
         "-17820.0"
        ],
        [
         "3",
         "LOẠI KHÁC",
         "MISCELLANEOUS",
         "BÁCH HÓA TỔNG HỢP",
         "01-2025",
         "1473",
         "Retail",
         "396000.0",
         "71280.0"
        ],
        [
         "4",
         "LOẠI KHÁC",
         "MISCELLANEOUS",
         "BÁCH HÓA TỔNG HỢP",
         "01-2025",
         "1473",
         "Retail",
         "-396000.0",
         "-71280.0"
        ],
        [
         "5",
         "LOẠI KHÁC",
         "MISCELLANEOUS",
         "BÁCH HÓA TỔNG HỢP",
         "01-2025",
         "1493",
         "Retail",
         "198000.0",
         "35640.0"
        ],
        [
         "6",
         "LOẠI KHÁC",
         "MISCELLANEOUS",
         "BÁCH HÓA TỔNG HỢP",
         "01-2025",
         "1493",
         "Retail",
         "-198000.0",
         "-35640.0"
        ],
        [
         "7",
         "LOẠI KHÁC",
         "MISCELLANEOUS",
         "BÁCH HÓA TỔNG HỢP",
         "01-2025",
         "1504",
         "Retail",
         "1485000.0",
         "267300.0"
        ],
        [
         "8",
         "LOẠI KHÁC",
         "MISCELLANEOUS",
         "BÁCH HÓA TỔNG HỢP",
         "01-2025",
         "1504",
         "Retail",
         "-1485000.0",
         "-267300.0"
        ],
        [
         "9",
         "LOẠI KHÁC",
         "MISCELLANEOUS",
         "BÁCH HÓA TỔNG HỢP",
         "01-2025",
         "1541",
         "Retail",
         "594000.0",
         "106920.0"
        ],
        [
         "10",
         "LOẠI KHÁC",
         "MISCELLANEOUS",
         "BÁCH HÓA TỔNG HỢP",
         "01-2025",
         "1541",
         "Retail",
         "-594000.0",
         "-106920.0"
        ],
        [
         "11",
         "LOẠI KHÁC",
         "MISCELLANEOUS",
         "BÁCH HÓA TỔNG HỢP",
         "01-2025",
         "1558",
         "Retail",
         "297000.0",
         "53460.0"
        ],
        [
         "12",
         "LOẠI KHÁC",
         "MISCELLANEOUS",
         "BÁCH HÓA TỔNG HỢP",
         "01-2025",
         "1558",
         "Retail",
         "-297000.0",
         "-53460.0"
        ],
        [
         "13",
         "LOẠI KHÁC",
         "MISCELLANEOUS",
         "BÁCH HÓA TỔNG HỢP",
         "01-2025",
         "1647",
         "Online",
         "495000.0",
         "89100.0"
        ],
        [
         "14",
         "LOẠI KHÁC",
         "MISCELLANEOUS",
         "BÁCH HÓA TỔNG HỢP",
         "01-2025",
         "1647",
         "Online",
         "-495000.0",
         "-89100.0"
        ],
        [
         "15",
         "LOẠI KHÁC",
         "MISCELLANEOUS",
         "BÁCH HÓA TỔNG HỢP",
         "01-2025",
         "1647",
         "Retail",
         "1500984.0",
         "270177.0"
        ],
        [
         "16",
         "LOẠI KHÁC",
         "MISCELLANEOUS",
         "BÁCH HÓA TỔNG HỢP",
         "01-2025",
         "1647",
         "Retail",
         "31893.0",
         "5741.0"
        ],
        [
         "17",
         "LOẠI KHÁC",
         "MISCELLANEOUS",
         "BÁCH HÓA TỔNG HỢP",
         "01-2025",
         "1647",
         "Retail",
         "-1500984.0",
         "-270177.0"
        ],
        [
         "18",
         "LOẠI KHÁC",
         "SERVICE",
         "SERVICE",
         "01-2025",
         "1115",
         "Online",
         "653209.0",
         null
        ],
        [
         "20",
         "LOẠI KHÁC",
         "SERVICE",
         "SERVICE",
         "01-2025",
         "1115",
         "Retail",
         "4702131.0",
         null
        ],
        [
         "21",
         "LOẠI KHÁC",
         "SERVICE",
         "SERVICE",
         "01-2025",
         "1115",
         "Retail",
         "626680.0",
         null
        ],
        [
         "23",
         "LOẠI KHÁC",
         "SERVICE",
         "SERVICE",
         "01-2025",
         "1255",
         "Retail",
         "2405664.0",
         null
        ],
        [
         "24",
         "LOẠI KHÁC",
         "SERVICE",
         "SERVICE",
         "01-2025",
         "1256",
         "Online",
         "375305.0",
         null
        ],
        [
         "26",
         "LOẠI KHÁC",
         "SERVICE",
         "SERVICE",
         "01-2025",
         "1256",
         "Retail",
         "3252825.0",
         null
        ],
        [
         "27",
         "LOẠI KHÁC",
         "SERVICE",
         "SERVICE",
         "01-2025",
         "1277",
         "Online",
         "291545.0",
         null
        ],
        [
         "29",
         "LOẠI KHÁC",
         "SERVICE",
         "SERVICE",
         "01-2025",
         "1277",
         "Retail",
         "11851398.0",
         null
        ],
        [
         "31",
         "LOẠI KHÁC",
         "SERVICE",
         "SERVICE",
         "01-2025",
         "1278",
         "Retail",
         "204092.0",
         null
        ],
        [
         "34",
         "LOẠI KHÁC",
         "SERVICE",
         "SERVICE",
         "01-2025",
         "1294",
         "Retail",
         "318036.0",
         null
        ],
        [
         "35",
         "LOẠI KHÁC",
         "SERVICE",
         "SERVICE",
         "01-2025",
         "1295",
         "Online",
         "517618.0",
         null
        ],
        [
         "37",
         "LOẠI KHÁC",
         "SERVICE",
         "SERVICE",
         "01-2025",
         "1295",
         "Retail",
         "19910.0",
         null
        ],
        [
         "39",
         "LOẠI KHÁC",
         "SERVICE",
         "SERVICE",
         "01-2025",
         "1307",
         "Retail",
         "174860.0",
         null
        ],
        [
         "41",
         "LOẠI KHÁC",
         "SERVICE",
         "SERVICE",
         "01-2025",
         "1314",
         "Retail",
         "1826509.0",
         null
        ],
        [
         "42",
         "LOẠI KHÁC",
         "SERVICE",
         "SERVICE",
         "01-2025",
         "1314",
         "Retail",
         "150000.0",
         null
        ],
        [
         "44",
         "LOẠI KHÁC",
         "SERVICE",
         "SERVICE",
         "01-2025",
         "1316",
         "Retail",
         "3361871.0",
         null
        ],
        [
         "46",
         "LOẠI KHÁC",
         "SERVICE",
         "SERVICE",
         "01-2025",
         "1318",
         "Online",
         "875455.0",
         null
        ],
        [
         "48",
         "LOẠI KHÁC",
         "SERVICE",
         "SERVICE",
         "01-2025",
         "1318",
         "Retail",
         "479070.0",
         null
        ],
        [
         "50",
         "LOẠI KHÁC",
         "SERVICE",
         "SERVICE",
         "01-2025",
         "1330",
         "Online",
         "143842.0",
         null
        ],
        [
         "52",
         "LOẠI KHÁC",
         "SERVICE",
         "SERVICE",
         "01-2025",
         "1370",
         "Online",
         "618873.0",
         null
        ],
        [
         "54",
         "LOẠI KHÁC",
         "SERVICE",
         "SERVICE",
         "01-2025",
         "1370",
         "Retail",
         "654545.0",
         null
        ],
        [
         "55",
         "LOẠI KHÁC",
         "SERVICE",
         "SERVICE",
         "01-2025",
         "1370",
         "Retail",
         "43630.0",
         null
        ],
        [
         "57",
         "LOẠI KHÁC",
         "SERVICE",
         "SERVICE",
         "01-2025",
         "1373",
         "Retail",
         "1149376.0",
         null
        ],
        [
         "58",
         "LOẠI KHÁC",
         "SERVICE",
         "SERVICE",
         "01-2025",
         "1373",
         "Retail",
         "560200.0",
         null
        ],
        [
         "59",
         "LOẠI KHÁC",
         "SERVICE",
         "SERVICE",
         "01-2025",
         "1376",
         "Online",
         "0.0",
         null
        ],
        [
         "61",
         "LOẠI KHÁC",
         "SERVICE",
         "SERVICE",
         "01-2025",
         "1376",
         "Retail",
         "0.0",
         null
        ],
        [
         "62",
         "LOẠI KHÁC",
         "SERVICE",
         "SERVICE",
         "01-2025",
         "1376",
         "Retail",
         "354000.0",
         null
        ],
        [
         "65",
         "LOẠI KHÁC",
         "SERVICE",
         "SERVICE",
         "01-2025",
         "1404",
         "Retail",
         "371520.0",
         null
        ],
        [
         "67",
         "LOẠI KHÁC",
         "SERVICE",
         "SERVICE",
         "01-2025",
         "1405",
         "Retail",
         "1258487.0",
         null
        ],
        [
         "68",
         "LOẠI KHÁC",
         "SERVICE",
         "SERVICE",
         "01-2025",
         "1409",
         "Online",
         "163636.0",
         null
        ],
        [
         "70",
         "LOẠI KHÁC",
         "SERVICE",
         "SERVICE",
         "01-2025",
         "1445",
         "Online",
         "27740.0",
         null
        ],
        [
         "72",
         "LOẠI KHÁC",
         "SERVICE",
         "SERVICE",
         "01-2025",
         "1447",
         "Online",
         "161351.0",
         null
        ]
       ],
       "shape": {
        "columns": 8,
        "rows": 3619
       }
      },
      "text/html": [
       "<div>\n",
       "<style scoped>\n",
       "    .dataframe tbody tr th:only-of-type {\n",
       "        vertical-align: middle;\n",
       "    }\n",
       "\n",
       "    .dataframe tbody tr th {\n",
       "        vertical-align: top;\n",
       "    }\n",
       "\n",
       "    .dataframe thead th {\n",
       "        text-align: right;\n",
       "    }\n",
       "</style>\n",
       "<table border=\"1\" class=\"dataframe\">\n",
       "  <thead>\n",
       "    <tr style=\"text-align: right;\">\n",
       "      <th></th>\n",
       "      <th>Product Group 2 Name</th>\n",
       "      <th>Product Group 3 Name</th>\n",
       "      <th>Product Group 4 Name</th>\n",
       "      <th>Month year</th>\n",
       "      <th>Plant Code</th>\n",
       "      <th>Channel Description</th>\n",
       "      <th>FM 01_Invoices Revenue</th>\n",
       "      <th>FM 07_Gross Profit</th>\n",
       "    </tr>\n",
       "  </thead>\n",
       "  <tbody>\n",
       "    <tr>\n",
       "      <th>0</th>\n",
       "      <td>LOẠI KHÁC</td>\n",
       "      <td>MISCELLANEOUS</td>\n",
       "      <td>BÁCH HÓA TỔNG HỢP</td>\n",
       "      <td>01-2025</td>\n",
       "      <td>1013</td>\n",
       "      <td>Retail</td>\n",
       "      <td>29536292.0</td>\n",
       "      <td>5316533.0</td>\n",
       "    </tr>\n",
       "    <tr>\n",
       "      <th>1</th>\n",
       "      <td>LOẠI KHÁC</td>\n",
       "      <td>MISCELLANEOUS</td>\n",
       "      <td>BÁCH HÓA TỔNG HỢP</td>\n",
       "      <td>01-2025</td>\n",
       "      <td>1115</td>\n",
       "      <td>Retail</td>\n",
       "      <td>99000.0</td>\n",
       "      <td>17820.0</td>\n",
       "    </tr>\n",
       "    <tr>\n",
       "      <th>2</th>\n",
       "      <td>LOẠI KHÁC</td>\n",
       "      <td>MISCELLANEOUS</td>\n",
       "      <td>BÁCH HÓA TỔNG HỢP</td>\n",
       "      <td>01-2025</td>\n",
       "      <td>1115</td>\n",
       "      <td>Retail</td>\n",
       "      <td>-99000.0</td>\n",
       "      <td>-17820.0</td>\n",
       "    </tr>\n",
       "    <tr>\n",
       "      <th>3</th>\n",
       "      <td>LOẠI KHÁC</td>\n",
       "      <td>MISCELLANEOUS</td>\n",
       "      <td>BÁCH HÓA TỔNG HỢP</td>\n",
       "      <td>01-2025</td>\n",
       "      <td>1473</td>\n",
       "      <td>Retail</td>\n",
       "      <td>396000.0</td>\n",
       "      <td>71280.0</td>\n",
       "    </tr>\n",
       "    <tr>\n",
       "      <th>4</th>\n",
       "      <td>LOẠI KHÁC</td>\n",
       "      <td>MISCELLANEOUS</td>\n",
       "      <td>BÁCH HÓA TỔNG HỢP</td>\n",
       "      <td>01-2025</td>\n",
       "      <td>1473</td>\n",
       "      <td>Retail</td>\n",
       "      <td>-396000.0</td>\n",
       "      <td>-71280.0</td>\n",
       "    </tr>\n",
       "    <tr>\n",
       "      <th>...</th>\n",
       "      <td>...</td>\n",
       "      <td>...</td>\n",
       "      <td>...</td>\n",
       "      <td>...</td>\n",
       "      <td>...</td>\n",
       "      <td>...</td>\n",
       "      <td>...</td>\n",
       "      <td>...</td>\n",
       "    </tr>\n",
       "    <tr>\n",
       "      <th>3841</th>\n",
       "      <td>THAU / HỢP KIM</td>\n",
       "      <td>THAU / HỢP KIM</td>\n",
       "      <td>TRANG SỨC KHÔNG GẮN ĐÁ</td>\n",
       "      <td>01-2025</td>\n",
       "      <td>1565</td>\n",
       "      <td>Online</td>\n",
       "      <td>313409.0</td>\n",
       "      <td>NaN</td>\n",
       "    </tr>\n",
       "    <tr>\n",
       "      <th>3842</th>\n",
       "      <td>THAU / HỢP KIM</td>\n",
       "      <td>THAU / HỢP KIM</td>\n",
       "      <td>TRANG SỨC KHÔNG GẮN ĐÁ</td>\n",
       "      <td>01-2025</td>\n",
       "      <td>1575</td>\n",
       "      <td>Retail</td>\n",
       "      <td>318182.0</td>\n",
       "      <td>NaN</td>\n",
       "    </tr>\n",
       "    <tr>\n",
       "      <th>3843</th>\n",
       "      <td>THAU / HỢP KIM</td>\n",
       "      <td>THAU / HỢP KIM</td>\n",
       "      <td>TRANG SỨC KHÔNG GẮN ĐÁ</td>\n",
       "      <td>01-2025</td>\n",
       "      <td>1634</td>\n",
       "      <td>Online</td>\n",
       "      <td>318182.0</td>\n",
       "      <td>NaN</td>\n",
       "    </tr>\n",
       "    <tr>\n",
       "      <th>3844</th>\n",
       "      <td>THAU / HỢP KIM</td>\n",
       "      <td>THAU / HỢP KIM</td>\n",
       "      <td>TRANG SỨC KHÔNG GẮN ĐÁ</td>\n",
       "      <td>01-2025</td>\n",
       "      <td>1634</td>\n",
       "      <td>Retail</td>\n",
       "      <td>318182.0</td>\n",
       "      <td>NaN</td>\n",
       "    </tr>\n",
       "    <tr>\n",
       "      <th>3845</th>\n",
       "      <td>THAU / HỢP KIM</td>\n",
       "      <td>THAU / HỢP KIM</td>\n",
       "      <td>TRANG SỨC KHÔNG GẮN ĐÁ</td>\n",
       "      <td>01-2025</td>\n",
       "      <td>1644</td>\n",
       "      <td>Retail</td>\n",
       "      <td>636364.0</td>\n",
       "      <td>NaN</td>\n",
       "    </tr>\n",
       "  </tbody>\n",
       "</table>\n",
       "<p>3619 rows × 8 columns</p>\n",
       "</div>"
      ],
      "text/plain": [
       "     Product Group 2 Name Product Group 3 Name    Product Group 4 Name  \\\n",
       "0               LOẠI KHÁC        MISCELLANEOUS       BÁCH HÓA TỔNG HỢP   \n",
       "1               LOẠI KHÁC        MISCELLANEOUS       BÁCH HÓA TỔNG HỢP   \n",
       "2               LOẠI KHÁC        MISCELLANEOUS       BÁCH HÓA TỔNG HỢP   \n",
       "3               LOẠI KHÁC        MISCELLANEOUS       BÁCH HÓA TỔNG HỢP   \n",
       "4               LOẠI KHÁC        MISCELLANEOUS       BÁCH HÓA TỔNG HỢP   \n",
       "...                   ...                  ...                     ...   \n",
       "3841       THAU / HỢP KIM       THAU / HỢP KIM  TRANG SỨC KHÔNG GẮN ĐÁ   \n",
       "3842       THAU / HỢP KIM       THAU / HỢP KIM  TRANG SỨC KHÔNG GẮN ĐÁ   \n",
       "3843       THAU / HỢP KIM       THAU / HỢP KIM  TRANG SỨC KHÔNG GẮN ĐÁ   \n",
       "3844       THAU / HỢP KIM       THAU / HỢP KIM  TRANG SỨC KHÔNG GẮN ĐÁ   \n",
       "3845       THAU / HỢP KIM       THAU / HỢP KIM  TRANG SỨC KHÔNG GẮN ĐÁ   \n",
       "\n",
       "     Month year  Plant Code Channel Description  FM 01_Invoices Revenue  \\\n",
       "0       01-2025        1013              Retail              29536292.0   \n",
       "1       01-2025        1115              Retail                 99000.0   \n",
       "2       01-2025        1115              Retail                -99000.0   \n",
       "3       01-2025        1473              Retail                396000.0   \n",
       "4       01-2025        1473              Retail               -396000.0   \n",
       "...         ...         ...                 ...                     ...   \n",
       "3841    01-2025        1565              Online                313409.0   \n",
       "3842    01-2025        1575              Retail                318182.0   \n",
       "3843    01-2025        1634              Online                318182.0   \n",
       "3844    01-2025        1634              Retail                318182.0   \n",
       "3845    01-2025        1644              Retail                636364.0   \n",
       "\n",
       "      FM 07_Gross Profit  \n",
       "0              5316533.0  \n",
       "1                17820.0  \n",
       "2               -17820.0  \n",
       "3                71280.0  \n",
       "4               -71280.0  \n",
       "...                  ...  \n",
       "3841                 NaN  \n",
       "3842                 NaN  \n",
       "3843                 NaN  \n",
       "3844                 NaN  \n",
       "3845                 NaN  \n",
       "\n",
       "[3619 rows x 8 columns]"
      ]
     },
     "execution_count": 80,
     "metadata": {},
     "output_type": "execute_result"
    }
   ],
   "source": [
    "# extract year from series\n",
    "y = pd.to_datetime(df_tsv[\"Month year\"]).dt.year.unique()\n",
    "y\n",
    "\n",
    "# filter by year in list\n",
    "df_tsv[df_tsv[\"Month year\"].str.contains('|'.join(map(str, y)))]\n",
    "# df_tsv[\"Month year\"].dt.year()\n",
    "# pd.to_datetime(df_tsv[\"Month year\"].unique(), format='%m-%Y').dt.strftime('%Y')"
   ]
  },
  {
   "cell_type": "code",
   "execution_count": 46,
   "metadata": {},
   "outputs": [
    {
     "name": "stdout",
     "output_type": "stream",
     "text": [
      "7728\n"
     ]
    },
    {
     "data": {
      "text/plain": [
       "FM 01_Invoices Revenue    426.567428\n",
       "FM 07_Gross Profit        100.327153\n",
       "dtype: float64"
      ]
     },
     "execution_count": 46,
     "metadata": {},
     "output_type": "execute_result"
    }
   ],
   "source": [
    "parquet_file = 'output.parquet'\n",
    "\n",
    "df = pd.read_parquet(parquet_file)\n",
    "df = df[df[\"Month year\"] == \"Jan 2025\"]\n",
    "lv2 = [\"DÂY ĐỒNG HỒ\", \"MẮT KÍNH\", \"ĐỒNG HỒ\"]\n",
    "lv3 = [\"CAO\"]\n",
    "lv4 = [\"TRANH/TƯỢNG/BIỂU TƯỢNG\", \"VÀNG ÉP SIÊU PNJ\", \"VÀNG ÉP SIÊU SJC\"]\n",
    "account_code = ['0051131000', '0051132000']\n",
    "col = [\"Product Group 2 Name\", \"Product Group 3 Name\", \"Product Group 4 Name\", \"Month year\", \\\n",
    "    \"Plant Code\", \"Channel Description\", \"FM 01_Invoices Revenue\", \"FM 07_Gross Profit\"]\n",
    "\n",
    "df_tsv = df.copy()\n",
    "df_tsv[\"FM 01_Invoices Revenue\"] = df_tsv[\"FM 01_Invoices Revenue\"].astype('float')\n",
    "df_tsv[\"FM 07_Gross Profit\"] = df_tsv[\"FM 07_Gross Profit\"].astype('float')\n",
    "\n",
    "df_tsv = df_tsv[~df_tsv[\"Product Group 2 Name\"].isin(lv2)]\n",
    "print(len(df_tsv))\n",
    "df_tsv = df_tsv[~df_tsv[\"Product Group 3 Name\"].isin(lv3)]\n",
    "df_tsv = df_tsv[~df_tsv[\"Product Group 4 Name\"].isin(lv4)]\n",
    "df_tsv = df_tsv[~df_tsv[\"GL Account Code\"].isin(account_code)]\n",
    "\n",
    "# print(df_tsv[\"GL Account Code\"].unique())\n",
    "# df_tsv[df_tsv[\"Product Group 4 Name\"] == \"KIM CƯƠNG\"][[\"FM 01_Invoices Revenue\", \"FM 07_Gross Profit\"]].sum() / 1e9\n",
    "# df_tsv = df_tsv[col]\n",
    "# print(df_tsv['FM 01_Invoices Revenue'].astype('float').sum() / 1e9)\n",
    "df_tsv.groupby(by=['Product Group 4 Name'])[[\"FM 01_Invoices Revenue\", \"FM 07_Gross Profit\"]].sum() / 1e9\n",
    "df_tsv[[\"FM 01_Invoices Revenue\", \"FM 07_Gross Profit\"]].sum() / 1e9\n",
    "# df_tsv[\"FM 01_Invoices Revenue\"].sum() / 1e9 / 2"
   ]
  },
  {
   "cell_type": "code",
   "execution_count": null,
   "metadata": {},
   "outputs": [
    {
     "ename": "NameError",
     "evalue": "name 'data_tsv' is not defined",
     "output_type": "error",
     "traceback": [
      "\u001b[1;31m---------------------------------------------------------------------------\u001b[0m",
      "\u001b[1;31mNameError\u001b[0m                                 Traceback (most recent call last)",
      "Cell \u001b[1;32mIn[1], line 51\u001b[0m\n\u001b[0;32m     46\u001b[0m         sum_fm_vm07 \u001b[38;5;241m=\u001b[39m data_vm[(data_vm[\u001b[38;5;124m\"\u001b[39m\u001b[38;5;124mPlant Code\u001b[39m\u001b[38;5;124m\"\u001b[39m]\u001b[38;5;241m.\u001b[39misin(plant_code)) \u001b[38;5;241m&\u001b[39m (data_vm[\u001b[38;5;124m\"\u001b[39m\u001b[38;5;124mMonth year\u001b[39m\u001b[38;5;124m\"\u001b[39m]\u001b[38;5;241m.\u001b[39mdt\u001b[38;5;241m.\u001b[39myear\u001b[38;5;241m.\u001b[39misin(year))][\u001b[38;5;124m\"\u001b[39m\u001b[38;5;124mFM 07_Gross Profit\u001b[39m\u001b[38;5;124m\"\u001b[39m]\u001b[38;5;241m.\u001b[39msum() \u001b[38;5;241m/\u001b[39m \u001b[38;5;241m1e9\u001b[39m\n\u001b[0;32m     48\u001b[0m     \u001b[38;5;28;01mreturn\u001b[39;00m sum_fm_tsv01, sum_fm_vm01, sum_fm_tsv07, sum_fm_vm07     \n\u001b[1;32m---> 51\u001b[0m sum_fm_tsv01, sum_fm_vm01, sum_fm_tsv07, sum_fm_vm07 \u001b[38;5;241m=\u001b[39m \u001b[43mchitieu\u001b[49m\u001b[43m(\u001b[49m\u001b[43m[\u001b[49m\u001b[38;5;241;43m2025\u001b[39;49m\u001b[43m]\u001b[49m\u001b[43m,\u001b[49m\u001b[43m \u001b[49m\u001b[38;5;241;43m1\u001b[39;49m\u001b[43m,\u001b[49m\u001b[43m \u001b[49m\u001b[43mplant_code\u001b[49m\u001b[38;5;241;43m=\u001b[39;49m\u001b[38;5;124;43m'\u001b[39;49m\u001b[38;5;124;43mSelect All\u001b[39;49m\u001b[38;5;124;43m'\u001b[39;49m\u001b[43m)\u001b[49m\n",
      "Cell \u001b[1;32mIn[1], line 38\u001b[0m, in \u001b[0;36mchitieu\u001b[1;34m(year, month, plant_code)\u001b[0m\n\u001b[0;32m     36\u001b[0m df_tsv, df_vm \u001b[38;5;241m=\u001b[39m dthu()\n\u001b[0;32m     37\u001b[0m \u001b[38;5;28;01mif\u001b[39;00m plant_code \u001b[38;5;241m==\u001b[39m \u001b[38;5;124m'\u001b[39m\u001b[38;5;124mSelect All\u001b[39m\u001b[38;5;124m'\u001b[39m:\n\u001b[1;32m---> 38\u001b[0m     sum_fm_tsv01 \u001b[38;5;241m=\u001b[39m \u001b[43mdata_tsv\u001b[49m[data_tsv[\u001b[38;5;124m\"\u001b[39m\u001b[38;5;124mMonth year\u001b[39m\u001b[38;5;124m\"\u001b[39m]\u001b[38;5;241m.\u001b[39mdt\u001b[38;5;241m.\u001b[39myear\u001b[38;5;241m.\u001b[39misin(year)][\u001b[38;5;124m\"\u001b[39m\u001b[38;5;124mFM 01_Invoices Revenue\u001b[39m\u001b[38;5;124m\"\u001b[39m]\u001b[38;5;241m.\u001b[39msum() \u001b[38;5;241m/\u001b[39m \u001b[38;5;241m1e9\u001b[39m\n\u001b[0;32m     39\u001b[0m     sum_fm_vm01 \u001b[38;5;241m=\u001b[39m data_vm[data_vm[\u001b[38;5;124m\"\u001b[39m\u001b[38;5;124mMonth year\u001b[39m\u001b[38;5;124m\"\u001b[39m]\u001b[38;5;241m.\u001b[39mdt\u001b[38;5;241m.\u001b[39myear\u001b[38;5;241m.\u001b[39misin(year)][\u001b[38;5;124m\"\u001b[39m\u001b[38;5;124mFM 01_Invoices Revenue\u001b[39m\u001b[38;5;124m\"\u001b[39m]\u001b[38;5;241m.\u001b[39msum() \u001b[38;5;241m/\u001b[39m \u001b[38;5;241m1e9\u001b[39m\n\u001b[0;32m     40\u001b[0m     sum_fm_tsv07 \u001b[38;5;241m=\u001b[39m data_tsv[data_tsv[\u001b[38;5;124m\"\u001b[39m\u001b[38;5;124mMonth year\u001b[39m\u001b[38;5;124m\"\u001b[39m]\u001b[38;5;241m.\u001b[39mdt\u001b[38;5;241m.\u001b[39myear\u001b[38;5;241m.\u001b[39misin(year)][\u001b[38;5;124m\"\u001b[39m\u001b[38;5;124mFM 07_Gross Profit\u001b[39m\u001b[38;5;124m\"\u001b[39m]\u001b[38;5;241m.\u001b[39msum() \u001b[38;5;241m/\u001b[39m \u001b[38;5;241m1e9\u001b[39m\n",
      "\u001b[1;31mNameError\u001b[0m: name 'data_tsv' is not defined"
     ]
    }
   ],
   "source": [
    "import pandas as pd \n",
    "from glob import glob\n",
    "import os\n",
    "import requests\n",
    "\n",
    "import warnings\n",
    "warnings.filterwarnings(\"ignore\")\n",
    "\n",
    "parquet = r\"https://raw.githubusercontent.com/Huynh-Tr/report/main/dthu.parquet\"\n",
    "\n",
    "def dthu():\n",
    "    df = pd.read_parquet(parquet)\n",
    "    df = df[df[\"Month year\"] != \"Month year\"]\n",
    "    df[\"Month year\"] = pd.to_datetime(df[\"Month year\"]).dt.to_period('M')\n",
    "    lv2 = [\"DÂY ĐỒNG HỒ\", \"MẮT KÍNH\", \"ĐỒNG HỒ\"]\n",
    "    lv3 = [\"CAO\"]\n",
    "    lv4 = [\"TRANH/TƯỢNG/BIỂU TƯỢNG\", \"VÀNG ÉP SIÊU PNJ\", \"VÀNG ÉP SIÊU SJC\"]\n",
    "    account_code = [51131000, 51132000]\n",
    "    col = [\"Product Group 2 Name\", \"Product Group 3 Name\", \"Product Group 4 Name\", \"Month year\", \\\n",
    "        \"Plant Code\", \"Channel Description\", \"FM 01_Invoices Revenue\", \"FM 07_Gross Profit\"]\n",
    "\n",
    "    df_tsv = df.copy()\n",
    "    df_tsv = df_tsv[~df_tsv[\"Product Group 2 Name\"].isin(lv2)]\n",
    "    df_tsv = df_tsv[~df_tsv[\"Product Group 3 Name\"].isin(lv3)]\n",
    "    df_tsv = df_tsv[~df_tsv[\"Product Group 4 Name\"].isin(lv4)]\n",
    "    df_tsv = df_tsv[~df_tsv[\"GL Account Code\"].isin(account_code)]\n",
    "    df_tsv = df_tsv[col]\n",
    "\n",
    "    df_vm = df.copy()\n",
    "    df_vm = df_vm[df_vm[\"Product Group 4 Name\"].isin(lv4)]\n",
    "    df_vm = df_vm[col]\n",
    "\n",
    "    return df_tsv, df_vm\n",
    "\n",
    "def chitieu(year, month, plant_code='Select All'):\n",
    "    data_tsv, data_vm = dthu()\n",
    "    if plant_code == 'Select All':\n",
    "        sum_fm_tsv01 = data_tsv[data_tsv[\"Month year\"].dt.year.isin(year)][\"FM 01_Invoices Revenue\"].sum() / 1e9\n",
    "        sum_fm_vm01 = data_vm[data_vm[\"Month year\"].dt.year.isin(year)][\"FM 01_Invoices Revenue\"].sum() / 1e9\n",
    "        sum_fm_tsv07 = data_tsv[data_tsv[\"Month year\"].dt.year.isin(year)][\"FM 07_Gross Profit\"].sum() / 1e9\n",
    "        sum_fm_vm07 = data_vm[data_vm[\"Month year\"].dt.year.isin(year)][\"FM 07_Gross Profit\"].sum() / 1e9\n",
    "    else:\n",
    "        sum_fm_tsv01 = data_tsv[(data_tsv[\"Plant Code\"].isin(plant_code)) & (data_tsv[\"Month year\"].dt.year.isin(year))][\"FM 01_Invoices Revenue\"].sum() / 1e9\n",
    "        sum_fm_vm01 = data_vm[(data_vm[\"Plant Code\"].isin(plant_code)) & (data_vm[\"Month year\"].dt.year.isin(year))][\"FM 01_Invoices Revenue\"].sum() / 1e9\n",
    "        sum_fm_tsv07 = data_tsv[(data_tsv[\"Plant Code\"].isin(plant_code)) & (data_tsv[\"Month year\"].dt.year.isin(year))][\"FM 07_Gross Profit\"].sum() / 1e9\n",
    "        sum_fm_vm07 = data_vm[(data_vm[\"Plant Code\"].isin(plant_code)) & (data_vm[\"Month year\"].dt.year.isin(year))][\"FM 07_Gross Profit\"].sum() / 1e9\n",
    "\n",
    "    return sum_fm_tsv01, sum_fm_vm01, sum_fm_tsv07, sum_fm_vm07     \n",
    "    \n",
    "\n",
    "sum_fm_tsv01, sum_fm_vm01, sum_fm_tsv07, sum_fm_vm07 = chitieu([2025], 1, plant_code='Select All')"
   ]
  },
  {
   "cell_type": "markdown",
   "metadata": {},
   "source": [
    "# Parquet"
   ]
  },
  {
   "cell_type": "code",
   "execution_count": 2,
   "metadata": {},
   "outputs": [],
   "source": [
    "import pandas as pd\n",
    "import pyarrow as pa\n",
    "import pyarrow.parquet as pq\n",
    "from glob import glob  # For handling multiple CSV files\n",
    "import os"
   ]
  },
  {
   "cell_type": "code",
   "execution_count": 156,
   "metadata": {},
   "outputs": [],
   "source": [
    "path = \"D:\\pnj.com.vn\\HuynhTN - Documents\\Project\\streamlit\"\n",
    "\n",
    "csv_files = glob(os.path.join(path, \"Dthu\\\\*.csv\"))  # Get all CSV files in the directory\n",
    "# create a directory to save parquet files\n",
    "if not os.path.exists(os.path.join(path, \".\\parquet_files\")):\n",
    "    os.makedirs(os.path.join(path, \".\\parquet_files\"))\n",
    "\n",
    "parquet_directory = os.path.join(path, \"dthu_parquet_files\")\n",
    "\n",
    "for csv_file in csv_files:\n",
    "    df = pd.read_csv(csv_file)\n",
    "    table = pa.Table.from_pandas(df)\n",
    "\n",
    "    # Create parquet filename based on csv filename:\n",
    "    parquet_file = parquet_directory + \"\\\\\" + os.path.basename(csv_file).replace('.csv', '.parquet')\n",
    "\n",
    "    pq.write_table(table, parquet_file)\n"
   ]
  },
  {
   "cell_type": "code",
   "execution_count": null,
   "metadata": {},
   "outputs": [
    {
     "name": "stderr",
     "output_type": "stream",
     "text": [
      "<>:48: SyntaxWarning: invalid escape sequence '\\p'\n",
      "<>:48: SyntaxWarning: invalid escape sequence '\\p'\n",
      "C:\\Users\\huynh.th\\AppData\\Local\\Temp\\ipykernel_32680\\2253336765.py:48: SyntaxWarning: invalid escape sequence '\\p'\n",
      "  path = \"D:\\pnj.com.vn\\HuynhTN - Documents\\Project\\streamlit\"\n"
     ]
    },
    {
     "name": "stdout",
     "output_type": "stream",
     "text": [
      "An unexpected error occurred while processing D:\\pnj.com.vn\\HuynhTN - Documents\\Project\\streamlit\\Dthu\\202101.csv: __cinit__() got an unexpected keyword argument 'append'\n",
      "An unexpected error occurred while processing D:\\pnj.com.vn\\HuynhTN - Documents\\Project\\streamlit\\Dthu\\202102.csv: __cinit__() got an unexpected keyword argument 'append'\n",
      "An unexpected error occurred while processing D:\\pnj.com.vn\\HuynhTN - Documents\\Project\\streamlit\\Dthu\\202103.csv: __cinit__() got an unexpected keyword argument 'append'\n",
      "An unexpected error occurred while processing D:\\pnj.com.vn\\HuynhTN - Documents\\Project\\streamlit\\Dthu\\202104.csv: __cinit__() got an unexpected keyword argument 'append'\n",
      "An unexpected error occurred while processing D:\\pnj.com.vn\\HuynhTN - Documents\\Project\\streamlit\\Dthu\\202105.csv: __cinit__() got an unexpected keyword argument 'append'\n",
      "An unexpected error occurred while processing D:\\pnj.com.vn\\HuynhTN - Documents\\Project\\streamlit\\Dthu\\202106.csv: __cinit__() got an unexpected keyword argument 'append'\n",
      "An unexpected error occurred while processing D:\\pnj.com.vn\\HuynhTN - Documents\\Project\\streamlit\\Dthu\\202107.csv: __cinit__() got an unexpected keyword argument 'append'\n",
      "An unexpected error occurred while processing D:\\pnj.com.vn\\HuynhTN - Documents\\Project\\streamlit\\Dthu\\202108.csv: __cinit__() got an unexpected keyword argument 'append'\n",
      "An unexpected error occurred while processing D:\\pnj.com.vn\\HuynhTN - Documents\\Project\\streamlit\\Dthu\\202109.csv: __cinit__() got an unexpected keyword argument 'append'\n",
      "An unexpected error occurred while processing D:\\pnj.com.vn\\HuynhTN - Documents\\Project\\streamlit\\Dthu\\202110.csv: __cinit__() got an unexpected keyword argument 'append'\n",
      "An unexpected error occurred while processing D:\\pnj.com.vn\\HuynhTN - Documents\\Project\\streamlit\\Dthu\\202111.csv: __cinit__() got an unexpected keyword argument 'append'\n",
      "An unexpected error occurred while processing D:\\pnj.com.vn\\HuynhTN - Documents\\Project\\streamlit\\Dthu\\202112.csv: __cinit__() got an unexpected keyword argument 'append'\n",
      "An unexpected error occurred while processing D:\\pnj.com.vn\\HuynhTN - Documents\\Project\\streamlit\\Dthu\\202201.csv: __cinit__() got an unexpected keyword argument 'append'\n",
      "An unexpected error occurred while processing D:\\pnj.com.vn\\HuynhTN - Documents\\Project\\streamlit\\Dthu\\202202.csv: __cinit__() got an unexpected keyword argument 'append'\n",
      "An unexpected error occurred while processing D:\\pnj.com.vn\\HuynhTN - Documents\\Project\\streamlit\\Dthu\\202203.csv: __cinit__() got an unexpected keyword argument 'append'\n",
      "An unexpected error occurred while processing D:\\pnj.com.vn\\HuynhTN - Documents\\Project\\streamlit\\Dthu\\202204.csv: __cinit__() got an unexpected keyword argument 'append'\n",
      "An unexpected error occurred while processing D:\\pnj.com.vn\\HuynhTN - Documents\\Project\\streamlit\\Dthu\\202205.csv: __cinit__() got an unexpected keyword argument 'append'\n",
      "An unexpected error occurred while processing D:\\pnj.com.vn\\HuynhTN - Documents\\Project\\streamlit\\Dthu\\202206.csv: __cinit__() got an unexpected keyword argument 'append'\n",
      "An unexpected error occurred while processing D:\\pnj.com.vn\\HuynhTN - Documents\\Project\\streamlit\\Dthu\\202207.csv: __cinit__() got an unexpected keyword argument 'append'\n",
      "An unexpected error occurred while processing D:\\pnj.com.vn\\HuynhTN - Documents\\Project\\streamlit\\Dthu\\202208.csv: __cinit__() got an unexpected keyword argument 'append'\n",
      "An unexpected error occurred while processing D:\\pnj.com.vn\\HuynhTN - Documents\\Project\\streamlit\\Dthu\\202209.csv: __cinit__() got an unexpected keyword argument 'append'\n",
      "An unexpected error occurred while processing D:\\pnj.com.vn\\HuynhTN - Documents\\Project\\streamlit\\Dthu\\202210.csv: __cinit__() got an unexpected keyword argument 'append'\n",
      "An unexpected error occurred while processing D:\\pnj.com.vn\\HuynhTN - Documents\\Project\\streamlit\\Dthu\\202211.csv: __cinit__() got an unexpected keyword argument 'append'\n",
      "An unexpected error occurred while processing D:\\pnj.com.vn\\HuynhTN - Documents\\Project\\streamlit\\Dthu\\202212.csv: __cinit__() got an unexpected keyword argument 'append'\n",
      "An unexpected error occurred while processing D:\\pnj.com.vn\\HuynhTN - Documents\\Project\\streamlit\\Dthu\\202301.csv: __cinit__() got an unexpected keyword argument 'append'\n",
      "An unexpected error occurred while processing D:\\pnj.com.vn\\HuynhTN - Documents\\Project\\streamlit\\Dthu\\202302.csv: __cinit__() got an unexpected keyword argument 'append'\n",
      "An unexpected error occurred while processing D:\\pnj.com.vn\\HuynhTN - Documents\\Project\\streamlit\\Dthu\\202303.csv: __cinit__() got an unexpected keyword argument 'append'\n",
      "An unexpected error occurred while processing D:\\pnj.com.vn\\HuynhTN - Documents\\Project\\streamlit\\Dthu\\202304.csv: __cinit__() got an unexpected keyword argument 'append'\n",
      "An unexpected error occurred while processing D:\\pnj.com.vn\\HuynhTN - Documents\\Project\\streamlit\\Dthu\\202305.csv: __cinit__() got an unexpected keyword argument 'append'\n",
      "An unexpected error occurred while processing D:\\pnj.com.vn\\HuynhTN - Documents\\Project\\streamlit\\Dthu\\202306.csv: __cinit__() got an unexpected keyword argument 'append'\n",
      "An unexpected error occurred while processing D:\\pnj.com.vn\\HuynhTN - Documents\\Project\\streamlit\\Dthu\\202307.csv: __cinit__() got an unexpected keyword argument 'append'\n",
      "An unexpected error occurred while processing D:\\pnj.com.vn\\HuynhTN - Documents\\Project\\streamlit\\Dthu\\202308.csv: __cinit__() got an unexpected keyword argument 'append'\n",
      "An unexpected error occurred while processing D:\\pnj.com.vn\\HuynhTN - Documents\\Project\\streamlit\\Dthu\\202309.csv: __cinit__() got an unexpected keyword argument 'append'\n",
      "An unexpected error occurred while processing D:\\pnj.com.vn\\HuynhTN - Documents\\Project\\streamlit\\Dthu\\202310.csv: __cinit__() got an unexpected keyword argument 'append'\n",
      "An unexpected error occurred while processing D:\\pnj.com.vn\\HuynhTN - Documents\\Project\\streamlit\\Dthu\\202311.csv: __cinit__() got an unexpected keyword argument 'append'\n",
      "An unexpected error occurred while processing D:\\pnj.com.vn\\HuynhTN - Documents\\Project\\streamlit\\Dthu\\202312.csv: __cinit__() got an unexpected keyword argument 'append'\n",
      "An unexpected error occurred while processing D:\\pnj.com.vn\\HuynhTN - Documents\\Project\\streamlit\\Dthu\\20241-9.csv: __cinit__() got an unexpected keyword argument 'append'\n",
      "An unexpected error occurred while processing D:\\pnj.com.vn\\HuynhTN - Documents\\Project\\streamlit\\Dthu\\202410.csv: __cinit__() got an unexpected keyword argument 'append'\n",
      "An unexpected error occurred while processing D:\\pnj.com.vn\\HuynhTN - Documents\\Project\\streamlit\\Dthu\\202411.csv: __cinit__() got an unexpected keyword argument 'append'\n",
      "An unexpected error occurred while processing D:\\pnj.com.vn\\HuynhTN - Documents\\Project\\streamlit\\Dthu\\202412.csv: __cinit__() got an unexpected keyword argument 'append'\n",
      "An unexpected error occurred while processing D:\\pnj.com.vn\\HuynhTN - Documents\\Project\\streamlit\\Dthu\\202501.csv: __cinit__() got an unexpected keyword argument 'append'\n",
      "CSV files appended to Parquet file: output.parquet\n"
     ]
    }
   ],
   "source": [
    "\n",
    "\n",
    "# if not os.path.exists(os.path.join(path, \".\\parquet_files\")):\n",
    "#     os.makedirs(os.path.join(path, \".\\parquet_files\"))\n",
    "\n",
    "# parquet_directory = os.path.join(path, \"parquet_files\\\\file.parquet\")\n",
    "\n",
    "import pandas as pd\n",
    "import pyarrow as pa\n",
    "import pyarrow.parquet as pq\n",
    "from glob import glob\n",
    "import os\n",
    "\n",
    "def csv_to_parquet_append_legacy(csv_files, parquet_file):  # Legacy method\n",
    "     if not os.path.exists(parquet_file):\n",
    "         try:\n",
    "             first_df = pd.read_csv(csv_files)\n",
    "             table = pa.Table.from_pandas(first_df)\n",
    "             pq.write_table(table, parquet_file)\n",
    "         except FileNotFoundError:\n",
    "             print(f\"Error: First CSV file '{csv_files}' not found. Cannot create Parquet file.\")\n",
    "             return\n",
    "         except Exception as e:\n",
    "             print(f\"Error creating initial Parquet file: {e}\")\n",
    "             return\n",
    "\n",
    "     for csv_file in csv_files:\n",
    "         try:\n",
    "             df = pd.read_csv(csv_file)\n",
    "             table = pa.Table.from_pandas(df)\n",
    "\n",
    "             if os.path.exists(parquet_file):  # Read existing Parquet file\n",
    "                 existing_table = pq.read_table(parquet_file)\n",
    "                 combined_table = pa.concat_tables([existing_table, table]) # Concatenate tables\n",
    "                 pq.write_table(combined_table, parquet_file) # Write combined table back\n",
    "\n",
    "             else: #If file doesn't exist, write the table directly\n",
    "                 pq.write_table(table, parquet_file)\n",
    "\n",
    "         except FileNotFoundError:\n",
    "             print(f\"Error: CSV file '{csv_file}' not found.\")\n",
    "         except pa.lib.ArrowInvalid as e:\n",
    "             print(f\"Error converting CSV to Parquet: {e}. Check data types for file: {csv_file}\")\n",
    "         except Exception as e:\n",
    "             print(f\"An unexpected error occurred while processing {csv_file}: {e}\")\n",
    "\n",
    "# Example usage:\n",
    "path = \"D:\\pnj.com.vn\\HuynhTN - Documents\\Project\\streamlit\"\n",
    "csv_files = glob(os.path.join(path, \"Dthu\\\\*.csv\"))  # Get all CSV files in the directory\n",
    "\n",
    "parquet_file = 'output.parquet'  # Replace with your desired Parquet file path\n",
    "\n",
    "csv_to_parquet_append(csv_files, parquet_file)\n",
    "\n",
    "print(f\"CSV files appended to Parquet file: {parquet_file}\")"
   ]
  },
  {
   "cell_type": "code",
   "execution_count": 13,
   "metadata": {},
   "outputs": [],
   "source": [
    "# create an empty parquet file\n",
    "import pyarrow as pa\n",
    "import pyarrow.parquet as pq\n",
    "\n",
    "# Create an Arrow table with an empty schema\n",
    "parquet_file = 'output.parquet'\n",
    "table = pa.Table.from_pandas(pd.DataFrame())\n",
    "pq.write_table(table, parquet_file)"
   ]
  },
  {
   "cell_type": "code",
   "execution_count": 47,
   "metadata": {},
   "outputs": [],
   "source": [
    "import pyarrow as pa\n",
    "import pyarrow.parquet as pq\n",
    "\n",
    "# Create an Arrow table with an empty schema\n",
    "parquet_file = 'output.parquet'\n",
    "table = pa.Table.from_pandas(pd.DataFrame())\n",
    "# pq.write_table(table, parquet_file)\n",
    "\n",
    "# Path = \"D:\\pnj.com.vn\\HuynhTN - Documents\\Project\\streamlit\"\n",
    "path = \"D:\\pnj.com.vn\\HuynhTN - Documents\\Project\\streamlit\"\n",
    "csv_files = glob(os.path.join(path, \"Dthu\\\\*.csv\"))  # Get all CSV files in the directory\n",
    "\n",
    "pd_df = pd.concat([pd.read_csv(csv_file) for csv_file in csv_files])\n",
    "table = pa.Table.from_pandas(pd_df)\n",
    "pq.write_table(table, parquet_file)"
   ]
  }
 ],
 "metadata": {
  "kernelspec": {
   "display_name": "Python 3",
   "language": "python",
   "name": "python3"
  },
  "language_info": {
   "codemirror_mode": {
    "name": "ipython",
    "version": 3
   },
   "file_extension": ".py",
   "mimetype": "text/x-python",
   "name": "python",
   "nbconvert_exporter": "python",
   "pygments_lexer": "ipython3",
   "version": "3.12.2"
  }
 },
 "nbformat": 4,
 "nbformat_minor": 2
}
